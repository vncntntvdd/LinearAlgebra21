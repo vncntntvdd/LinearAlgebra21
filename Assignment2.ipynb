{
  "nbformat": 4,
  "nbformat_minor": 0,
  "metadata": {
    "colab": {
      "name": "Assignment2.ipynb",
      "provenance": [],
      "collapsed_sections": [
        "CuacBmN6-RXi"
      ],
      "authorship_tag": "ABX9TyPQ+Lf4axq7335WC6Dq9CAP",
      "include_colab_link": true
    },
    "kernelspec": {
      "name": "python3",
      "display_name": "Python 3"
    },
    "language_info": {
      "name": "python"
    }
  },
  "cells": [
    {
      "cell_type": "markdown",
      "metadata": {
        "id": "view-in-github",
        "colab_type": "text"
      },
      "source": [
        "<a href=\"https://colab.research.google.com/github/vncntntvdd/LinearAlgebra21/blob/main/Assignment2.ipynb\" target=\"_parent\"><img src=\"https://colab.research.google.com/assets/colab-badge.svg\" alt=\"Open In Colab\"/></a>"
      ]
    },
    {
      "cell_type": "markdown",
      "metadata": {
        "id": "0Iclku7T1nGU"
      },
      "source": [
        "# ***Welcome to Python Fundamentals***\n",
        "\n",
        "---\n",
        "\n",
        "\n",
        "*In this module, we are going to establish our skills in Python programming. In this notebook we are going to cover:*\n",
        "\n",
        "\n",
        "*   *Variables and Data Types*\n",
        "*   *Operations*\n",
        "*   *Input and Output Operations*\n",
        "*   *Logic* *Control*\n",
        "*   *Iterables*\n",
        "*   *Functions*\n",
        "\n",
        "\n",
        "\n",
        "\n"
      ]
    },
    {
      "cell_type": "markdown",
      "metadata": {
        "id": "2YzVbA3y2pns"
      },
      "source": [
        "## ***Variables and Data Types***\n",
        "![image](https://static.javatpoint.com/python/images/python-data-types.png)\n",
        "\n",
        "\n",
        "\n",
        "> A variable in python is used in storing values or data in the program, the stored values or data may also be changed when the program is running. The values that are stored in the variable may come in different types and it is called as the Data Types, that specifies the type of value that determines which operations can be performed on a set of data\n",
        "\n"
      ]
    },
    {
      "cell_type": "code",
      "metadata": {
        "id": "Z6Y0tPP60838"
      },
      "source": [
        "x = 1\n",
        "a, b = 3, -2\n"
      ],
      "execution_count": null,
      "outputs": []
    },
    {
      "cell_type": "code",
      "metadata": {
        "id": "qytdY1qW3fXz"
      },
      "source": [
        "type (x)"
      ],
      "execution_count": null,
      "outputs": []
    },
    {
      "cell_type": "code",
      "metadata": {
        "id": "6TOI2SZq3oHb"
      },
      "source": [
        "y = 3.0\n",
        "type(y)"
      ],
      "execution_count": null,
      "outputs": []
    },
    {
      "cell_type": "code",
      "metadata": {
        "id": "4XPR2lGY36rS"
      },
      "source": [
        "x = float(x)\n",
        "type(x) \n",
        "x"
      ],
      "execution_count": null,
      "outputs": []
    },
    {
      "cell_type": "code",
      "metadata": {
        "id": "Oo2qZyu84MZh"
      },
      "source": [
        "s, t, u = \"1\", '3', 'three'\n",
        "type(s)"
      ],
      "execution_count": null,
      "outputs": []
    },
    {
      "cell_type": "markdown",
      "metadata": {
        "id": "UnxrPBHi4qyP"
      },
      "source": [
        "#**Operations**\n",
        "\n",
        "\n",
        "> *Operations are used to execute mathematic operation to a given data or variable and gives the result when the program is running*.\n",
        "\n",
        "\n",
        "![image](https://www.creativefabrica.com/wp-content/uploads/2020/03/08/line-math-operations-icon-Graphics-3392758-1.jpg)\n"
      ]
    },
    {
      "cell_type": "markdown",
      "metadata": {
        "id": "yQI3Aytq40MS"
      },
      "source": [
        "## ***Arithmetic***\n",
        "\n",
        "\n",
        "> *are used to perform common mathematical operation such as addition, subtraction, multiplication and division.*\n",
        "\n"
      ]
    },
    {
      "cell_type": "code",
      "metadata": {
        "id": "aHDmhaB4421T"
      },
      "source": [
        "w, x, y, z = 4.0, -3.0, 2, -32"
      ],
      "execution_count": null,
      "outputs": []
    },
    {
      "cell_type": "code",
      "metadata": {
        "id": "dBqJxBZr5KLB"
      },
      "source": [
        "### Addition \n",
        "S = w + x\n"
      ],
      "execution_count": null,
      "outputs": []
    },
    {
      "cell_type": "code",
      "metadata": {
        "id": "f1wKNJpq5juZ"
      },
      "source": [
        "### Subtraction\n",
        "D = y - z\n"
      ],
      "execution_count": null,
      "outputs": []
    },
    {
      "cell_type": "code",
      "metadata": {
        "id": "gPyLOrt35rmZ"
      },
      "source": [
        "### Multiplication\n",
        "P = w*z\n"
      ],
      "execution_count": null,
      "outputs": []
    },
    {
      "cell_type": "code",
      "metadata": {
        "id": "9d2Zf8Tm51SA"
      },
      "source": [
        "### Division\n",
        "Q = y / x\n"
      ],
      "execution_count": null,
      "outputs": []
    },
    {
      "cell_type": "markdown",
      "metadata": {
        "id": "CRbnAChNRHCI"
      },
      "source": [
        "\n",
        "*A* **Floor Division** *is just like the usual division, the only difference between a floor division and division is that gives the largest integer.*\n",
        "\n",
        "\n"
      ]
    },
    {
      "cell_type": "code",
      "metadata": {
        "colab": {
          "base_uri": "https://localhost:8080/"
        },
        "id": "Be8-sr6h6XGJ",
        "outputId": "2310fdb6-570f-4454-81c0-80bed71da5e5"
      },
      "source": [
        "### Floor Division\n",
        "Qf = w//z\n",
        "Qf"
      ],
      "execution_count": null,
      "outputs": [
        {
          "output_type": "execute_result",
          "data": {
            "text/plain": [
              "-1.0"
            ]
          },
          "metadata": {},
          "execution_count": 6
        }
      ]
    },
    {
      "cell_type": "markdown",
      "metadata": {
        "id": "DoqPpUq1ZlpJ"
      },
      "source": [
        "*A* **Exponentiation** *is also known as the power operator which raises an exponent to the given value or data.*"
      ]
    },
    {
      "cell_type": "code",
      "metadata": {
        "colab": {
          "base_uri": "https://localhost:8080/"
        },
        "id": "UeCXBsx27Cdp",
        "outputId": "d083e62a-544e-4b3f-ddca-747643a3f1ec"
      },
      "source": [
        "### Exponentiation\n",
        "E = w**w\n",
        "E"
      ],
      "execution_count": null,
      "outputs": [
        {
          "output_type": "execute_result",
          "data": {
            "text/plain": [
              "256.0"
            ]
          },
          "metadata": {},
          "execution_count": 7
        }
      ]
    },
    {
      "cell_type": "markdown",
      "metadata": {
        "id": "yzj9o2_dakNf"
      },
      "source": [
        "*In python the* **Modulo's** *symbol is % or percentage sign and is an operator that gives back the remainder of the two given variable or data that is divided with each other.*"
      ]
    },
    {
      "cell_type": "code",
      "metadata": {
        "colab": {
          "base_uri": "https://localhost:8080/"
        },
        "id": "EGnTIjRi7gwK",
        "outputId": "3779de06-789b-4f57-9c0f-3deac91f58d1"
      },
      "source": [
        "### Modulo\n",
        "mod = z%x\n",
        "mod"
      ],
      "execution_count": null,
      "outputs": [
        {
          "output_type": "execute_result",
          "data": {
            "text/plain": [
              "-2.0"
            ]
          },
          "metadata": {},
          "execution_count": 8
        }
      ]
    },
    {
      "cell_type": "markdown",
      "metadata": {
        "id": "QSBNJJko7y4o"
      },
      "source": [
        "## ***Assignment***\n",
        "\n",
        "\n",
        "> *An operator that is used in assigning values to a variable or a data in the program.*\n",
        "\n"
      ]
    },
    {
      "cell_type": "code",
      "metadata": {
        "id": "um0XXcKM72vZ"
      },
      "source": [
        "A, B, C, D, E = 0, 100, 2, 1, 2"
      ],
      "execution_count": null,
      "outputs": []
    },
    {
      "cell_type": "code",
      "metadata": {
        "id": "_n5vdJ9G78Ak"
      },
      "source": [
        "A += w\n"
      ],
      "execution_count": null,
      "outputs": []
    },
    {
      "cell_type": "code",
      "metadata": {
        "colab": {
          "base_uri": "https://localhost:8080/"
        },
        "id": "n2xyvE-P8PlZ",
        "outputId": "01e8ede7-e69b-463d-a3c5-00a9e501c978"
      },
      "source": [
        "B -= x\n",
        "B"
      ],
      "execution_count": null,
      "outputs": [
        {
          "output_type": "execute_result",
          "data": {
            "text/plain": [
              "103.0"
            ]
          },
          "metadata": {},
          "execution_count": 11
        }
      ]
    },
    {
      "cell_type": "code",
      "metadata": {
        "colab": {
          "base_uri": "https://localhost:8080/"
        },
        "id": "DUAsyiPU8eBZ",
        "outputId": "6eae0a8a-d865-4f4d-8641-cda5392dc435"
      },
      "source": [
        "C *= w\n",
        "C"
      ],
      "execution_count": null,
      "outputs": [
        {
          "output_type": "execute_result",
          "data": {
            "text/plain": [
              "8.0"
            ]
          },
          "metadata": {},
          "execution_count": 12
        }
      ]
    },
    {
      "cell_type": "code",
      "metadata": {
        "colab": {
          "base_uri": "https://localhost:8080/"
        },
        "id": "AAd6_ewQ9T6o",
        "outputId": "ea366b6b-b570-42c5-8cad-a07b7ffaefea"
      },
      "source": [
        "D /= x\n",
        "D\n"
      ],
      "execution_count": null,
      "outputs": [
        {
          "output_type": "execute_result",
          "data": {
            "text/plain": [
              "-0.3333333333333333"
            ]
          },
          "metadata": {},
          "execution_count": 13
        }
      ]
    },
    {
      "cell_type": "code",
      "metadata": {
        "colab": {
          "base_uri": "https://localhost:8080/"
        },
        "id": "To78fW759y0Q",
        "outputId": "c323780e-9576-431f-face-7e69185d1f96"
      },
      "source": [
        "E **= y\n",
        "E"
      ],
      "execution_count": null,
      "outputs": [
        {
          "output_type": "execute_result",
          "data": {
            "text/plain": [
              "4"
            ]
          },
          "metadata": {},
          "execution_count": 14
        }
      ]
    },
    {
      "cell_type": "markdown",
      "metadata": {
        "id": "CuacBmN6-RXi"
      },
      "source": [
        "### ***Comparatorss***\n",
        "\n",
        "\n",
        "> *Is an operator that compares two variables or data and resulting to true or false.*\n",
        "\n",
        "\n",
        "\n"
      ]
    },
    {
      "cell_type": "code",
      "metadata": {
        "id": "JOKBGtYu-Uoi"
      },
      "source": [
        "size_1, size_2, size_3 = 1, 2.0, \"1\"\n",
        "true_size = 1.0"
      ],
      "execution_count": null,
      "outputs": []
    },
    {
      "cell_type": "code",
      "metadata": {
        "colab": {
          "base_uri": "https://localhost:8080/"
        },
        "id": "YaZKpMEG-huZ",
        "outputId": "bc0b13b1-b382-4bf6-d107-c90986ca8d4f"
      },
      "source": [
        "## Equality\n",
        "size_1 == true_size"
      ],
      "execution_count": null,
      "outputs": [
        {
          "output_type": "execute_result",
          "data": {
            "text/plain": [
              "True"
            ]
          },
          "metadata": {},
          "execution_count": 16
        }
      ]
    },
    {
      "cell_type": "code",
      "metadata": {
        "colab": {
          "base_uri": "https://localhost:8080/"
        },
        "id": "vd8_VlBG-1yi",
        "outputId": "b50acf39-f940-4428-be41-5b6985684dfc"
      },
      "source": [
        "## Non-Equality\n",
        "size_2 != true_size"
      ],
      "execution_count": null,
      "outputs": [
        {
          "output_type": "execute_result",
          "data": {
            "text/plain": [
              "True"
            ]
          },
          "metadata": {},
          "execution_count": 17
        }
      ]
    },
    {
      "cell_type": "code",
      "metadata": {
        "id": "HnvLn7II_Aap"
      },
      "source": [
        "## Inequality\n",
        "s1 = size_1 > size_2\n",
        "s2 = size_1 < size_2/2\n",
        "s3 = true_size >= size_1\n",
        "s4 = size_2 <= true_size"
      ],
      "execution_count": null,
      "outputs": []
    },
    {
      "cell_type": "markdown",
      "metadata": {
        "id": "63RdViTq_18S"
      },
      "source": [
        "### ***Logical***\n",
        "\n",
        "\n",
        "> *an operator that uses is, is not, and, or in determining if the given variable is true or false.*\n",
        "\n",
        "\n"
      ]
    },
    {
      "cell_type": "code",
      "metadata": {
        "id": "H3Ls3i3b_59C",
        "colab": {
          "base_uri": "https://localhost:8080/"
        },
        "outputId": "4e4532ca-49fd-4df7-8927-212549a70a33"
      },
      "source": [
        "size_1 == true_size"
      ],
      "execution_count": null,
      "outputs": [
        {
          "output_type": "execute_result",
          "data": {
            "text/plain": [
              "True"
            ]
          },
          "metadata": {},
          "execution_count": 19
        }
      ]
    },
    {
      "cell_type": "code",
      "metadata": {
        "id": "Rn8ouC8uAMAY",
        "colab": {
          "base_uri": "https://localhost:8080/"
        },
        "outputId": "b03b55e1-daf5-464c-8b34-1858db60c47a"
      },
      "source": [
        "size_1 is true_size"
      ],
      "execution_count": null,
      "outputs": [
        {
          "output_type": "execute_result",
          "data": {
            "text/plain": [
              "False"
            ]
          },
          "metadata": {},
          "execution_count": 20
        }
      ]
    },
    {
      "cell_type": "code",
      "metadata": {
        "id": "03l3jPwCAl0R",
        "colab": {
          "base_uri": "https://localhost:8080/"
        },
        "outputId": "5bb71c31-a72c-4108-f466-b3353f7899bb"
      },
      "source": [
        "size_1 is not true_size"
      ],
      "execution_count": null,
      "outputs": [
        {
          "output_type": "execute_result",
          "data": {
            "text/plain": [
              "True"
            ]
          },
          "metadata": {},
          "execution_count": 21
        }
      ]
    },
    {
      "cell_type": "code",
      "metadata": {
        "colab": {
          "base_uri": "https://localhost:8080/"
        },
        "id": "2OHxkT-wAoyY",
        "outputId": "8d8bc51d-9595-4d7b-cdd7-938e9c76502f"
      },
      "source": [
        "P, Q = True, False\n",
        "conj = P and Q\n",
        "conj"
      ],
      "execution_count": null,
      "outputs": [
        {
          "output_type": "execute_result",
          "data": {
            "text/plain": [
              "False"
            ]
          },
          "metadata": {},
          "execution_count": 22
        }
      ]
    },
    {
      "cell_type": "code",
      "metadata": {
        "colab": {
          "base_uri": "https://localhost:8080/"
        },
        "id": "FMFby4CeA8Zh",
        "outputId": "53e260e1-60e2-49f0-a4bb-79e5d0003242"
      },
      "source": [
        "disj = P or Q\n",
        "disj"
      ],
      "execution_count": null,
      "outputs": [
        {
          "output_type": "execute_result",
          "data": {
            "text/plain": [
              "True"
            ]
          },
          "metadata": {},
          "execution_count": 23
        }
      ]
    },
    {
      "cell_type": "code",
      "metadata": {
        "colab": {
          "base_uri": "https://localhost:8080/"
        },
        "id": "SMc7dESGBLeJ",
        "outputId": "c68bc695-2e7c-4b44-ddab-17a3ae75586b"
      },
      "source": [
        "nand = not(P and Q)\n",
        "nand\n"
      ],
      "execution_count": null,
      "outputs": [
        {
          "output_type": "execute_result",
          "data": {
            "text/plain": [
              "True"
            ]
          },
          "metadata": {},
          "execution_count": 24
        }
      ]
    },
    {
      "cell_type": "code",
      "metadata": {
        "colab": {
          "base_uri": "https://localhost:8080/"
        },
        "id": "PCP4RyD7BXh4",
        "outputId": "ef98f8d2-a981-4047-a1d0-8f8b6f6baf1e"
      },
      "source": [
        "xor = (not P and Q) or (P and not Q)\n",
        "xor"
      ],
      "execution_count": null,
      "outputs": [
        {
          "output_type": "execute_result",
          "data": {
            "text/plain": [
              "True"
            ]
          },
          "metadata": {},
          "execution_count": 25
        }
      ]
    },
    {
      "cell_type": "markdown",
      "metadata": {
        "id": "TnmoylaqBxky"
      },
      "source": [
        "## **Input and Output**\n",
        "\n",
        "\n",
        "\n",
        "> *are a function that connects the user to the program, Input allows the user to insert a variable or a function to a program, on the other hand, the output are the result of the input that the user made or printed in the program.*\n",
        "\n"
      ]
    },
    {
      "cell_type": "code",
      "metadata": {
        "colab": {
          "base_uri": "https://localhost:8080/"
        },
        "id": "1heMsXm9B1Yi",
        "outputId": "87bc2a3b-3680-482e-d115-a4205dba49c8"
      },
      "source": [
        "print(\"Hello World!\")"
      ],
      "execution_count": null,
      "outputs": [
        {
          "output_type": "stream",
          "name": "stdout",
          "text": [
            "Hello World!\n"
          ]
        }
      ]
    },
    {
      "cell_type": "code",
      "metadata": {
        "id": "GMwqdxy6CD8x"
      },
      "source": [
        "cnt = 14000"
      ],
      "execution_count": null,
      "outputs": []
    },
    {
      "cell_type": "code",
      "metadata": {
        "colab": {
          "base_uri": "https://localhost:8080/"
        },
        "id": "JFS0neT4CK4g",
        "outputId": "1fac2fed-18d3-44aa-fe60-3e0b6c4a06c4"
      },
      "source": [
        "string = \"Hello World!\"\n",
        "print (string, \", Current COVID count is:\", cnt)\n",
        "cnt += 10000"
      ],
      "execution_count": null,
      "outputs": [
        {
          "output_type": "stream",
          "name": "stdout",
          "text": [
            "Hello world! , Current COVID count is: 24000\n"
          ]
        }
      ]
    },
    {
      "cell_type": "code",
      "metadata": {
        "colab": {
          "base_uri": "https://localhost:8080/"
        },
        "id": "_1QR6NefC6tC",
        "outputId": "02dec71f-b5a5-4099-de26-2f823bd973d2"
      },
      "source": [
        "print(f\"{string}, current count is: {cnt}\")"
      ],
      "execution_count": null,
      "outputs": [
        {
          "output_type": "stream",
          "name": "stdout",
          "text": [
            "Hello world!, current count is: 34000\n"
          ]
        }
      ]
    },
    {
      "cell_type": "code",
      "metadata": {
        "colab": {
          "base_uri": "https://localhost:8080/"
        },
        "id": "-wgMOQU4Dxe1",
        "outputId": "09f1bcd4-5a08-47b9-d4e9-6fb7ebca5050"
      },
      "source": [
        "sem_grade = 86.25\n",
        "name = \"Vincent\"\n",
        "print(\"Hello {}, your semestral grade is : {}\".format(name, sem_grade))"
      ],
      "execution_count": null,
      "outputs": [
        {
          "output_type": "stream",
          "name": "stdout",
          "text": [
            "Hello Vincent, your semestral grade is : 86.25\n"
          ]
        }
      ]
    },
    {
      "cell_type": "code",
      "metadata": {
        "colab": {
          "base_uri": "https://localhost:8080/"
        },
        "id": "D0-iX54IDVc5",
        "outputId": "0c25a3b9-4231-4c2b-a7cb-c0c08f756d23"
      },
      "source": [
        "pg, mg, fg = 0.3, 0.3, 0.4\n",
        "print(\"The weights of your semestral grades are:\\\n",
        "\\n\\t {:.2%} for Prelims\\\n",
        "\\n\\t {:.2%} for Midterms, and\\\n",
        "\\n\\t {:.2%} for Finals.\" .format(pg, mg, fg))"
      ],
      "execution_count": null,
      "outputs": [
        {
          "output_type": "stream",
          "name": "stdout",
          "text": [
            "The weights of your semestral grades are:\n",
            "\t 30.00% for Prelims\n",
            "\t 30.00% for Midterms, and\n",
            "\t 40.00% for Finals.\n"
          ]
        }
      ]
    },
    {
      "cell_type": "code",
      "metadata": {
        "colab": {
          "base_uri": "https://localhost:8080/",
          "height": 52
        },
        "id": "cSmY3zhlFeQH",
        "outputId": "d9e5617c-0e08-40dd-fca3-afff58a5ccba"
      },
      "source": [
        "e = input(\"Enter a number: \")\n",
        "e"
      ],
      "execution_count": null,
      "outputs": [
        {
          "name": "stdout",
          "output_type": "stream",
          "text": [
            "Enter a number: 98\n"
          ]
        },
        {
          "output_type": "execute_result",
          "data": {
            "application/vnd.google.colaboratory.intrinsic+json": {
              "type": "string"
            },
            "text/plain": [
              "'98'"
            ]
          },
          "metadata": {},
          "execution_count": 111
        }
      ]
    },
    {
      "cell_type": "code",
      "metadata": {
        "id": "6yMI0005FjO4"
      },
      "source": [
        "name = input (\"Enter your name: \")\n",
        "pg = input(\"Enter prelim grade: \")\n",
        "mg = input(\"Enter midterm grade: \")\n",
        "fg = input(\"Enter final grade: \")\n",
        "sem_grade = None\n",
        "print(\"Hello {}, your semestral grade is: {}\".format(name, sem_grade))\n"
      ],
      "execution_count": null,
      "outputs": []
    },
    {
      "cell_type": "markdown",
      "metadata": {
        "id": "VHYqEAIPLbZ4"
      },
      "source": [
        "# **Looping Statements**\n"
      ]
    },
    {
      "cell_type": "markdown",
      "metadata": {
        "id": "Zja7umDqLkW5"
      },
      "source": [
        "While"
      ]
    },
    {
      "cell_type": "code",
      "metadata": {
        "colab": {
          "base_uri": "https://localhost:8080/"
        },
        "id": "5_rTmxeALmgw",
        "outputId": "ffa3d490-30c2-4c7f-bb25-9f439396bb2d"
      },
      "source": [
        "## while loops\n",
        "i, j = 0 , 10\n",
        "while(i<=j):\n",
        "  print(f\"{i})\\t|\\t{j}\")\n",
        "  i += 1"
      ],
      "execution_count": null,
      "outputs": [
        {
          "output_type": "stream",
          "name": "stdout",
          "text": [
            "0)\t|\t10\n",
            "1)\t|\t10\n",
            "2)\t|\t10\n",
            "3)\t|\t10\n",
            "4)\t|\t10\n",
            "5)\t|\t10\n",
            "6)\t|\t10\n",
            "7)\t|\t10\n",
            "8)\t|\t10\n",
            "9)\t|\t10\n",
            "10)\t|\t10\n"
          ]
        }
      ]
    },
    {
      "cell_type": "code",
      "metadata": {
        "id": "3J_nWIDPLtYk"
      },
      "source": [
        ""
      ],
      "execution_count": null,
      "outputs": []
    },
    {
      "cell_type": "markdown",
      "metadata": {
        "id": "fElN51e5L8Wi"
      },
      "source": [
        "## For\n"
      ]
    },
    {
      "cell_type": "code",
      "metadata": {
        "colab": {
          "base_uri": "https://localhost:8080/"
        },
        "id": "4rxohsbhL-TL",
        "outputId": "ca2aadda-d5f8-4ec9-e4e3-378798386544"
      },
      "source": [
        "# for(int = 0; i<10; i++){\n",
        "# printf(i)\n",
        "# }\n",
        "\n",
        "i = 0\n",
        "for i in range (11):\n",
        "  print(i)"
      ],
      "execution_count": null,
      "outputs": [
        {
          "output_type": "stream",
          "name": "stdout",
          "text": [
            "0\n",
            "1\n",
            "2\n",
            "3\n",
            "4\n",
            "5\n",
            "6\n",
            "7\n",
            "8\n",
            "9\n",
            "10\n"
          ]
        }
      ]
    },
    {
      "cell_type": "code",
      "metadata": {
        "colab": {
          "base_uri": "https://localhost:8080/"
        },
        "id": "ZtvIHZE2My7F",
        "outputId": "f92c4db0-7af9-4c65-d25c-656f7b8c068e"
      },
      "source": [
        "playlist = [\"Bahay Kubo\", \"Magandang Kanta\", \"Buko\"]\n",
        "print ('Now Playing:\\n')\n",
        "for song in playlist:\n",
        "  print(song)"
      ],
      "execution_count": null,
      "outputs": [
        {
          "output_type": "stream",
          "name": "stdout",
          "text": [
            "Now Playing:\n",
            "\n",
            "Bahay Kubo\n",
            "Magandang Kanta\n",
            "Buko\n"
          ]
        }
      ]
    },
    {
      "cell_type": "markdown",
      "metadata": {
        "id": "CQY304ENNM1X"
      },
      "source": [
        "## Flow Control "
      ]
    },
    {
      "cell_type": "markdown",
      "metadata": {
        "id": "bUuMOTghNUin"
      },
      "source": [
        "### Condition Statements"
      ]
    },
    {
      "cell_type": "code",
      "metadata": {
        "colab": {
          "base_uri": "https://localhost:8080/"
        },
        "id": "xKkf1XjfNZk_",
        "outputId": "1c16e2e2-e18b-4276-d8a7-8cd70c444fcd"
      },
      "source": [
        "num_1, num_2 = 12,13\n",
        "if(num_1 == num_2):\n",
        "  print(\"HAHA\")\n",
        "elif(num_1>num_2):\n",
        "    print(\"HOHO\")\n",
        "else:\n",
        "      print(\"HUHU\")"
      ],
      "execution_count": null,
      "outputs": [
        {
          "output_type": "stream",
          "name": "stdout",
          "text": [
            "HUHU\n"
          ]
        }
      ]
    },
    {
      "cell_type": "markdown",
      "metadata": {
        "id": "AjVB0y2VN_bS"
      },
      "source": [
        "## Functions"
      ]
    },
    {
      "cell_type": "code",
      "metadata": {
        "id": "3COIAQNHOBfY"
      },
      "source": [
        "# void DeleteUser (int userid){\n",
        "# delete(userid);\n",
        "#}\n",
        "\n",
        "def delete_user (userid):\n",
        "  print(\"Successfully deleted user: {}\".format(userid))"
      ],
      "execution_count": null,
      "outputs": []
    },
    {
      "cell_type": "code",
      "metadata": {
        "colab": {
          "base_uri": "https://localhost:8080/"
        },
        "id": "1jHyeZFhOeXS",
        "outputId": "45afdb3f-e241-430a-8229-315000acdfd4"
      },
      "source": [
        "userid = 2020_100100\n",
        "delete_user(2020_100100)"
      ],
      "execution_count": null,
      "outputs": [
        {
          "output_type": "stream",
          "name": "stdout",
          "text": [
            "Successfully deleted user: 2020100100\n"
          ]
        }
      ]
    },
    {
      "cell_type": "code",
      "metadata": {
        "id": "jq-SFOImPFfJ"
      },
      "source": [
        "addend1, addend2 = 5,6"
      ],
      "execution_count": null,
      "outputs": []
    },
    {
      "cell_type": "code",
      "metadata": {
        "id": "-pukOwRLO9ZY"
      },
      "source": [
        "def add(addend1, addend2):\n",
        "  sum = addend1 + addend2\n",
        "  return sum"
      ],
      "execution_count": null,
      "outputs": []
    },
    {
      "cell_type": "code",
      "metadata": {
        "colab": {
          "base_uri": "https://localhost:8080/"
        },
        "id": "HPOYY1wnPs0-",
        "outputId": "eefb0d60-986f-41e8-aa51-212d0d9d3c79"
      },
      "source": [
        "add(5, 4)"
      ],
      "execution_count": null,
      "outputs": [
        {
          "output_type": "execute_result",
          "data": {
            "text/plain": [
              "9"
            ]
          },
          "metadata": {},
          "execution_count": 143
        }
      ]
    }
  ]
}