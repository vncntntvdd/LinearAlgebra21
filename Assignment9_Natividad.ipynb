{
  "nbformat": 4,
  "nbformat_minor": 0,
  "metadata": {
    "colab": {
      "name": "Assignment9_Natividad",
      "provenance": [],
      "collapsed_sections": [],
      "authorship_tag": "ABX9TyPB6O6Tmmwit98i9CgW6YTz",
      "include_colab_link": true
    },
    "kernelspec": {
      "name": "python3",
      "display_name": "Python 3"
    },
    "language_info": {
      "name": "python"
    }
  },
  "cells": [
    {
      "cell_type": "markdown",
      "metadata": {
        "id": "view-in-github",
        "colab_type": "text"
      },
      "source": [
        "<a href=\"https://colab.research.google.com/github/vncntntvdd/LinearAlgebra21/blob/main/Assignment9_Natividad.ipynb\" target=\"_parent\"><img src=\"https://colab.research.google.com/assets/colab-badge.svg\" alt=\"Open In Colab\"/></a>"
      ]
    },
    {
      "cell_type": "markdown",
      "metadata": {
        "id": "CjU3DDOSOmIK"
      },
      "source": [
        "# ***Lab 2 - Plotting Vector using NumPy and MatPlotLib***\n",
        "\n"
      ]
    },
    {
      "cell_type": "markdown",
      "metadata": {
        "id": "t6NbUaB-Or3A"
      },
      "source": [
        "*In this laboratory we will be discussing the basics of numerical and scientific programming by working with Vectors using NumPy and MatPlotLib.*"
      ]
    },
    {
      "cell_type": "markdown",
      "metadata": {
        "id": "6jdoRecoO3QZ"
      },
      "source": [
        "### **Objectives**\n",
        "At the end of this activity you will be able to:\n",
        "1. *Be familiar with the libraries in Python for numerical and scientific programming.*\n",
        "2. *Visualize vectors through Python programming.*\n",
        "3. *Perform simple vector operations through code.*"
      ]
    },
    {
      "cell_type": "markdown",
      "metadata": {
        "id": "a9Ved7EAPMfr"
      },
      "source": [
        "# **Discussion**"
      ]
    },
    {
      "cell_type": "markdown",
      "metadata": {
        "id": "5vZ-LUkfPPyh"
      },
      "source": [
        "## **NumPy**"
      ]
    },
    {
      "cell_type": "markdown",
      "metadata": {
        "id": "vu0bMzO3PR6y"
      },
      "source": [
        "*NumPy or Numerical Python, is mainly used for matrix and vector operations. It is capable of declaring computing and representing matrices. Most Python scientific programming libraries uses NumPy as the basic code.*"
      ]
    },
    {
      "cell_type": "markdown",
      "metadata": {
        "id": "x6U0ptQ5dHXW"
      },
      "source": [
        "**Scalars** \\\\\n",
        "Represent magnitude or a single value\n",
        "\n",
        "**Vectors** \\\\\n",
        "Represent magnitude with directors"
      ]
    },
    {
      "cell_type": "markdown",
      "metadata": {
        "id": "gyHR7eVmPuDh"
      },
      "source": [
        "### **Representing Vector**"
      ]
    },
    {
      "cell_type": "markdown",
      "metadata": {
        "id": "aoDgT4bhdbpt"
      },
      "source": [
        "*Now that you know how to represent vectors using their component and matrix form we can now hard-code them in Python. Let's say that you have the vectors:*"
      ]
    },
    {
      "cell_type": "markdown",
      "metadata": {
        "id": "cNKNmQgGPwIp"
      },
      "source": [
        "$$ A = 4\\hat{x} + 3\\hat{y} \\\\\n",
        "B = 2\\hat{x} - 5\\hat{y}\\\\\n",
        "C = 4ax + 3ay - 2az \\\\\n",
        "D = 2\\hat{i} - 2\\hat{j} + 3\\hat{k} \\\\\n",
        "$$\n"
      ]
    },
    {
      "cell_type": "markdown",
      "metadata": {
        "id": "WsatLRyMdfpt"
      },
      "source": [
        "*In which it's matrix equivalent is:*"
      ]
    },
    {
      "cell_type": "markdown",
      "metadata": {
        "id": "jSdO40YWQkZI"
      },
      "source": [
        "$$ A = \\begin{bmatrix} 4 \\\\ 3\\end{bmatrix} , B = \\begin{bmatrix} 2 \\\\ \n",
        "-5\\end{bmatrix} , C = \\begin{bmatrix} 4 \\\\ 3 \\\\  -2 \\end{bmatrix},  D = \\begin{bmatrix} 2 \\\\ -2 \\\\ 3\\end{bmatrix}\n",
        "$$\n",
        "$$ A = \\begin{bmatrix} 4 & 3\\end{bmatrix} , B = \\begin{bmatrix} 2 & -5\\end{bmatrix} ,C = \\begin{bmatrix} 4 & 3 & -2\\end{bmatrix} , D = \\begin{bmatrix} 2 & -2 & 3\\end{bmatrix} \n",
        "$$\n",
        "$$"
      ]
    },
    {
      "cell_type": "markdown",
      "metadata": {
        "id": "z55uYx8UR5wJ"
      },
      "source": [
        "*We can then start doing numpy code with this by:*"
      ]
    },
    {
      "cell_type": "code",
      "metadata": {
        "id": "vNiXkixMR77t"
      },
      "source": [
        "## Import necessary libraries\n",
        "import numpy as np ## 'np' here is short-hand name of the library (numpy) or a nickname."
      ],
      "execution_count": 103,
      "outputs": []
    },
    {
      "cell_type": "code",
      "metadata": {
        "colab": {
          "base_uri": "https://localhost:8080/"
        },
        "id": "HRRV45mwMp4k",
        "outputId": "436e7c10-ac41-4039-8708-ba6f77d68a29"
      },
      "source": [
        "A = np.array([4,3])\n",
        "B = np.array([2, -5])\n",
        "C = np.array([\n",
        "              [4],\n",
        "              [3],\n",
        "              [-2]])\n",
        "D = np.array ([[2],\n",
        "              [-2],\n",
        "              [3]])\n",
        "print('Vector A is', A)\n",
        "print('Vector B is', B)\n",
        "print('Vector C is', C)\n",
        "print('Vector D is', D)"
      ],
      "execution_count": 104,
      "outputs": [
        {
          "output_type": "stream",
          "name": "stdout",
          "text": [
            "Vector A is [4 3]\n",
            "Vector B is [ 2 -5]\n",
            "Vector C is [[ 4]\n",
            " [ 3]\n",
            " [-2]]\n",
            "Vector D is [[ 2]\n",
            " [-2]\n",
            " [ 3]]\n"
          ]
        }
      ]
    },
    {
      "cell_type": "markdown",
      "metadata": {
        "id": "xqcgFJ45TQ3g"
      },
      "source": [
        "### **Describing vectors in NumPy**"
      ]
    },
    {
      "cell_type": "markdown",
      "metadata": {
        "id": "PtGLwjKpTgKA"
      },
      "source": [
        "*Describing vectors is very important if we want to perform basic to advanced operations with them. The fundamental ways in describing vectors are knowing their shape, size and dimensions.*"
      ]
    },
    {
      "cell_type": "code",
      "metadata": {
        "colab": {
          "base_uri": "https://localhost:8080/"
        },
        "id": "NHdzrZAOTfsH",
        "outputId": "0e5fade9-61d1-4381-f782-b656213b5bd0"
      },
      "source": [
        "### Checking shapes\n",
        "### Shapes tells us how many elements are there on each row and column\n",
        "\n",
        "A.shape\n",
        "H = np.array([1, 0, 2, 5, -0.2, 0])\n",
        "H.shape\n",
        "C.shape"
      ],
      "execution_count": 5,
      "outputs": [
        {
          "output_type": "execute_result",
          "data": {
            "text/plain": [
              "(3, 1)"
            ]
          },
          "metadata": {},
          "execution_count": 5
        }
      ]
    },
    {
      "cell_type": "code",
      "metadata": {
        "colab": {
          "base_uri": "https://localhost:8080/"
        },
        "id": "pM0yvBJQTjvg",
        "outputId": "c20a08e6-991a-4fe2-b43c-b5cb8477725d"
      },
      "source": [
        "C.size"
      ],
      "execution_count": null,
      "outputs": [
        {
          "output_type": "execute_result",
          "data": {
            "text/plain": [
              "3"
            ]
          },
          "metadata": {},
          "execution_count": 19
        }
      ]
    },
    {
      "cell_type": "code",
      "metadata": {
        "colab": {
          "base_uri": "https://localhost:8080/"
        },
        "id": "LMDFHAmeT4w_",
        "outputId": "19c0d893-499a-4a4e-f04f-42fa85e0625b"
      },
      "source": [
        "D.ndim"
      ],
      "execution_count": null,
      "outputs": [
        {
          "output_type": "execute_result",
          "data": {
            "text/plain": [
              "2"
            ]
          },
          "metadata": {},
          "execution_count": 24
        }
      ]
    },
    {
      "cell_type": "markdown",
      "metadata": {
        "id": "yHg5EBrFUjW3"
      },
      "source": [
        "Great! Now let's try to explore in performing operations with these vectors."
      ]
    },
    {
      "cell_type": "markdown",
      "metadata": {
        "id": "ZxMCK3h5Ukhr"
      },
      "source": [
        "### **Addition**"
      ]
    },
    {
      "cell_type": "markdown",
      "metadata": {
        "id": "IWC6VzuMUmYX"
      },
      "source": [
        "*The addition rule is simple, the we just need to add the elements of the matrices according to their index. So in this case if we add vector $A$ and vector $B$ we will have a resulting vector:*"
      ]
    },
    {
      "cell_type": "markdown",
      "metadata": {
        "id": "AaGQNgIjUsI4"
      },
      "source": [
        "$$R = 6\\hat{x}-2\\hat{y} \\\\ \\\\or \\\\ \\\\ R = \\begin{bmatrix} 6 \\\\ -2\\end{bmatrix} $$"
      ]
    },
    {
      "cell_type": "markdown",
      "metadata": {
        "id": "YM8sCXuyUvs_"
      },
      "source": [
        "*So let's try to do that in NumPy in several number of ways:*"
      ]
    },
    {
      "cell_type": "code",
      "metadata": {
        "id": "AYF2z8AKUyH-"
      },
      "source": [
        "R = np.add(A, B) ## this is the functional method usisng the numpy library\n",
        "P = np.add(C,D)\n"
      ],
      "execution_count": 10,
      "outputs": []
    },
    {
      "cell_type": "code",
      "metadata": {
        "colab": {
          "base_uri": "https://localhost:8080/"
        },
        "id": "gj7QiZGoegQA",
        "outputId": "3b5716e9-5726-4f19-b2d4-58cf08a41dd3"
      },
      "source": [
        "R = A + B   ## this is the explicit method, since Python does a value-reference so it can \n",
        "            ## know that these variables would need to do array operations.\n",
        "R"
      ],
      "execution_count": 9,
      "outputs": [
        {
          "output_type": "execute_result",
          "data": {
            "text/plain": [
              "array([ 6, -2])"
            ]
          },
          "metadata": {},
          "execution_count": 9
        }
      ]
    },
    {
      "cell_type": "code",
      "metadata": {
        "colab": {
          "base_uri": "https://localhost:8080/"
        },
        "id": "9ZeC7lvqV453",
        "outputId": "63dfda07-3ff5-467e-abb2-460b34847844"
      },
      "source": [
        "pos1 = np.array([0,0,0])\n",
        "pos2 = np.array([0,1,3])\n",
        "pos3 = np.array([1,5,-2])\n",
        "pos4 = np.array([5,-3,3])\n",
        "#R = pos1 + pos2 + pos3 + pos4\n",
        "#R = np.multiply(pos3,pos4)\n",
        "R = pos3 / pos4\n",
        "R"
      ],
      "execution_count": 11,
      "outputs": [
        {
          "output_type": "execute_result",
          "data": {
            "text/plain": [
              "array([ 0.2       , -1.66666667, -0.66666667])"
            ]
          },
          "metadata": {},
          "execution_count": 11
        }
      ]
    },
    {
      "cell_type": "markdown",
      "metadata": {
        "id": "8K_tC3RsWUV3"
      },
      "source": [
        "#### **Try for yourself!**"
      ]
    },
    {
      "cell_type": "markdown",
      "metadata": {
        "id": "h-xrLv5fWYWf"
      },
      "source": [
        "*Try to implement subtraction, multiplication, and division with vectors  $A$  and  $B$ !*"
      ]
    },
    {
      "cell_type": "code",
      "metadata": {
        "id": "o6ISLMhlkQpa"
      },
      "source": [
        "Q = np.array([4,6,3])\n",
        "W = np.array([3,9,5])\n"
      ],
      "execution_count": 44,
      "outputs": []
    },
    {
      "cell_type": "code",
      "metadata": {
        "colab": {
          "base_uri": "https://localhost:8080/"
        },
        "id": "2-Kk8MICmP-k",
        "outputId": "ddf674fc-6515-474c-fb2c-2c802a09879d"
      },
      "source": [
        "E = Q-W\n",
        "E"
      ],
      "execution_count": 50,
      "outputs": [
        {
          "output_type": "execute_result",
          "data": {
            "text/plain": [
              "array([ 1, -3, -2])"
            ]
          },
          "metadata": {},
          "execution_count": 50
        }
      ]
    },
    {
      "cell_type": "code",
      "metadata": {
        "id": "sijHVfoRW2kw",
        "colab": {
          "base_uri": "https://localhost:8080/"
        },
        "outputId": "55a0a40d-bb78-4c31-e107-55bb94c50a88"
      },
      "source": [
        "E = np.subtract(Q,W)\n",
        "E"
      ],
      "execution_count": 45,
      "outputs": [
        {
          "output_type": "execute_result",
          "data": {
            "text/plain": [
              "array([ 1, -3, -2])"
            ]
          },
          "metadata": {},
          "execution_count": 45
        }
      ]
    },
    {
      "cell_type": "code",
      "metadata": {
        "colab": {
          "base_uri": "https://localhost:8080/"
        },
        "id": "mYYh43cpmWnq",
        "outputId": "e6daddd9-0c82-4d05-d006-a578b69ec161"
      },
      "source": [
        "M = Q*W \n",
        "M"
      ],
      "execution_count": 52,
      "outputs": [
        {
          "output_type": "execute_result",
          "data": {
            "text/plain": [
              "array([12, 54, 15])"
            ]
          },
          "metadata": {},
          "execution_count": 52
        }
      ]
    },
    {
      "cell_type": "code",
      "metadata": {
        "colab": {
          "base_uri": "https://localhost:8080/"
        },
        "id": "-XM2dVOhlknO",
        "outputId": "3d74de9e-e9ca-4a68-afd4-17b7b7218e23"
      },
      "source": [
        "M = np.multiply(Q,W)\n",
        "M"
      ],
      "execution_count": 53,
      "outputs": [
        {
          "output_type": "execute_result",
          "data": {
            "text/plain": [
              "array([12, 54, 15])"
            ]
          },
          "metadata": {},
          "execution_count": 53
        }
      ]
    },
    {
      "cell_type": "code",
      "metadata": {
        "colab": {
          "base_uri": "https://localhost:8080/"
        },
        "id": "BvUyZelOmwHp",
        "outputId": "a00d896c-4e57-4f38-be6a-a29fef0f888d"
      },
      "source": [
        "N = Q/W \n",
        "N"
      ],
      "execution_count": 55,
      "outputs": [
        {
          "output_type": "execute_result",
          "data": {
            "text/plain": [
              "array([1.33333333, 0.66666667, 0.6       ])"
            ]
          },
          "metadata": {},
          "execution_count": 55
        }
      ]
    },
    {
      "cell_type": "code",
      "metadata": {
        "colab": {
          "base_uri": "https://localhost:8080/"
        },
        "id": "dzlZXUGzlo2L",
        "outputId": "bccfdcc7-4805-498a-bb5e-38d61d63c4da"
      },
      "source": [
        "N = np.divide(Q,W)\n",
        "N"
      ],
      "execution_count": 48,
      "outputs": [
        {
          "output_type": "execute_result",
          "data": {
            "text/plain": [
              "array([1.33333333, 0.66666667, 0.6       ])"
            ]
          },
          "metadata": {},
          "execution_count": 48
        }
      ]
    },
    {
      "cell_type": "markdown",
      "metadata": {
        "id": "Qk7784JvXFiP"
      },
      "source": [
        "### **Scaling**"
      ]
    },
    {
      "cell_type": "markdown",
      "metadata": {
        "id": "xPssbp31XHAi"
      },
      "source": [
        "*Scaling or scalar multiplication takes a scalar value and performs multiplication with a vector. Let's take the example below:*"
      ]
    },
    {
      "cell_type": "markdown",
      "metadata": {
        "id": "ZKh1QEB2XMfe"
      },
      "source": [
        "$$S = 5 \\cdot A$$"
      ]
    },
    {
      "cell_type": "markdown",
      "metadata": {
        "id": "j1sLG6MzXTLP"
      },
      "source": [
        "*We can do this in numpy through:*"
      ]
    },
    {
      "cell_type": "code",
      "metadata": {
        "colab": {
          "base_uri": "https://localhost:8080/"
        },
        "id": "5ntJdvytXWLO",
        "outputId": "90646a61-0a36-4a31-e469-a374c0aaffb0"
      },
      "source": [
        "#S = 5 * A\n",
        "S = np.multiply(5,A)\n",
        "S"
      ],
      "execution_count": 105,
      "outputs": [
        {
          "output_type": "execute_result",
          "data": {
            "text/plain": [
              "array([20, 15])"
            ]
          },
          "metadata": {},
          "execution_count": 105
        }
      ]
    },
    {
      "cell_type": "markdown",
      "metadata": {
        "id": "Jhq-tTiVXfMv"
      },
      "source": [
        "Try to implement scaling with two vectors."
      ]
    },
    {
      "cell_type": "code",
      "metadata": {
        "id": "ejNVJte9XiHw",
        "colab": {
          "base_uri": "https://localhost:8080/"
        },
        "outputId": "416d8c73-bc16-4539-bc1d-d97b26351499"
      },
      "source": [
        "#F = 5 * B\n",
        "F = np.multiply (5,B)\n",
        "F"
      ],
      "execution_count": 106,
      "outputs": [
        {
          "output_type": "execute_result",
          "data": {
            "text/plain": [
              "array([ 10, -25])"
            ]
          },
          "metadata": {},
          "execution_count": 106
        }
      ]
    },
    {
      "cell_type": "code",
      "metadata": {
        "colab": {
          "base_uri": "https://localhost:8080/"
        },
        "id": "RIK-ttB82QoF",
        "outputId": "a7c0b00b-8881-475c-d567-173fe30d7579"
      },
      "source": [
        "#C = 9 * A\n",
        "C = np.multiply(9,A)\n",
        "C"
      ],
      "execution_count": 107,
      "outputs": [
        {
          "output_type": "execute_result",
          "data": {
            "text/plain": [
              "array([36, 27])"
            ]
          },
          "metadata": {},
          "execution_count": 107
        }
      ]
    },
    {
      "cell_type": "markdown",
      "metadata": {
        "id": "_JeSrhCBXxan"
      },
      "source": [
        "### **MatPlotLib**"
      ]
    },
    {
      "cell_type": "markdown",
      "metadata": {
        "id": "pIf2vvgFX0uw"
      },
      "source": [
        "*MatPlotLib or MATLab Plotting library is Python's take on MATLabs plotting feature. MatPlotLib can be used vastly from graping values to visualizing several dimensions of data.*"
      ]
    },
    {
      "cell_type": "markdown",
      "metadata": {
        "id": "EEDoOqC_X3lh"
      },
      "source": [
        "### **Visualizing Data**"
      ]
    },
    {
      "cell_type": "markdown",
      "metadata": {
        "id": "C7gfWVngX6C_"
      },
      "source": [
        "It's not enough just solving these vectors so might need to visualize them. So we'll use MatPlotLib for that. We'll need to import it first."
      ]
    },
    {
      "cell_type": "code",
      "metadata": {
        "id": "z21oEVjWYOUF"
      },
      "source": [
        "import matplotlib.pyplot as plt\n",
        "import matplotlib\n",
        "%matplotlib inline"
      ],
      "execution_count": 25,
      "outputs": []
    },
    {
      "cell_type": "code",
      "metadata": {
        "colab": {
          "base_uri": "https://localhost:8080/",
          "height": 265
        },
        "id": "t5qdw_f3YXuv",
        "outputId": "cf785e77-1da2-4eef-a975-ebda26eff69f"
      },
      "source": [
        "A = [1, -1]\n",
        "B = [5, -1]\n",
        "plt.scatter(A[0], A[1], label='A', c='green')\n",
        "plt.scatter(B[0], B[1], label='B', c='magenta')\n",
        "plt.grid()\n",
        "plt.legend()\n",
        "plt.show()"
      ],
      "execution_count": 35,
      "outputs": [
        {
          "output_type": "display_data",
          "data": {
            "image/png": "[encoded data removed]",
            "text/plain": [
              "<Figure size 432x288 with 1 Axes>"
            ]
          },
          "metadata": {
            "needs_background": "light"
          }
        }
      ]
    },
    {
      "cell_type": "code",
      "metadata": {
        "colab": {
          "base_uri": "https://localhost:8080/",
          "height": 364
        },
        "id": "TtBBGvWxaZNP",
        "outputId": "6f9e957b-8bc5-4763-b431-0d8bca86d4b8"
      },
      "source": [
        "A = np.array([1,-1])\n",
        "B = np.array([1,5])\n",
        "plt.title(\"Resultant Vector\\nMagnitude:{}\" .format(Magnitude))\n",
        "plt.xlim(-5,5)\n",
        "plt.ylim(-5,5)\n",
        "plt.quiver(0,0, A[0], A[1], angles='xy', scale_units='xy', scale=1, color='red')\n",
        "plt.quiver(A[0],A[1], B[0],B[1], angles='xy', scale_units='xy', scale=1, color='green')\n",
        "R = A + B\n",
        "plt.quiver(0, 0, R[0], R[1], angles='xy', scale_units='xy', scale=1, color='black')\n",
        "plt.grid()\n",
        "plt.show()\n",
        "print(R)\n",
        "Magnitude = np.sqrt(np.sum(R**2))\n",
        "print(Magnitude)\n",
        "Slope = R[1] / R[0]\n",
        "print(Slope)\n",
        "Angle = (np.arctan(Slope))*(180/np.pi)\n",
        "print(Angle)\n"
      ],
      "execution_count": 36,
      "outputs": [
        {
          "output_type": "display_data",
          "data": {
            "image/png": "[encoded data removed]",
            "text/plain": [
              "<Figure size 432x288 with 1 Axes>"
            ]
          },
          "metadata": {
            "needs_background": "light"
          }
        },
        {
          "output_type": "stream",
          "name": "stdout",
          "text": [
            "[2 4]\n",
            "4.47213595499958\n",
            "2.0\n",
            "63.43494882292201\n"
          ]
        }
      ]
    },
    {
      "cell_type": "code",
      "metadata": {
        "colab": {
          "base_uri": "https://localhost:8080/",
          "height": 269
        },
        "id": "h4eCuGtIgOTc",
        "outputId": "769a8223-5052-4d0e-cbcb-654f6ecbea95"
      },
      "source": [
        "n = A.shape[0]\n",
        "plt.xlim(-10, 10)\n",
        "plt.ylim(-10, 10)\n",
        "plt.quiver(0,0, A[0], A[1], angles='xy', scale_units='xy',scale=1)\n",
        "plt.quiver(A[0],A[1], B[0], B[1], angles='xy', scale_units='xy',scale=1)\n",
        "plt.quiver(0,0, R[0], R[1], angles='xy', scale_units='xy',scale=1)\n",
        "plt.show()"
      ],
      "execution_count": 37,
      "outputs": [
        {
          "output_type": "display_data",
          "data": {
            "image/png": "[encoded data removed]",
            "text/plain": [
              "<Figure size 432x288 with 1 Axes>"
            ]
          },
          "metadata": {
            "needs_background": "light"
          }
        }
      ]
    },
    {
      "cell_type": "markdown",
      "metadata": {
        "id": "wwDDvmbvhdej"
      },
      "source": [
        "**Try plotting Three Vectors and show the Resultant Vector as a result. Use Head to Tail Method**"
      ]
    },
    {
      "cell_type": "code",
      "metadata": {
        "colab": {
          "base_uri": "https://localhost:8080/",
          "height": 364
        },
        "id": "sWHy1JIfm1Ip",
        "outputId": "10fab3b2-a257-40b0-c871-14303c2c73e2"
      },
      "source": [
        "A = np.array([4,-4])\n",
        "B = np.array([3,5])\n",
        "plt.title(\"Resultant Vector\\nMagnitude:{}\" .format(Magnitude))\n",
        "plt.xlim(-7,7)\n",
        "plt.ylim(-7,7)\n",
        "plt.quiver(0,0, A[0], A[1], angles='xy', scale_units='xy', scale=1, color='blue')\n",
        "plt.quiver(A[0],A[1], B[0],B[1], angles='xy', scale_units='xy', scale=1, color='#98ceff')\n",
        "R = A + B\n",
        "plt.quiver(0, 0, R[0], R[1], angles='xy', scale_units='xy', scale=1, color='#00aaff')\n",
        "plt.grid()\n",
        "plt.show()\n",
        "print(R)\n",
        "Magnitude = np.sqrt(np.sum(R**2))\n",
        "print(Magnitude)\n",
        "Slope = R[1] / R[0]\n",
        "print(Slope)\n",
        "Angle = (np.arctan(Slope))*(180/np.pi)\n",
        "print(Angle)\n"
      ],
      "execution_count": 79,
      "outputs": [
        {
          "output_type": "display_data",
          "data": {
            "image/png": "[encoded data removed]",
            "text/plain": [
              "<Figure size 432x288 with 1 Axes>"
            ]
          },
          "metadata": {
            "needs_background": "light"
          }
        },
        {
          "output_type": "stream",
          "name": "stdout",
          "text": [
            "[7 1]\n",
            "7.0710678118654755\n",
            "0.14285714285714285\n",
            "8.130102354155978\n"
          ]
        }
      ]
    },
    {
      "cell_type": "code",
      "metadata": {
        "colab": {
          "base_uri": "https://localhost:8080/",
          "height": 364
        },
        "id": "tfNJSEjsn7dq",
        "outputId": "aea6cfc4-67d7-46d1-c7c5-1bc79094c89a"
      },
      "source": [
        "A = np.array([-5,-6])\n",
        "B = np.array([2,5])\n",
        "plt.title(\"Resultant Vector\\nMagnitude:{}\" .format(Magnitude))\n",
        "plt.xlim(-10,10)\n",
        "plt.ylim(-10,10)\n",
        "plt.quiver(0,0, A[0], A[1], angles='xy', scale_units='xy', scale=1, color='blue')\n",
        "plt.quiver(A[0],A[1], B[0],B[1], angles='xy', scale_units='xy', scale=1, color='#98ceff')\n",
        "R = A + B\n",
        "plt.quiver(0, 0, R[0], R[1], angles='xy', scale_units='xy', scale=1, color='#00aaff')\n",
        "plt.grid()\n",
        "plt.show()\n",
        "print(R)\n",
        "Magnitude = np.sqrt(np.sum(R**2))\n",
        "print(Magnitude)\n",
        "Slope = R[1] / R[0]\n",
        "print(Slope)\n",
        "Angle = (np.arctan(Slope))*(180/np.pi)\n",
        "print(Angle)\n"
      ],
      "execution_count": 76,
      "outputs": [
        {
          "output_type": "display_data",
          "data": {
            "image/png": "[encoded data removed]",
            "text/plain": [
              "<Figure size 432x288 with 1 Axes>"
            ]
          },
          "metadata": {
            "needs_background": "light"
          }
        },
        {
          "output_type": "stream",
          "name": "stdout",
          "text": [
            "[-3 -1]\n",
            "3.1622776601683795\n",
            "0.3333333333333333\n",
            "18.43494882292201\n"
          ]
        }
      ]
    },
    {
      "cell_type": "code",
      "metadata": {
        "colab": {
          "base_uri": "https://localhost:8080/",
          "height": 364
        },
        "id": "74fCrSo0pjJi",
        "outputId": "56a02baf-61ef-4c06-a54c-f7d61c60cd66"
      },
      "source": [
        "A = np.array([-7,-4])\n",
        "B = np.array([9,-2])\n",
        "plt.title(\"Resultant Vector\\nMagnitude:{}\" .format(Magnitude))\n",
        "plt.xlim(-15,15)\n",
        "plt.ylim(-15,15)\n",
        "plt.quiver(0,0, A[0], A[1], angles='xy', scale_units='xy', scale=1, color='blue')\n",
        "plt.quiver(A[0],A[1], B[0],B[1], angles='xy', scale_units='xy', scale=1, color='#98ceff')\n",
        "R = A + B\n",
        "plt.quiver(0, 0, R[0], R[1], angles='xy', scale_units='xy', scale=1, color='#00aaff')\n",
        "plt.grid()\n",
        "plt.show()\n",
        "print(R)\n",
        "Magnitude = np.sqrt(np.sum(R**2))\n",
        "print(Magnitude)\n",
        "Slope = R[1] / R[0]\n",
        "print(Slope)\n",
        "Angle = (np.arctan(Slope))*(180/np.pi)\n",
        "print(Angle)\n"
      ],
      "execution_count": 93,
      "outputs": [
        {
          "output_type": "display_data",
          "data": {
            "image/png": "[encoded data removed]",
            "text/plain": [
              "<Figure size 432x288 with 1 Axes>"
            ]
          },
          "metadata": {
            "needs_background": "light"
          }
        },
        {
          "output_type": "stream",
          "name": "stdout",
          "text": [
            "[ 2 -6]\n",
            "6.324555320336759\n",
            "-3.0\n",
            "-71.56505117707799\n"
          ]
        }
      ]
    }
  ]
}