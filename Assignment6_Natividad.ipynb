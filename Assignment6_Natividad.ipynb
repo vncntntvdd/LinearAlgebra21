{
  "nbformat": 4,
  "nbformat_minor": 0,
  "metadata": {
    "colab": {
      "name": "Assignment6_Natividad.ipynb",
      "provenance": [],
      "collapsed_sections": [],
      "authorship_tag": "ABX9TyN4EcwgebtEveXJI6BRNqu5",
      "include_colab_link": true
    },
    "kernelspec": {
      "name": "python3",
      "display_name": "Python 3"
    },
    "language_info": {
      "name": "python"
    }
  },
  "cells": [
    {
      "cell_type": "markdown",
      "metadata": {
        "id": "view-in-github",
        "colab_type": "text"
      },
      "source": [
        "<a href=\"https://colab.research.google.com/github/vncntntvdd/LinearAlgebra21/blob/main/Assignment6_Natividad.ipynb\" target=\"_parent\"><img src=\"https://colab.research.google.com/assets/colab-badge.svg\" alt=\"Open In Colab\"/></a>"
      ]
    },
    {
      "cell_type": "markdown",
      "metadata": {
        "id": "XHRUYPAvi3ML"
      },
      "source": [
        "#***Linear Algebra for ECE***\n",
        "###Laboratory 6: Matrix Operations"
      ]
    },
    {
      "cell_type": "markdown",
      "metadata": {
        "id": "dXBnHdCfi65P"
      },
      "source": [
        "Now that you have a fundamental knowledge about representing and operating with vectors as well as the fundamentals of matrices, we'll try to the same operations with matrices and even more"
      ]
    },
    {
      "cell_type": "markdown",
      "metadata": {
        "id": "WMVdb5QZjHGZ"
      },
      "source": [
        "### **Objectives**\n",
        "At the end of this activity you will be able to:\n",
        "1. *Be familiar with the fundamental matrix operations.*\n",
        "2. *Apply the operations to solve intermediate equations.*\n",
        "3. *Apply matrix algebra in engineering solutions.*"
      ]
    },
    {
      "cell_type": "markdown",
      "metadata": {
        "id": "KXU0cTIt3Yjr"
      },
      "source": [
        ""
      ]
    },
    {
      "cell_type": "markdown",
      "metadata": {
        "id": "j2sGpaJ4jdrP"
      },
      "source": [
        "## **Discussion**"
      ]
    },
    {
      "cell_type": "code",
      "metadata": {
        "id": "hK0RCVYtJpnz"
      },
      "source": [
        "import numpy as np\n",
        "import matplotlib.pyplot as plt\n",
        "%matplotlib inline"
      ],
      "execution_count": null,
      "outputs": []
    },
    {
      "cell_type": "markdown",
      "metadata": {
        "id": "hP2mbJzcjoKu"
      },
      "source": [
        "### ***Transposition***"
      ]
    },
    {
      "cell_type": "markdown",
      "metadata": {
        "id": "HOQbSewpjwFv"
      },
      "source": [
        "One of the fundamental operations in matrix algebra is Transposition. The transpose of a matrix is done by flipping the values of its elements over its diagonals. With this, the rows and columns from the original matrix will be switched. So for a matrix $A$ its transpose is denoted as $A^T$. So for example:"
      ]
    },
    {
      "cell_type": "markdown",
      "metadata": {
        "id": "LYcUcn3ckPA7"
      },
      "source": [
        "$$A = \\begin{bmatrix} 1 & 2 & 5\\\\5 & -1 &0 \\\\ 0 & -3 & 3\\end{bmatrix} $$"
      ]
    },
    {
      "cell_type": "markdown",
      "metadata": {
        "id": "15xZ1IAskP6s"
      },
      "source": [
        "$$ A^T = \\begin{bmatrix} 1 & 5 & 0\\\\2 & -1 &-3 \\\\ 5 & 0 & 3\\end{bmatrix}$$"
      ]
    },
    {
      "cell_type": "markdown",
      "metadata": {
        "id": "8B6LJH-JkU4t"
      },
      "source": [
        "This can now be achieved programmatically by using `np.transpose()` or using the `T` method."
      ]
    },
    {
      "cell_type": "code",
      "metadata": {
        "colab": {
          "base_uri": "https://localhost:8080/"
        },
        "id": "dz10PIUzkXOD",
        "outputId": "d253d382-5ce8-4dd8-e66d-46f602e841e9"
      },
      "source": [
        "A = np.array([\n",
        "    [1 ,2, 5],\n",
        "    [5, -1, 0],\n",
        "    [0, -3, 3]\n",
        "])\n",
        "A"
      ],
      "execution_count": null,
      "outputs": [
        {
          "output_type": "execute_result",
          "data": {
            "text/plain": [
              "array([[ 1,  2,  5],\n",
              "       [ 5, -1,  0],\n",
              "       [ 0, -3,  3]])"
            ]
          },
          "metadata": {},
          "execution_count": 2
        }
      ]
    },
    {
      "cell_type": "code",
      "metadata": {
        "colab": {
          "base_uri": "https://localhost:8080/"
        },
        "id": "N2tn1M0MkaJx",
        "outputId": "fbce2986-cdd3-49e5-87b1-16ce1b8f8ee3"
      },
      "source": [
        "AT1 = np.transpose(A)\n",
        "AT1"
      ],
      "execution_count": null,
      "outputs": [
        {
          "output_type": "execute_result",
          "data": {
            "text/plain": [
              "array([[ 1,  5,  0],\n",
              "       [ 2, -1, -3],\n",
              "       [ 5,  0,  3]])"
            ]
          },
          "metadata": {},
          "execution_count": 3
        }
      ]
    },
    {
      "cell_type": "code",
      "metadata": {
        "colab": {
          "base_uri": "https://localhost:8080/"
        },
        "id": "0zLyQxBukczE",
        "outputId": "930996eb-6cc5-4503-ccb7-98a62d03efbb"
      },
      "source": [
        "AT2 = A.T\n",
        "AT2"
      ],
      "execution_count": null,
      "outputs": [
        {
          "output_type": "execute_result",
          "data": {
            "text/plain": [
              "array([[ 1,  5,  0],\n",
              "       [ 2, -1, -3],\n",
              "       [ 5,  0,  3]])"
            ]
          },
          "metadata": {},
          "execution_count": 4
        }
      ]
    },
    {
      "cell_type": "code",
      "metadata": {
        "colab": {
          "base_uri": "https://localhost:8080/"
        },
        "id": "2CgqgBd8mY0K",
        "outputId": "8fca1917-8bbc-491f-b610-5eaa345637d0"
      },
      "source": [
        "np.array_equiv(AT1, AT2)"
      ],
      "execution_count": null,
      "outputs": [
        {
          "output_type": "execute_result",
          "data": {
            "text/plain": [
              "True"
            ]
          },
          "metadata": {},
          "execution_count": 5
        }
      ]
    },
    {
      "cell_type": "code",
      "metadata": {
        "colab": {
          "base_uri": "https://localhost:8080/"
        },
        "id": "fEw6HSbFmd8x",
        "outputId": "0bb6dfd1-93c7-49df-ace0-24c08bc37e5a"
      },
      "source": [
        "B = np.array([\n",
        "    [1,2,3,4],\n",
        "    [1,0,2,1],\n",
        "])\n",
        "B.shape"
      ],
      "execution_count": null,
      "outputs": [
        {
          "output_type": "execute_result",
          "data": {
            "text/plain": [
              "(2, 4)"
            ]
          },
          "metadata": {},
          "execution_count": 6
        }
      ]
    },
    {
      "cell_type": "code",
      "metadata": {
        "colab": {
          "base_uri": "https://localhost:8080/"
        },
        "id": "j2aa7l7MmgVk",
        "outputId": "d6e561c6-5641-4786-aece-bb7feb1d78f8"
      },
      "source": [
        "np.transpose(B).shape"
      ],
      "execution_count": null,
      "outputs": [
        {
          "output_type": "execute_result",
          "data": {
            "text/plain": [
              "(4, 2)"
            ]
          },
          "metadata": {},
          "execution_count": 7
        }
      ]
    },
    {
      "cell_type": "code",
      "metadata": {
        "colab": {
          "base_uri": "https://localhost:8080/"
        },
        "id": "OQPUQb8umiWv",
        "outputId": "14d353ef-216f-4315-b25e-1ad869c4fc7c"
      },
      "source": [
        "B.T.shape"
      ],
      "execution_count": null,
      "outputs": [
        {
          "output_type": "execute_result",
          "data": {
            "text/plain": [
              "(4, 2)"
            ]
          },
          "metadata": {},
          "execution_count": 8
        }
      ]
    },
    {
      "cell_type": "markdown",
      "metadata": {
        "id": "TwQp1bUkpCt0"
      },
      "source": [
        "###Try to create your own matrix (you can try non-squares) to test transposition."
      ]
    },
    {
      "cell_type": "code",
      "metadata": {
        "colab": {
          "base_uri": "https://localhost:8080/"
        },
        "id": "i-cYWttzpDd5",
        "outputId": "831c49cb-cbbd-4f6e-91dc-c287f5b4ced1"
      },
      "source": [
        "T = np.array([\n",
        "  [5, 2, 9],\n",
        "  [2, -4, 3],\n",
        "  [1, -8, 5],\n",
        "  [5,2,7]\n",
        "])\n",
        "T"
      ],
      "execution_count": null,
      "outputs": [
        {
          "output_type": "execute_result",
          "data": {
            "text/plain": [
              "array([[ 5,  2,  9],\n",
              "       [ 2, -4,  3],\n",
              "       [ 1, -8,  5],\n",
              "       [ 5,  2,  7]])"
            ]
          },
          "metadata": {},
          "execution_count": 9
        }
      ]
    },
    {
      "cell_type": "code",
      "metadata": {
        "colab": {
          "base_uri": "https://localhost:8080/"
        },
        "id": "sNCMjfWtrquG",
        "outputId": "f2d8f904-8cd9-4e2c-da41-7c4f223c3724"
      },
      "source": [
        "T = np.array([\n",
        "  [5, 2, 9],\n",
        "  [2, -4, 3],\n",
        "  [1, -8, 5],\n",
        "  [5,2,7]\n",
        "])\n",
        "T.shape"
      ],
      "execution_count": null,
      "outputs": [
        {
          "output_type": "execute_result",
          "data": {
            "text/plain": [
              "(4, 3)"
            ]
          },
          "metadata": {},
          "execution_count": 10
        }
      ]
    },
    {
      "cell_type": "code",
      "metadata": {
        "colab": {
          "base_uri": "https://localhost:8080/"
        },
        "id": "j0HjqwG-r-se",
        "outputId": "bfc202cd-c6e8-433e-fd64-e2865caaffea"
      },
      "source": [
        "np.transpose(T).shape\n"
      ],
      "execution_count": null,
      "outputs": [
        {
          "output_type": "execute_result",
          "data": {
            "text/plain": [
              "(3, 4)"
            ]
          },
          "metadata": {},
          "execution_count": 11
        }
      ]
    },
    {
      "cell_type": "code",
      "metadata": {
        "colab": {
          "base_uri": "https://localhost:8080/"
        },
        "id": "k8LNFCYFsBgF",
        "outputId": "d2720379-2d1f-4cdd-e467-128450c453af"
      },
      "source": [
        "T.T.shape"
      ],
      "execution_count": null,
      "outputs": [
        {
          "output_type": "execute_result",
          "data": {
            "text/plain": [
              "(3, 4)"
            ]
          },
          "metadata": {},
          "execution_count": 12
        }
      ]
    },
    {
      "cell_type": "code",
      "metadata": {
        "colab": {
          "base_uri": "https://localhost:8080/"
        },
        "id": "8nE-kozvsMrR",
        "outputId": "31c9d04c-d295-4a8c-e288-ac3df68cd4ae"
      },
      "source": [
        "TT = T.T\n",
        "TT"
      ],
      "execution_count": null,
      "outputs": [
        {
          "output_type": "execute_result",
          "data": {
            "text/plain": [
              "array([[ 5,  2,  1,  5],\n",
              "       [ 2, -4, -8,  2],\n",
              "       [ 9,  3,  5,  7]])"
            ]
          },
          "metadata": {},
          "execution_count": 13
        }
      ]
    },
    {
      "cell_type": "markdown",
      "metadata": {
        "id": "PXcY2MULsWy9"
      },
      "source": [
        "### ***Dot Product / Inner Product***\n",
        "\n",
        "\n"
      ]
    },
    {
      "cell_type": "markdown",
      "metadata": {
        "id": "Hk8_gSAaslNm"
      },
      "source": [
        "If you recall the dot product from laboratory activity before, we will try to implement the same operation with matrices. In matrix dot product we are going to get the sum of products of the vectors by row-column pairs. So if we have two matrices $X$ and $Y$:\n",
        "\n",
        "$$X = \\begin{bmatrix}x_{(0,0)}&x_{(0,1)}\\\\ x_{(1,0)}&x_{(1,1)}\\end{bmatrix}, Y = \\begin{bmatrix}y_{(0,0)}&y_{(0,1)}\\\\ y_{(1,0)}&y_{(1,1)}\\end{bmatrix}$$\n",
        "\n",
        "The dot product will then be computed as:\n",
        "$$X \\cdot Y= \\begin{bmatrix} x_{(0,0)}*y_{(0,0)} + x_{(0,1)}*y_{(1,0)} & x_{(0,0)}*y_{(0,1)} + x_{(0,1)}*y_{(1,1)} \\\\  x_{(1,0)}*y_{(0,0)} + x_{(1,1)}*y_{(1,0)} & x_{(1,0)}*y_{(0,1)} + x_{(1,1)}*y_{(1,1)}\n",
        "\\end{bmatrix}$$\n",
        "\n",
        "So if we assign values to $X$ and $Y$:\n",
        "$$X = \\begin{bmatrix}1&2\\\\ 0&1\\end{bmatrix}, Y = \\begin{bmatrix}-1&0\\\\ 2&2\\end{bmatrix}$$"
      ]
    },
    {
      "cell_type": "markdown",
      "metadata": {
        "id": "U6g_iMNespSY"
      },
      "source": [
        "$$X \\cdot Y= \\begin{bmatrix} 1*-1 + 2*2 & 1*0 + 2*2 \\\\  0*-1 + 1*2 & 0*0 + 1*2 \\end{bmatrix} = \\begin{bmatrix} 3 & 4 \\\\2 & 2 \\end{bmatrix}$$\n",
        "This could be achieved programmatically using `np.dot()`, `np.matmul()` or the `@` operator."
      ]
    },
    {
      "cell_type": "code",
      "metadata": {
        "id": "6NBHLULvsqdE"
      },
      "source": [
        "X = np.array([\n",
        "    [1,2],\n",
        "    [0,1]\n",
        "])\n",
        "Y = np.array([\n",
        "    [-1,0],\n",
        "    [2,2]\n",
        "])"
      ],
      "execution_count": null,
      "outputs": []
    },
    {
      "cell_type": "code",
      "metadata": {
        "colab": {
          "base_uri": "https://localhost:8080/"
        },
        "id": "2Su0dUrouZtc",
        "outputId": "6e0d2787-71bb-4827-9579-c236b42ef5d2"
      },
      "source": [
        "np.array_equiv(X, Y)"
      ],
      "execution_count": null,
      "outputs": [
        {
          "output_type": "execute_result",
          "data": {
            "text/plain": [
              "False"
            ]
          },
          "metadata": {},
          "execution_count": 23
        }
      ]
    },
    {
      "cell_type": "code",
      "metadata": {
        "colab": {
          "base_uri": "https://localhost:8080/"
        },
        "id": "6HFpRhBstPW1",
        "outputId": "5bb46e26-df6e-4e89-ad47-7753c514779d"
      },
      "source": [
        "np.dot(X,Y)"
      ],
      "execution_count": null,
      "outputs": [
        {
          "output_type": "execute_result",
          "data": {
            "text/plain": [
              "array([[3, 4],\n",
              "       [2, 2]])"
            ]
          },
          "metadata": {},
          "execution_count": 15
        }
      ]
    },
    {
      "cell_type": "code",
      "metadata": {
        "colab": {
          "base_uri": "https://localhost:8080/"
        },
        "id": "qnEhNL55tS-J",
        "outputId": "4da2e2c1-09af-434b-d1da-d507381cb91a"
      },
      "source": [
        "X.dot(Y)"
      ],
      "execution_count": null,
      "outputs": [
        {
          "output_type": "execute_result",
          "data": {
            "text/plain": [
              "array([[3, 4],\n",
              "       [2, 2]])"
            ]
          },
          "metadata": {},
          "execution_count": 16
        }
      ]
    },
    {
      "cell_type": "code",
      "metadata": {
        "colab": {
          "base_uri": "https://localhost:8080/"
        },
        "id": "7iVW-rTytXAm",
        "outputId": "49277af0-6b90-45c8-a8f0-55b6bb78ab9e"
      },
      "source": [
        "X @ Y"
      ],
      "execution_count": null,
      "outputs": [
        {
          "output_type": "execute_result",
          "data": {
            "text/plain": [
              "array([[3, 4],\n",
              "       [2, 2]])"
            ]
          },
          "metadata": {},
          "execution_count": 17
        }
      ]
    },
    {
      "cell_type": "code",
      "metadata": {
        "colab": {
          "base_uri": "https://localhost:8080/"
        },
        "id": "TpsHlA1otY2-",
        "outputId": "4dd604af-7123-4c3a-a25b-3dc747c74298"
      },
      "source": [
        "np.matmul(X,Y)"
      ],
      "execution_count": null,
      "outputs": [
        {
          "output_type": "execute_result",
          "data": {
            "text/plain": [
              "array([[3, 4],\n",
              "       [2, 2]])"
            ]
          },
          "metadata": {},
          "execution_count": 18
        }
      ]
    },
    {
      "cell_type": "markdown",
      "metadata": {
        "id": "yCe3xeoltdux"
      },
      "source": [
        "###***Sample***"
      ]
    },
    {
      "cell_type": "code",
      "metadata": {
        "id": "aFtNTwElt6U0"
      },
      "source": [
        "V = np.array([\n",
        "    [6,2,7],\n",
        "    [4,6,9],\n",
        "    [6,7,1]\n",
        "])\n",
        "N = np.array([\n",
        "    [4,3,6],\n",
        "    [5,1,4],\n",
        "    [7,2,3]\n",
        "])"
      ],
      "execution_count": null,
      "outputs": []
    },
    {
      "cell_type": "code",
      "metadata": {
        "colab": {
          "base_uri": "https://localhost:8080/"
        },
        "id": "zNNRiY2CukdJ",
        "outputId": "5040f2b1-f715-4055-d655-48f1ef8fa407"
      },
      "source": [
        "V @ N"
      ],
      "execution_count": null,
      "outputs": [
        {
          "output_type": "execute_result",
          "data": {
            "text/plain": [
              "array([[ 83,  34,  65],\n",
              "       [109,  36,  75],\n",
              "       [ 66,  27,  67]])"
            ]
          },
          "metadata": {},
          "execution_count": 24
        }
      ]
    },
    {
      "cell_type": "code",
      "metadata": {
        "colab": {
          "base_uri": "https://localhost:8080/"
        },
        "id": "6vb6Q578uAS0",
        "outputId": "ac076fff-e837-4c1a-8360-00065831c921"
      },
      "source": [
        "np.dot(V,N)"
      ],
      "execution_count": null,
      "outputs": [
        {
          "output_type": "execute_result",
          "data": {
            "text/plain": [
              "array([[ 83,  34,  65],\n",
              "       [109,  36,  75],\n",
              "       [ 66,  27,  67]])"
            ]
          },
          "metadata": {},
          "execution_count": 20
        }
      ]
    },
    {
      "cell_type": "code",
      "metadata": {
        "colab": {
          "base_uri": "https://localhost:8080/"
        },
        "id": "WjdMowPiuCqF",
        "outputId": "06875503-8c95-4f12-f473-4b41980ebcc0"
      },
      "source": [
        "V.dot(N)"
      ],
      "execution_count": null,
      "outputs": [
        {
          "output_type": "execute_result",
          "data": {
            "text/plain": [
              "array([[ 83,  34,  65],\n",
              "       [109,  36,  75],\n",
              "       [ 66,  27,  67]])"
            ]
          },
          "metadata": {},
          "execution_count": 21
        }
      ]
    },
    {
      "cell_type": "code",
      "metadata": {
        "colab": {
          "base_uri": "https://localhost:8080/"
        },
        "id": "Ln-kqZEruE1d",
        "outputId": "1f963fef-62e8-46b6-9fd3-bdfc6ee76d6c"
      },
      "source": [
        "np.matmul(V,N)"
      ],
      "execution_count": null,
      "outputs": [
        {
          "output_type": "execute_result",
          "data": {
            "text/plain": [
              "array([[ 83,  34,  65],\n",
              "       [109,  36,  75],\n",
              "       [ 66,  27,  67]])"
            ]
          },
          "metadata": {},
          "execution_count": 22
        }
      ]
    },
    {
      "cell_type": "markdown",
      "metadata": {
        "id": "HBrKeEK3uta7"
      },
      "source": [
        "*In matrix dot products there are additional rules compared with vector dot products. Since vector dot products were just in one dimension there are less restrictions. Since now we are dealing with Rank 2 vectors we need to consider some rules:*\n",
        "\n",
        "### **Rule 1:** ***The inner dimensions of the two matrices in question must be the same.*** \n",
        "\n",
        "So given a matrix $A$ with a shape of $(a,b)$ where $a$ and $b$ are any integers. If we want to do a dot product between $A$ and another matrix $B$, then matrix $B$ should have a shape of $(b,c)$ where $b$ and $c$ are any integers. So for given the following matrices:\n",
        "\n",
        "$$A = \\begin{bmatrix}2&4\\\\5&-2\\\\0&1\\end{bmatrix}, B = \\begin{bmatrix}1&1\\\\3&3\\\\-1&-2\\end{bmatrix}, C = \\begin{bmatrix}0&1&1\\\\1&1&2\\end{bmatrix}$$\n",
        "\n",
        "So in this case $A$ has a shape of $(3,2)$, $B$ has a shape of $(3,2)$ and $C$ has a shape of $(2,3)$. So the only matrix pairs that is eligible to perform dot product is matrices $A \\cdot C$, or $B \\cdot C$.  "
      ]
    },
    {
      "cell_type": "code",
      "metadata": {
        "colab": {
          "base_uri": "https://localhost:8080/"
        },
        "id": "pkvKIEY6vDL_",
        "outputId": "7d896430-25ac-4e30-cf11-74b98b6c177f"
      },
      "source": [
        "A = np.array([\n",
        "    [2,4],\n",
        "    [5,-2],\n",
        "    [0,1]\n",
        "])\n",
        "B = np.array([\n",
        "    [1,1],\n",
        "    [3,3],\n",
        "    [-1,-2]\n",
        "])\n",
        "C = np.array([\n",
        "    [0,1,1],\n",
        "    [1,1,2]\n",
        "])\n",
        "print(A.shape)\n",
        "print(B.shape)\n",
        "print(C.shape)"
      ],
      "execution_count": null,
      "outputs": [
        {
          "output_type": "stream",
          "name": "stdout",
          "text": [
            "(3, 2)\n",
            "(3, 2)\n",
            "(2, 3)\n"
          ]
        }
      ]
    },
    {
      "cell_type": "code",
      "metadata": {
        "colab": {
          "base_uri": "https://localhost:8080/"
        },
        "id": "c-nBNCfZvLs5",
        "outputId": "2a77d32a-0c61-4541-9d20-897dcde08795"
      },
      "source": [
        "A @ C"
      ],
      "execution_count": null,
      "outputs": [
        {
          "output_type": "execute_result",
          "data": {
            "text/plain": [
              "array([[ 4,  6, 10],\n",
              "       [-2,  3,  1],\n",
              "       [ 1,  1,  2]])"
            ]
          },
          "metadata": {},
          "execution_count": 26
        }
      ]
    },
    {
      "cell_type": "code",
      "metadata": {
        "colab": {
          "base_uri": "https://localhost:8080/"
        },
        "id": "NEp6kj-lvNZ_",
        "outputId": "d1050ed4-b2bb-4179-b6b2-a48c71b127c6"
      },
      "source": [
        "B @ C"
      ],
      "execution_count": null,
      "outputs": [
        {
          "output_type": "execute_result",
          "data": {
            "text/plain": [
              "array([[ 1,  2,  3],\n",
              "       [ 3,  6,  9],\n",
              "       [-2, -3, -5]])"
            ]
          },
          "metadata": {},
          "execution_count": 27
        }
      ]
    },
    {
      "cell_type": "markdown",
      "metadata": {
        "id": "qjb3HZJlveWd"
      },
      "source": [
        "*If you would notice the shape of the dot product changed and its shape is not the same as any of the matrices we used. The shape of a dot product is actually derived from the shapes of the matrices used. So recall matrix $A$ with a shape of $(a,b)$ and matrix $B$ with a shape of $(b,c)$, $A \\cdot B$ should have a shape $(a,c)$.*"
      ]
    },
    {
      "cell_type": "code",
      "metadata": {
        "colab": {
          "base_uri": "https://localhost:8080/"
        },
        "id": "I62BVyScwvxt",
        "outputId": "d9c98780-2c14-49ad-f808-0fef5f755c0e"
      },
      "source": [
        "A @ B.T"
      ],
      "execution_count": null,
      "outputs": [
        {
          "output_type": "execute_result",
          "data": {
            "text/plain": [
              "array([[  6,  18, -10],\n",
              "       [  3,   9,  -1],\n",
              "       [  1,   3,  -2]])"
            ]
          },
          "metadata": {},
          "execution_count": 30
        }
      ]
    },
    {
      "cell_type": "code",
      "metadata": {
        "colab": {
          "base_uri": "https://localhost:8080/"
        },
        "id": "0FCM-4DiwxHw",
        "outputId": "48a11d08-82c5-4f69-c7c2-69a636b4b537"
      },
      "source": [
        "X = np.array([\n",
        "    [1,2,3,0]\n",
        "])\n",
        "Y = np.array([\n",
        "    [1,0,4,-1]\n",
        "])\n",
        "print(X.shape)\n",
        "print(Y.shape)"
      ],
      "execution_count": null,
      "outputs": [
        {
          "output_type": "stream",
          "name": "stdout",
          "text": [
            "(1, 4)\n",
            "(1, 4)\n"
          ]
        }
      ]
    },
    {
      "cell_type": "code",
      "metadata": {
        "colab": {
          "base_uri": "https://localhost:8080/"
        },
        "id": "_xBrhp1zw5JY",
        "outputId": "6eeee73a-b959-4aa4-c820-61283434345d"
      },
      "source": [
        "Y.T @ X"
      ],
      "execution_count": null,
      "outputs": [
        {
          "output_type": "execute_result",
          "data": {
            "text/plain": [
              "array([[ 1,  2,  3,  0],\n",
              "       [ 0,  0,  0,  0],\n",
              "       [ 4,  8, 12,  0],\n",
              "       [-1, -2, -3,  0]])"
            ]
          },
          "metadata": {},
          "execution_count": 32
        }
      ]
    },
    {
      "cell_type": "code",
      "metadata": {
        "colab": {
          "base_uri": "https://localhost:8080/"
        },
        "id": "YnW76BBlw8DA",
        "outputId": "042281f9-5c6b-4611-c0a7-d056a258c1c6"
      },
      "source": [
        "X @ Y.T"
      ],
      "execution_count": null,
      "outputs": [
        {
          "output_type": "execute_result",
          "data": {
            "text/plain": [
              "array([[13]])"
            ]
          },
          "metadata": {},
          "execution_count": 33
        }
      ]
    },
    {
      "cell_type": "markdown",
      "metadata": {
        "id": "kxWgL9MkuxTD"
      },
      "source": [
        "### ***Rule 2: Dot Product has special properties***\n",
        "\n",
        "*Dot products are prevalent in matrix algebra, this implies that it has several unique properties and it should be considered when formulation solutions:*\n",
        " 1. $A \\cdot B \\neq B \\cdot A$\n",
        " 2. $A \\cdot (B \\cdot C) = (A \\cdot B) \\cdot C$\n",
        " 3. $A\\cdot(B+C) = A\\cdot B + A\\cdot C$\n",
        " 4. $(B+C)\\cdot A = B\\cdot A + C\\cdot A$\n",
        " 5. $A\\cdot I = A$\n",
        " 6. $A\\cdot \\emptyset = \\emptyset$ "
      ]
    },
    {
      "cell_type": "code",
      "metadata": {
        "id": "n9Mka5XVxBbX"
      },
      "source": [
        "A = np.array([\n",
        "    [4,2,1],\n",
        "    [7,5,1],\n",
        "    [5,2,4]\n",
        "])\n",
        "B = np.array([\n",
        "    [7,1,4],\n",
        "    [5,2,8],\n",
        "    [8,9,2]\n",
        "]) \n",
        "C = np.array([\n",
        "    [6,3,1],\n",
        "    [2,6,4],\n",
        "    [3,5,8]\n",
        "]) "
      ],
      "execution_count": null,
      "outputs": []
    },
    {
      "cell_type": "code",
      "metadata": {
        "colab": {
          "base_uri": "https://localhost:8080/"
        },
        "id": "ysz77ijUxJ6k",
        "outputId": "757a459e-210a-44e2-a62e-3aea88fda71d"
      },
      "source": [
        "np.identity(3)"
      ],
      "execution_count": null,
      "outputs": [
        {
          "output_type": "execute_result",
          "data": {
            "text/plain": [
              "array([[1., 0., 0.],\n",
              "       [0., 1., 0.],\n",
              "       [0., 0., 1.]])"
            ]
          },
          "metadata": {},
          "execution_count": 36
        }
      ]
    },
    {
      "cell_type": "code",
      "metadata": {
        "colab": {
          "base_uri": "https://localhost:8080/"
        },
        "id": "ST1rt6MTxMjY",
        "outputId": "0ed0db8b-dc6d-494e-a69a-f7cbdd2ec956"
      },
      "source": [
        "A.dot(np.eye(3))"
      ],
      "execution_count": null,
      "outputs": [
        {
          "output_type": "execute_result",
          "data": {
            "text/plain": [
              "array([[4., 2., 1.],\n",
              "       [7., 5., 1.],\n",
              "       [5., 2., 4.]])"
            ]
          },
          "metadata": {},
          "execution_count": 37
        }
      ]
    },
    {
      "cell_type": "code",
      "metadata": {
        "colab": {
          "base_uri": "https://localhost:8080/"
        },
        "id": "kn6uQbS-xyTF",
        "outputId": "0ca2f59a-f2ce-49e0-ea18-ee5806151edf"
      },
      "source": [
        "np.array_equal(A@B,B@C)"
      ],
      "execution_count": null,
      "outputs": [
        {
          "output_type": "execute_result",
          "data": {
            "text/plain": [
              "False"
            ]
          },
          "metadata": {},
          "execution_count": 38
        }
      ]
    },
    {
      "cell_type": "code",
      "metadata": {
        "colab": {
          "base_uri": "https://localhost:8080/"
        },
        "id": "gPI6fAQ1x7OM",
        "outputId": "a0139e81-9a5b-4410-d76f-1e2a5df2012a"
      },
      "source": [
        "E = A @ (B @ C)\n",
        "E"
      ],
      "execution_count": null,
      "outputs": [
        {
          "output_type": "execute_result",
          "data": {
            "text/plain": [
              "array([[412, 410, 386],\n",
              "       [754, 752, 746],\n",
              "       [684, 721, 609]])"
            ]
          },
          "metadata": {},
          "execution_count": 39
        }
      ]
    },
    {
      "cell_type": "code",
      "metadata": {
        "colab": {
          "base_uri": "https://localhost:8080/"
        },
        "id": "8GXZiCj6x-LI",
        "outputId": "82b0a17b-cc75-433d-d09d-53e924dd9b52"
      },
      "source": [
        "F = (A @ B) @ C\n",
        "F"
      ],
      "execution_count": null,
      "outputs": [
        {
          "output_type": "execute_result",
          "data": {
            "text/plain": [
              "array([[412, 410, 386],\n",
              "       [754, 752, 746],\n",
              "       [684, 721, 609]])"
            ]
          },
          "metadata": {},
          "execution_count": 40
        }
      ]
    },
    {
      "cell_type": "code",
      "metadata": {
        "colab": {
          "base_uri": "https://localhost:8080/"
        },
        "id": "yTOUroJVyBBl",
        "outputId": "8687c848-1940-4628-b6ba-86ebeddd3aef"
      },
      "source": [
        "np.array_equal(E, X)"
      ],
      "execution_count": null,
      "outputs": [
        {
          "output_type": "execute_result",
          "data": {
            "text/plain": [
              "False"
            ]
          },
          "metadata": {},
          "execution_count": 41
        }
      ]
    },
    {
      "cell_type": "code",
      "metadata": {
        "colab": {
          "base_uri": "https://localhost:8080/"
        },
        "id": "2D867EmdyCUO",
        "outputId": "53bd493c-91f4-4ab4-eb7d-5f2e7dc3646e"
      },
      "source": [
        "np.array_equiv(E, F)"
      ],
      "execution_count": null,
      "outputs": [
        {
          "output_type": "execute_result",
          "data": {
            "text/plain": [
              "True"
            ]
          },
          "metadata": {},
          "execution_count": 42
        }
      ]
    },
    {
      "cell_type": "code",
      "metadata": {
        "colab": {
          "base_uri": "https://localhost:8080/"
        },
        "id": "rsY2rbUIy0OE",
        "outputId": "dfd7acd3-b21e-4156-dfb1-dd5ff4ed47f7"
      },
      "source": [
        "A @ E"
      ],
      "execution_count": null,
      "outputs": [
        {
          "output_type": "execute_result",
          "data": {
            "text/plain": [
              "array([[3840, 3865, 3645],\n",
              "       [7338, 7351, 7041],\n",
              "       [6304, 6438, 5858]])"
            ]
          },
          "metadata": {},
          "execution_count": 44
        }
      ]
    },
    {
      "cell_type": "code",
      "metadata": {
        "colab": {
          "base_uri": "https://localhost:8080/"
        },
        "id": "r4u1-rSuy2wL",
        "outputId": "ba636d83-2320-40a0-fa6b-d90ff7cc965e"
      },
      "source": [
        "z_mat = np.zeros(A.shape)\n",
        "z_mat"
      ],
      "execution_count": null,
      "outputs": [
        {
          "output_type": "execute_result",
          "data": {
            "text/plain": [
              "array([[0., 0., 0.],\n",
              "       [0., 0., 0.],\n",
              "       [0., 0., 0.]])"
            ]
          },
          "metadata": {},
          "execution_count": 45
        }
      ]
    },
    {
      "cell_type": "code",
      "metadata": {
        "colab": {
          "base_uri": "https://localhost:8080/"
        },
        "id": "2JnQAUO-y4ld",
        "outputId": "08fcbc3f-75c1-4a41-c41e-520997797528"
      },
      "source": [
        "a_dot_z = A.dot(np.zeros(A.shape))\n",
        "a_dot_z"
      ],
      "execution_count": null,
      "outputs": [
        {
          "output_type": "execute_result",
          "data": {
            "text/plain": [
              "array([[0., 0., 0.],\n",
              "       [0., 0., 0.],\n",
              "       [0., 0., 0.]])"
            ]
          },
          "metadata": {},
          "execution_count": 46
        }
      ]
    },
    {
      "cell_type": "code",
      "metadata": {
        "colab": {
          "base_uri": "https://localhost:8080/"
        },
        "id": "0Wa40EHkzGho",
        "outputId": "dd87d560-0e49-426f-b427-e734de2c1a59"
      },
      "source": [
        "np.array_equal(a_dot_z,z_mat)"
      ],
      "execution_count": null,
      "outputs": [
        {
          "output_type": "execute_result",
          "data": {
            "text/plain": [
              "True"
            ]
          },
          "metadata": {},
          "execution_count": 47
        }
      ]
    },
    {
      "cell_type": "code",
      "metadata": {
        "colab": {
          "base_uri": "https://localhost:8080/"
        },
        "id": "qgtu8I7ozIZ4",
        "outputId": "6d287267-2119-4f55-9f50-7b73c9edbbe9"
      },
      "source": [
        "null_mat = np.empty(A.shape, dtype=float)\n",
        "null = np.array(null_mat,dtype=float)\n",
        "print(null)\n",
        "np.allclose(a_dot_z,null)"
      ],
      "execution_count": null,
      "outputs": [
        {
          "output_type": "stream",
          "name": "stdout",
          "text": [
            "[[0. 0. 0.]\n",
            " [0. 0. 0.]\n",
            " [0. 0. 0.]]\n"
          ]
        },
        {
          "output_type": "execute_result",
          "data": {
            "text/plain": [
              "True"
            ]
          },
          "metadata": {},
          "execution_count": 48
        }
      ]
    },
    {
      "cell_type": "markdown",
      "metadata": {
        "id": "-CV7uo4Xz2JL"
      },
      "source": [
        "## ***Determinant***"
      ]
    },
    {
      "cell_type": "markdown",
      "metadata": {
        "id": "EUGAqxMo0FpU"
      },
      "source": [
        "*A* **determinant** *is a scalar value derived from a square matrix. The determinant is a fundamental and important value used in matrix algebra. Although it will not be evident in this laboratory on how it can be used practically, but it will be reatly used in future lessons.* \n",
        "\n",
        "*The determinant of some matrix $A$ is denoted as $det(A)$ or $|A|$. So let's say $A$ is represented as:*\n",
        "$$A = \\begin{bmatrix}a_{(0,0)}&a_{(0,1)}\\\\a_{(1,0)}&a_{(1,1)}\\end{bmatrix}$$\n",
        "*We can compute for the determinant as:*\n",
        "$$|A| = a_{(0,0)}*a_{(1,1)} - a_{(1,0)}*a_{(0,1)}$$\n",
        "So if we have $A$ as:\n",
        "$$A = \\begin{bmatrix}1&4\\\\0&3\\end{bmatrix}, |A| = 3$$\n",
        "\n",
        "*But you might wonder how about square matrices beyond the shape $(2,2)$? We can approach this problem by using several methods such as co-factor expansion and the minors method. This can be taught in the lecture of the laboratory but we can achieve the strenuous computation of high-dimensional matrices programmatically using Python. We can achieve this by using `np.linalg.det()`.*"
      ]
    },
    {
      "cell_type": "code",
      "metadata": {
        "colab": {
          "base_uri": "https://localhost:8080/"
        },
        "id": "VODNJtTa0q3L",
        "outputId": "99b5f4b8-4a00-4b67-a4a4-305231624d80"
      },
      "source": [
        "A = np.array([\n",
        "    [1,4],\n",
        "    [0,3]\n",
        "])\n",
        "np.linalg.det(A)"
      ],
      "execution_count": null,
      "outputs": [
        {
          "output_type": "execute_result",
          "data": {
            "text/plain": [
              "3.0000000000000004"
            ]
          },
          "metadata": {},
          "execution_count": 49
        }
      ]
    },
    {
      "cell_type": "code",
      "metadata": {
        "colab": {
          "base_uri": "https://localhost:8080/"
        },
        "id": "GKJuehLX0tYf",
        "outputId": "94a36e31-8f77-4c24-91e6-7edfd289cdc5"
      },
      "source": [
        "B = np.array([\n",
        "    [1,5,2],\n",
        "    [3,-1,-1],\n",
        "    [0, -2, 1]\n",
        "])\n",
        "np.linalg.det(B)"
      ],
      "execution_count": null,
      "outputs": [
        {
          "output_type": "execute_result",
          "data": {
            "text/plain": [
              "-30.000000000000014"
            ]
          },
          "metadata": {},
          "execution_count": 50
        }
      ]
    },
    {
      "cell_type": "code",
      "metadata": {
        "colab": {
          "base_uri": "https://localhost:8080/"
        },
        "id": "oY27PGD009VQ",
        "outputId": "32f533d0-38d4-4630-e241-e20c2654db93"
      },
      "source": [
        "B = np.array([\n",
        "    [1,3,5,6],\n",
        "    [0,3,1,3],\n",
        "    [3,1,8,2],\n",
        "    [5,2,6,8]\n",
        "])\n",
        "np.linalg.det(B)"
      ],
      "execution_count": null,
      "outputs": [
        {
          "output_type": "execute_result",
          "data": {
            "text/plain": [
              "-235.0000000000002"
            ]
          },
          "metadata": {},
          "execution_count": 51
        }
      ]
    },
    {
      "cell_type": "markdown",
      "metadata": {
        "id": "aghKA8hmz2AP"
      },
      "source": [
        "## ***Inverse***"
      ]
    },
    {
      "cell_type": "markdown",
      "metadata": {
        "id": "T61l344b1UlU"
      },
      "source": [
        "*The inverse of a matrix is another fundamental operation in matrix algebra. Determining the inverse of a matrix let us determine if its solvability and its characteristic as a system of linear equation — we'll expand on this in the nect module. Another use of the inverse matrix is solving the problem of divisibility between matrices. Although element-wise division exists but dividing the entire concept of matrices does not exists. Inverse matrices provides a related operation that could have the same concept of \"dividing\" matrices.*\n",
        "\n",
        "*Now to determine the inverse of a matrix we need to perform several steps. So let's say we have a matrix $M$:*\n",
        "$$M = \\begin{bmatrix}1&7\\\\-3&5\\end{bmatrix}$$\n",
        "*First, we need to get the determinant of $M$.*\n",
        "$$|M| = (1)(5)-(-3)(7) = 26$$\n",
        "*Next, we need to reform the matrix into the inverse form:*\n",
        "$$M^{-1} = \\frac{1}{|M|} \\begin{bmatrix} m_{(1,1)} & -m_{(0,1)} \\\\ -m_{(1,0)} & m_{(0,0)}\\end{bmatrix}$$\n",
        "*So that will be:*\n",
        "$$M^{-1} = \\frac{1}{26} \\begin{bmatrix} 5 & -7 \\\\ 3 & 1\\end{bmatrix} = \\begin{bmatrix} \\frac{5}{26} & \\frac{-7}{26} \\\\ \\frac{3}{26} & \\frac{1}{26}\\end{bmatrix}$$\n",
        "*For higher-dimension matrices you might need to use co-factors, minors, adjugates, and other reduction techinques. To solve this programmatially we can use `np.linalg.inv()`.*"
      ]
    },
    {
      "cell_type": "code",
      "metadata": {
        "colab": {
          "base_uri": "https://localhost:8080/"
        },
        "id": "wG8s07WU2hNp",
        "outputId": "c2ba1fe4-0420-4a53-d6c9-b120c8b3b036"
      },
      "source": [
        "M = np.array([\n",
        "    [1,7],\n",
        "    [-3, 5]\n",
        "])\n",
        "\n",
        "np.array(M @ np.linalg.inv(M), dtype=int)"
      ],
      "execution_count": null,
      "outputs": [
        {
          "output_type": "execute_result",
          "data": {
            "text/plain": [
              "array([[1, 0],\n",
              "       [0, 1]])"
            ]
          },
          "metadata": {},
          "execution_count": 53
        }
      ]
    },
    {
      "cell_type": "code",
      "metadata": {
        "colab": {
          "base_uri": "https://localhost:8080/"
        },
        "id": "1SDQcU3F2BAX",
        "outputId": "f9325f5d-cfa0-4871-a377-7a930563fd1b"
      },
      "source": [
        "P = np.array([\n",
        "    [6,9,0],\n",
        "    [4,2,-1],\n",
        "    [3,6,7]\n",
        "])\n",
        "Q = np.linalg.inv(P)\n",
        "Q"
      ],
      "execution_count": null,
      "outputs": [
        {
          "output_type": "execute_result",
          "data": {
            "text/plain": [
              "array([[-0.12578616,  0.39622642,  0.05660377],\n",
              "       [ 0.19496855, -0.26415094, -0.03773585],\n",
              "       [-0.11320755,  0.05660377,  0.1509434 ]])"
            ]
          },
          "metadata": {},
          "execution_count": 52
        }
      ]
    },
    {
      "cell_type": "code",
      "metadata": {
        "colab": {
          "base_uri": "https://localhost:8080/"
        },
        "id": "z375usyW2j0u",
        "outputId": "cb746fa6-4bae-41d2-aa0a-ca2df85dfbb9"
      },
      "source": [
        "P @ Q"
      ],
      "execution_count": null,
      "outputs": [
        {
          "output_type": "execute_result",
          "data": {
            "text/plain": [
              "array([[ 1.00000000e+00, -5.55111512e-17, -6.93889390e-18],\n",
              "       [ 8.32667268e-17,  1.00000000e+00, -2.77555756e-17],\n",
              "       [ 2.77555756e-17, -1.38777878e-17,  1.00000000e+00]])"
            ]
          },
          "metadata": {},
          "execution_count": 54
        }
      ]
    },
    {
      "cell_type": "code",
      "metadata": {
        "colab": {
          "base_uri": "https://localhost:8080/"
        },
        "id": "FmBhxNKk2l2X",
        "outputId": "68c99782-9840-4b5e-a42f-1a884a718d8b"
      },
      "source": [
        "## And now let's test your skills in solving a matrix with high dimensions:\n",
        "N = np.array([\n",
        "    [18,5,23,1,0,33,5],\n",
        "    [0,45,0,11,2,4,2],\n",
        "    [5,9,20,0,0,0,3],\n",
        "    [1,6,4,4,8,43,1],\n",
        "    [8,6,8,7,1,6,1],\n",
        "    [-5,15,2,0,0,6,-30],\n",
        "    [-2,-5,1,2,1,20,12],\n",
        "])\n",
        "N_inv = np.linalg.inv(N)\n",
        "np.array(N @ N_inv,dtype=int)"
      ],
      "execution_count": null,
      "outputs": [
        {
          "output_type": "execute_result",
          "data": {
            "text/plain": [
              "array([[0, 0, 0, 0, 0, 0, 0],\n",
              "       [0, 0, 0, 0, 0, 0, 0],\n",
              "       [0, 0, 1, 0, 0, 0, 0],\n",
              "       [0, 0, 0, 1, 0, 0, 0],\n",
              "       [0, 0, 0, 0, 0, 0, 0],\n",
              "       [0, 0, 0, 0, 0, 0, 0],\n",
              "       [0, 0, 0, 0, 0, 0, 1]])"
            ]
          },
          "metadata": {},
          "execution_count": 55
        }
      ]
    },
    {
      "cell_type": "markdown",
      "metadata": {
        "id": "KnET7MAE2pS9"
      },
      "source": [
        "*To validate the wether if the matric that you have solved is really the inverse, we follow this dot product property for a matrix $M$:*\n",
        "$$M\\cdot M^{-1} = I$$"
      ]
    },
    {
      "cell_type": "code",
      "metadata": {
        "colab": {
          "base_uri": "https://localhost:8080/"
        },
        "id": "b0yWux603HWD",
        "outputId": "3341ba23-84a3-4234-9d3c-96ede95bd5f7"
      },
      "source": [
        "squad = np.array([\n",
        "    [1.0, 1.0, 0.5],\n",
        "    [0.7, 0.7, 0.9],\n",
        "    [0.3, 0.3, 1.0]\n",
        "])\n",
        "weights = np.array([\n",
        "    [0.2, 0.2, 0.6]\n",
        "])\n",
        "p_grade = squad @ weights.T\n",
        "p_grade\n"
      ],
      "execution_count": null,
      "outputs": [
        {
          "output_type": "execute_result",
          "data": {
            "text/plain": [
              "array([[0.7 ],\n",
              "       [0.82],\n",
              "       [0.72]])"
            ]
          },
          "metadata": {},
          "execution_count": 56
        }
      ]
    },
    {
      "cell_type": "markdown",
      "metadata": {
        "id": "kNQzpUti3MLN"
      },
      "source": [
        "## ***Activity***"
      ]
    },
    {
      "cell_type": "markdown",
      "metadata": {
        "id": "it3pPoTS3PEv"
      },
      "source": [
        "#### ***Task 1***"
      ]
    },
    {
      "cell_type": "markdown",
      "metadata": {
        "id": "pgLPK3WR3RhE"
      },
      "source": [
        "Prove and implement the remaining 6 matrix multiplication properties. You may create your own matrices in which their shapes should not be lower than $(3,3)$.\n",
        "In your methodology, create individual flowcharts for each property and discuss the property you would then present your proofs or validity of your implementation in the results section by comparing your result to present functions from NumPy."
      ]
    },
    {
      "cell_type": "code",
      "metadata": {
        "id": "cOVKbPyD6sBe"
      },
      "source": [
        "# Number 1\n",
        "A = np.array([\n",
        "    [2,2,7],\n",
        "    [9,6,4],\n",
        "    [8,3,5]\n",
        "])\n",
        "B = np.array([\n",
        "    [6,1,3],\n",
        "    [7,2,5],\n",
        "    [3,8,4]\n",
        "]) \n",
        "C = np.array([\n",
        "    [3,4,3],\n",
        "    [5,6,7],\n",
        "    [1,2,9]\n",
        "]) "
      ],
      "execution_count": null,
      "outputs": []
    },
    {
      "cell_type": "code",
      "metadata": {
        "colab": {
          "base_uri": "https://localhost:8080/"
        },
        "id": "tRtCnYvpV4p7",
        "outputId": "dacbcdca-3332-4bb1-b3ba-46f1bc8ce2ab"
      },
      "source": [
        "A = A@B\n",
        "A"
      ],
      "execution_count": null,
      "outputs": [
        {
          "output_type": "execute_result",
          "data": {
            "text/plain": [
              "array([[ 47,  62,  44],\n",
              "       [108,  53,  73],\n",
              "       [ 84,  54,  59]])"
            ]
          },
          "metadata": {},
          "execution_count": 4
        }
      ]
    },
    {
      "cell_type": "code",
      "metadata": {
        "colab": {
          "base_uri": "https://localhost:8080/"
        },
        "id": "GyXAMtToWFvs",
        "outputId": "938f3e52-7584-44e1-cd8d-124e27665e67"
      },
      "source": [
        "B = B@A\n",
        "B"
      ],
      "execution_count": null,
      "outputs": [
        {
          "output_type": "execute_result",
          "data": {
            "text/plain": [
              "array([[ 642,  587,  514],\n",
              "       [ 965,  810,  749],\n",
              "       [1341,  826,  952]])"
            ]
          },
          "metadata": {},
          "execution_count": 5
        }
      ]
    },
    {
      "cell_type": "code",
      "metadata": {
        "colab": {
          "base_uri": "https://localhost:8080/"
        },
        "id": "orzIpgh7WMoL",
        "outputId": "db3ac156-ac9e-40a1-82d8-686c1f221801"
      },
      "source": [
        "np.array_equal(A,B)"
      ],
      "execution_count": null,
      "outputs": [
        {
          "output_type": "execute_result",
          "data": {
            "text/plain": [
              "False"
            ]
          },
          "metadata": {},
          "execution_count": 6
        }
      ]
    },
    {
      "cell_type": "markdown",
      "metadata": {
        "id": "r5CFQHDglaSv"
      },
      "source": [
        "![Untitled Diagram-Page-1.jpg](data:image/jpeg;base64,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)"
      ]
    },
    {
      "cell_type": "code",
      "metadata": {
        "colab": {
          "base_uri": "https://localhost:8080/"
        },
        "id": "2nls-5TW965X",
        "outputId": "87b5cd07-e6a0-431f-d5f5-a6026a99d703"
      },
      "source": [
        "# Number 2\n",
        "D = A @ (B @ C)\n",
        "D"
      ],
      "execution_count": null,
      "outputs": [
        {
          "output_type": "execute_result",
          "data": {
            "text/plain": [
              "array([[ 495,  648,  971],\n",
              "       [ 662,  896, 1352],\n",
              "       [ 581,  778, 1161]])"
            ]
          },
          "metadata": {},
          "execution_count": 8
        }
      ]
    },
    {
      "cell_type": "code",
      "metadata": {
        "colab": {
          "base_uri": "https://localhost:8080/"
        },
        "id": "ORmuiUqQ-DKv",
        "outputId": "4601b062-f4ac-4035-bf3a-1bbf4632f488"
      },
      "source": [
        "E = (A @ B) @ C\n",
        "E"
      ],
      "execution_count": null,
      "outputs": [
        {
          "output_type": "execute_result",
          "data": {
            "text/plain": [
              "array([[ 495,  648,  971],\n",
              "       [ 662,  896, 1352],\n",
              "       [ 581,  778, 1161]])"
            ]
          },
          "metadata": {},
          "execution_count": 9
        }
      ]
    },
    {
      "cell_type": "code",
      "metadata": {
        "colab": {
          "base_uri": "https://localhost:8080/"
        },
        "id": "I7vreVLz95Cz",
        "outputId": "139c5633-7682-4d78-9a2a-2c717883f571"
      },
      "source": [
        "np.array_equal(D,E)"
      ],
      "execution_count": null,
      "outputs": [
        {
          "output_type": "execute_result",
          "data": {
            "text/plain": [
              "True"
            ]
          },
          "metadata": {},
          "execution_count": 12
        }
      ]
    },
    {
      "cell_type": "markdown",
      "metadata": {
        "id": "GdOBtDYDrJHz"
      },
      "source": [
        "![Untitled Diagram-Page-2.jpg](data:image/jpeg;base64,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)"
      ]
    },
    {
      "cell_type": "code",
      "metadata": {
        "colab": {
          "base_uri": "https://localhost:8080/"
        },
        "id": "RMLSr8HoXjPP",
        "outputId": "04e0ded9-1424-4828-8f0c-dd1479d3a974"
      },
      "source": [
        "# Number 3\n",
        "F = A @ (B+C)\n",
        "F"
      ],
      "execution_count": null,
      "outputs": [
        {
          "output_type": "execute_result",
          "data": {
            "text/plain": [
              "array([[ 70,  96, 127],\n",
              "       [169, 133, 178],\n",
              "       [128, 114, 149]])"
            ]
          },
          "metadata": {},
          "execution_count": 13
        }
      ]
    },
    {
      "cell_type": "code",
      "metadata": {
        "colab": {
          "base_uri": "https://localhost:8080/"
        },
        "id": "KrsZrT6xXrUJ",
        "outputId": "c47e4bc2-2dbe-42c1-eb12-1b5b5be01e6c"
      },
      "source": [
        "G = A@B + A@C\n",
        "G"
      ],
      "execution_count": null,
      "outputs": [
        {
          "output_type": "execute_result",
          "data": {
            "text/plain": [
              "array([[ 70,  96, 127],\n",
              "       [169, 133, 178],\n",
              "       [128, 114, 149]])"
            ]
          },
          "metadata": {},
          "execution_count": 14
        }
      ]
    },
    {
      "cell_type": "code",
      "metadata": {
        "colab": {
          "base_uri": "https://localhost:8080/"
        },
        "id": "50IaTqYdYKME",
        "outputId": "895f37bf-708a-4b45-dd41-03fab4e36040"
      },
      "source": [
        "np.array_equal(F,G)"
      ],
      "execution_count": null,
      "outputs": [
        {
          "output_type": "execute_result",
          "data": {
            "text/plain": [
              "True"
            ]
          },
          "metadata": {},
          "execution_count": 15
        }
      ]
    },
    {
      "cell_type": "markdown",
      "metadata": {
        "id": "-qTfnUUTrbXT"
      },
      "source": [
        "![Untitled Diagram-Page-3 (1).jpg](data:image/jpeg;base64,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)"
      ]
    },
    {
      "cell_type": "code",
      "metadata": {
        "colab": {
          "base_uri": "https://localhost:8080/"
        },
        "id": "QL40BGu4YQlL",
        "outputId": "b3fd722b-aef9-4979-c4e1-71ab7faf1e2b"
      },
      "source": [
        "# Number 4\n",
        "H = (B+C) @ A\n",
        "H"
      ],
      "execution_count": null,
      "outputs": [
        {
          "output_type": "execute_result",
          "data": {
            "text/plain": [
              "array([[111,  66, 113],\n",
              "       [192, 108, 176],\n",
              "       [202, 107, 133]])"
            ]
          },
          "metadata": {},
          "execution_count": 16
        }
      ]
    },
    {
      "cell_type": "code",
      "metadata": {
        "colab": {
          "base_uri": "https://localhost:8080/"
        },
        "id": "zIu_KMd8YaXj",
        "outputId": "7e7f8f24-1f44-4646-c8a8-bced707eb794"
      },
      "source": [
        "I = B@A + C@A\n",
        "I"
      ],
      "execution_count": null,
      "outputs": [
        {
          "output_type": "execute_result",
          "data": {
            "text/plain": [
              "array([[111,  66, 113],\n",
              "       [192, 108, 176],\n",
              "       [202, 107, 133]])"
            ]
          },
          "metadata": {},
          "execution_count": 17
        }
      ]
    },
    {
      "cell_type": "code",
      "metadata": {
        "colab": {
          "base_uri": "https://localhost:8080/"
        },
        "id": "fDeyPivFYj3V",
        "outputId": "899cd892-4ed4-4f39-91e9-e8b26787d2fe"
      },
      "source": [
        "np.array_equal(H,I)"
      ],
      "execution_count": null,
      "outputs": [
        {
          "output_type": "execute_result",
          "data": {
            "text/plain": [
              "True"
            ]
          },
          "metadata": {},
          "execution_count": 18
        }
      ]
    },
    {
      "cell_type": "markdown",
      "metadata": {
        "id": "NAf9OBVurdr0"
      },
      "source": [
        "![Untitled Diagram-Page-4.jpg](data:image/jpeg;base64,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)"
      ]
    },
    {
      "cell_type": "code",
      "metadata": {
        "colab": {
          "base_uri": "https://localhost:8080/"
        },
        "id": "fu5EGeVN_mp5",
        "outputId": "5e36db82-903b-47b0-884f-194be6e0afd4"
      },
      "source": [
        "# Number 5\n",
        "J = np.identity(3)\n",
        "J"
      ],
      "execution_count": null,
      "outputs": [
        {
          "output_type": "execute_result",
          "data": {
            "text/plain": [
              "array([[1., 0., 0.],\n",
              "       [0., 1., 0.],\n",
              "       [0., 0., 1.]])"
            ]
          },
          "metadata": {},
          "execution_count": 31
        }
      ]
    },
    {
      "cell_type": "code",
      "metadata": {
        "colab": {
          "base_uri": "https://localhost:8080/"
        },
        "id": "HX6-72zbAJKo",
        "outputId": "399c41aa-a08a-4abb-aaec-66a955edad48"
      },
      "source": [
        "K = A.dot(np.eye(3))\n",
        "K"
      ],
      "execution_count": null,
      "outputs": [
        {
          "output_type": "execute_result",
          "data": {
            "text/plain": [
              "array([[2., 2., 7.],\n",
              "       [9., 6., 4.],\n",
              "       [8., 3., 5.]])"
            ]
          },
          "metadata": {},
          "execution_count": 25
        }
      ]
    },
    {
      "cell_type": "code",
      "metadata": {
        "colab": {
          "base_uri": "https://localhost:8080/"
        },
        "id": "r3JTMg8JbCAI",
        "outputId": "d710dd2f-db7c-430e-8722-f95c180ecdad"
      },
      "source": [
        "np.array_equal(J,K)"
      ],
      "execution_count": null,
      "outputs": [
        {
          "output_type": "execute_result",
          "data": {
            "text/plain": [
              "False"
            ]
          },
          "metadata": {},
          "execution_count": 26
        }
      ]
    },
    {
      "cell_type": "markdown",
      "metadata": {
        "id": "ULc_HkzDrtRz"
      },
      "source": [
        "![Untitled Diagram-Page-5.jpg](data:image/jpeg;base64,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)"
      ]
    },
    {
      "cell_type": "code",
      "metadata": {
        "colab": {
          "base_uri": "https://localhost:8080/"
        },
        "id": "pv6PYw_kb1pI",
        "outputId": "efff8442-28a5-47e7-d186-c70cd9903c38"
      },
      "source": [
        "# Number 6\n",
        "L = np.zeros(A.shape)\n",
        "L\n"
      ],
      "execution_count": null,
      "outputs": [
        {
          "output_type": "execute_result",
          "data": {
            "text/plain": [
              "array([[0., 0., 0.],\n",
              "       [0., 0., 0.],\n",
              "       [0., 0., 0.]])"
            ]
          },
          "metadata": {},
          "execution_count": 28
        }
      ]
    },
    {
      "cell_type": "code",
      "metadata": {
        "colab": {
          "base_uri": "https://localhost:8080/"
        },
        "id": "9JeBabc0cF7z",
        "outputId": "b3994d8e-fb7d-4b8d-b67f-0ffc302a9f22"
      },
      "source": [
        "M = A.dot(np.zeros(A.shape))\n",
        "M"
      ],
      "execution_count": null,
      "outputs": [
        {
          "output_type": "execute_result",
          "data": {
            "text/plain": [
              "array([[0., 0., 0.],\n",
              "       [0., 0., 0.],\n",
              "       [0., 0., 0.]])"
            ]
          },
          "metadata": {},
          "execution_count": 29
        }
      ]
    },
    {
      "cell_type": "markdown",
      "metadata": {
        "id": "7NOtMpXmsaCF"
      },
      "source": [
        "![Untitled Diagram-Page-6.jpg](data:image/jpeg;base64,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)"
      ]
    },
    {
      "cell_type": "markdown",
      "metadata": {
        "id": "9nagAHaO4ACS"
      },
      "source": [
        "## ***Conclusion***"
      ]
    },
    {
      "cell_type": "markdown",
      "metadata": {
        "id": "Xo3Vr3I24B9n"
      },
      "source": [
        "For your conclusion synthesize the concept and application of the laboratory. Briefly discuss what you have learned and achieved in this activity. "
      ]
    },
    {
      "cell_type": "markdown",
      "metadata": {
        "id": "3m0kc30UscFM"
      },
      "source": [
        "\n",
        "In the last discussion, we were taught matrix and vectors has a lot of roles especially to our technology, it is one of the main components why there are different and continuous developments of technologies. In the last two laboratory activity, we were taught about the fundamentals of Python and Matrices. In this experiment the lesson that we tackled is Matrix and its different operations. The first topic that we discussed during our synchronous lesson was the Dot product, there are also different ways or code wherein you can solve a dot product such as using the symbol of @ between two variables. There are also two rules to consider in performing dot products, the first one is the inner dimensions of the two matrices should be the same and the second rule is the dot product has special properties. Solving determinants and inverse were also taught to us by our professor. After this lesson we were tasked to create our own matrices and perform the six different operations and prove it, through the use of Python or Google Colab. I have learned many things about matrix, its operations and how to solve it through the use of the said program. The Google Colab really helps the student in performing or executing block of codes that is about the operations of matrix and helps the student to analyze and be better in coding.\n"
      ]
    }
  ]
}