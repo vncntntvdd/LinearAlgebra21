{
  "nbformat": 4,
  "nbformat_minor": 0,
  "metadata": {
    "colab": {
      "name": "Assignment4_Natividad.ipynb",
      "provenance": [],
      "collapsed_sections": [],
      "authorship_tag": "ABX9TyNhrnCdPMa3WSJLFA7eEMkn",
      "include_colab_link": true
    },
    "kernelspec": {
      "name": "python3",
      "display_name": "Python 3"
    },
    "language_info": {
      "name": "python"
    }
  },
  "cells": [
    {
      "cell_type": "markdown",
      "metadata": {
        "id": "view-in-github",
        "colab_type": "text"
      },
      "source": [
        "<a href=\"https://colab.research.google.com/github/vncntntvdd/LinearAlgebra21/blob/main/Assignment4_Natividad.ipynb\" target=\"_parent\"><img src=\"https://colab.research.google.com/assets/colab-badge.svg\" alt=\"Open In Colab\"/></a>"
      ]
    },
    {
      "cell_type": "markdown",
      "metadata": {
        "id": "-1B0VrRf78O-"
      },
      "source": [
        "## ***Linear Algebra for ECE***\n",
        "###  ***Laboratory 4 : Matrices***"
      ]
    },
    {
      "cell_type": "markdown",
      "metadata": {
        "id": "6k3z_j2_8NqE"
      },
      "source": [
        "### **Objectives**\n",
        "At the end of this activity you will be able to:\n",
        "\n",
        "\n",
        "1.   Be familiar with matrices and their relation to linear equations.\n",
        "2.   Perform basic matrix operations.\n",
        "3.   Program and translate matrix equations and operations using Python\n",
        "\n"
      ]
    },
    {
      "cell_type": "code",
      "metadata": {
        "id": "2xEcuRPk8qUW"
      },
      "source": [
        "import numpy as np\n",
        "import matplotlib.pyplot as plt\n",
        "import scipy.linalg as la\n",
        "%matplotlib inline"
      ],
      "execution_count": null,
      "outputs": []
    },
    {
      "cell_type": "markdown",
      "metadata": {
        "id": "eZVVHI5I8yWU"
      },
      "source": [
        "### ***Matrices***\n",
        "\n",
        "The notation and use of matrices is probably one of the fundamentals of modern computing. Matrices are also handy representations of complex equations or multiple inter-related equations from 2-dimensional equations to even hundreds and thousands of them."
      ]
    },
    {
      "cell_type": "markdown",
      "metadata": {
        "id": "VxF1n_2v9uju"
      },
      "source": [
        "Let's say for example you have $A$ and $B$ as system of equation."
      ]
    },
    {
      "cell_type": "markdown",
      "metadata": {
        "id": "zErIfm8F9Un9"
      },
      "source": [
        ""
      ]
    },
    {
      "cell_type": "markdown",
      "metadata": {
        "id": "B2RVXslC9VIl"
      },
      "source": [
        "$$\n",
        "A = \\left\\{\n",
        "    \\begin{array}\\\n",
        "        x + y \\\\ \n",
        "        4x - 10y\n",
        "    \\end{array}\n",
        "\\right. \\\\\n",
        "B = \\left\\{\n",
        "    \\begin{array}\\\n",
        "        x+y+z \\\\ \n",
        "        3x -2y -z \\\\\n",
        "        -x + 4y +2z\n",
        "    \\end{array}\n",
        "\\right. $$"
      ]
    },
    {
      "cell_type": "markdown",
      "metadata": {
        "id": "Ux3jDY2y-Gkt"
      },
      "source": [
        "We could see that $A$ is a system of 2 equations with 2 parameters. While $B$ is a system of 3 equations with 3 parameters. We can represent them as matrices:"
      ]
    },
    {
      "cell_type": "markdown",
      "metadata": {
        "id": "UBTZV6sO-PHe"
      },
      "source": [
        "$$\n",
        "A=\\begin{bmatrix} 1 & 1 \\\\ 4 & {-10}\\end{bmatrix} \\\\\n",
        "B=\\begin{bmatrix} 1 & 1 & 1 \\\\ 3 & -2 & -1 \\\\ -1 & 4 & 2\\end{bmatrix}\n",
        "$$"
      ]
    },
    {
      "cell_type": "markdown",
      "metadata": {
        "id": "qZJYY96G-oZV"
      },
      "source": [
        "## ***Declaring Matrices***\n",
        "\n",
        "Just like our previous laboratory activity, we'll represent system of linear equations as a matrix. The entities or numbers in matrices are called the elements of a matrix. These elements are arranged and ordered in rows and columns which form the list/array-like structure of matrices. And just like arrays, these elements are indexed according to their position with respect to their rows and columns. This can be represent just like the equation below. Whereas, $A$ is a matrix consisting of elements denoted by Aij. Denoted by i is the number of rows in the matrix while $j$ stands for the number of columns.\n",
        "\n",
        "Do note that the $size$ of a matrix is $i$ x $j$"
      ]
    },
    {
      "cell_type": "markdown",
      "metadata": {
        "id": "Jug5wJA1_GKt"
      },
      "source": [
        "$$A=\\begin{bmatrix}\n",
        "a_{(0,0)}&a_{(0,1)}&\\dots&a_{(0,j-1)}\\\\\n",
        "a_{(1,0)}&a_{(1,1)}&\\dots&a_{(1,j-1)}\\\\\n",
        "\\vdots&\\vdots&\\ddots&\\vdots&\\\\\n",
        "a_{(i-1,0)}&a_{(i-1,1)}&\\dots&a_{(i-1,j-1)}\n",
        "\\end{bmatrix}\n",
        "$$"
      ]
    },
    {
      "cell_type": "markdown",
      "metadata": {
        "id": "wQZtTSaa_LJw"
      },
      "source": [
        "We already gone over some of the types of matrices but we'll further discuss them in this laboratory activity. Since you already know how to describe vectors using **shape**, **dimension**, and **size** attributes of the matrices, we will do it in this platform."
      ]
    },
    {
      "cell_type": "code",
      "metadata": {
        "id": "0JXY2rOy_8GW"
      },
      "source": [
        "## Since we'll keep on describing matrices. Let's make a function.\n",
        "def describe_mat(matrix):\n",
        "    print(f'Matrix:\\n{matrix}\\n\\nShape:\\t{matrix.shape}\\nRank:\\t{matrix.ndim}\\n')"
      ],
      "execution_count": null,
      "outputs": []
    },
    {
      "cell_type": "code",
      "metadata": {
        "colab": {
          "base_uri": "https://localhost:8080/"
        },
        "id": "4jqD8CF6AefO",
        "outputId": "d172d003-a6d7-45fc-87fa-799686a74e83"
      },
      "source": [
        "## Declaring a 2 x 2 matrix\n",
        "A = np.array([\n",
        "      [1, 2],\n",
        "      [3,1]\n",
        "])\n",
        "describe_mat(A)"
      ],
      "execution_count": null,
      "outputs": [
        {
          "output_type": "stream",
          "name": "stdout",
          "text": [
            "Matrix:\n",
            "[[1 2]\n",
            " [3 1]]\n",
            "\n",
            "Shape:\t(2, 2)\n",
            "Rank:\t2\n",
            "\n"
          ]
        }
      ]
    },
    {
      "cell_type": "code",
      "metadata": {
        "colab": {
          "base_uri": "https://localhost:8080/"
        },
        "id": "wTktp0OCB3Wu",
        "outputId": "60cc987c-dfdf-4f2d-f64d-c12be53f906d"
      },
      "source": [
        "G = np.array([\n",
        "    [4,1],\n",
        "    [2,2]\n",
        "])\n",
        "describe_mat(G)"
      ],
      "execution_count": null,
      "outputs": [
        {
          "output_type": "stream",
          "name": "stdout",
          "text": [
            "Matrix:\n",
            "[[4 1]\n",
            " [2 2]]\n",
            "\n",
            "Shape:\t(2, 2)\n",
            "Rank:\t2\n",
            "\n"
          ]
        }
      ]
    },
    {
      "cell_type": "code",
      "metadata": {
        "colab": {
          "base_uri": "https://localhost:8080/"
        },
        "id": "SpAJLtreC8_V",
        "outputId": "5216de8d-af00-4356-9498-7fcea25e4781"
      },
      "source": [
        "## Declaring a 3 x 2 matrix\n",
        "B = np.array([     \n",
        "    [8,2],\n",
        "    [5,4],\n",
        "    [1,1]\n",
        "])\n",
        "describe_mat (B)"
      ],
      "execution_count": null,
      "outputs": [
        {
          "output_type": "stream",
          "name": "stdout",
          "text": [
            "Matrix:\n",
            "[[8 2]\n",
            " [5 4]\n",
            " [1 1]]\n",
            "\n",
            "Shape:\t(3, 2)\n",
            "Rank:\t2\n",
            "\n"
          ]
        }
      ]
    },
    {
      "cell_type": "code",
      "metadata": {
        "colab": {
          "base_uri": "https://localhost:8080/"
        },
        "id": "UZ9-1-XGDhhW",
        "outputId": "acdff606-91b1-4efe-a193-4b9a92074354"
      },
      "source": [
        "H = np.array([1, 2, 3, 4, 5,])\n",
        "describe_mat(H)"
      ],
      "execution_count": null,
      "outputs": [
        {
          "output_type": "stream",
          "name": "stdout",
          "text": [
            "Matrix:\n",
            "[1 2 3 4 5]\n",
            "\n",
            "Shape:\t(5,)\n",
            "Rank:\t1\n",
            "\n"
          ]
        }
      ]
    },
    {
      "cell_type": "markdown",
      "metadata": {
        "id": "PzbTvfQuEOyP"
      },
      "source": [
        "## ***Categorizing Matrices***"
      ]
    },
    {
      "cell_type": "markdown",
      "metadata": {
        "id": "yc84LJdEEuIG"
      },
      "source": [
        "There are several ways of classifying matrices. Once could be according to their **shape** and another is according to their **element values**. We'll try to go through them."
      ]
    },
    {
      "cell_type": "markdown",
      "metadata": {
        "id": "BgsqkxvyEPT-"
      },
      "source": [
        "  ### ***Row and Column Matrices***"
      ]
    },
    {
      "cell_type": "markdown",
      "metadata": {
        "id": "CcFJcfh9Ey4G"
      },
      "source": [
        "Row and column matrices are common in vector and matrix computations. They can also represent row and column spaces of a bigger vector space. Row and column matrices are represented by a single column or single row. So with that being, the shape of row matrices would be $1$ x $j$ and column matrices would $i$ x $1$"
      ]
    },
    {
      "cell_type": "code",
      "metadata": {
        "colab": {
          "base_uri": "https://localhost:8080/"
        },
        "id": "K2qqQlhzETnl",
        "outputId": "9ba49eb1-dd58-4768-ddf3-a798023a0aa4"
      },
      "source": [
        "## Declaring a Row Matrix\n",
        "\n",
        "row_mat_1D = np.array([\n",
        "   1, 3, 2                     \n",
        "]) ## this is a 1-D Matrix with a shape of (3,), it's not really considered as a row matrix\n",
        "row_mat_2D = np.array([\n",
        "       [1,2,3]                \n",
        "]) ## this is a 2-D Matrix with a shape of (3,1)\n",
        "describe_mat(row_mat_1D)\n",
        "describe_mat(row_mat_2D)"
      ],
      "execution_count": null,
      "outputs": [
        {
          "output_type": "stream",
          "name": "stdout",
          "text": [
            "Matrix:\n",
            "[1 3 2]\n",
            "\n",
            "Shape:\t(3,)\n",
            "Rank:\t1\n",
            "\n",
            "Matrix:\n",
            "[[1 2 3]]\n",
            "\n",
            "Shape:\t(1, 3)\n",
            "Rank:\t2\n",
            "\n"
          ]
        }
      ]
    },
    {
      "cell_type": "code",
      "metadata": {
        "colab": {
          "base_uri": "https://localhost:8080/"
        },
        "id": "XPJ4z4QHFSDg",
        "outputId": "fb090cc6-d2c7-4081-fa4b-7937509727d7"
      },
      "source": [
        "## Declaring a Column Matrix\n",
        "\n",
        "col_mat = np.array([\n",
        "    [1],\n",
        "    [2],\n",
        "    [5]                \n",
        "]) ## this is a 2-D matrix with a shape of (3,1)\n",
        "describe_mat(col_mat)"
      ],
      "execution_count": null,
      "outputs": [
        {
          "output_type": "stream",
          "name": "stdout",
          "text": [
            "Matrix:\n",
            "[[1]\n",
            " [2]\n",
            " [5]]\n",
            "\n",
            "Shape:\t(3, 1)\n",
            "Rank:\t2\n",
            "\n"
          ]
        }
      ]
    },
    {
      "cell_type": "markdown",
      "metadata": {
        "id": "GPqBeIOnFsHu"
      },
      "source": [
        "### ***Square matrices***"
      ]
    },
    {
      "cell_type": "markdown",
      "metadata": {
        "id": "A6ZhtQPfFR0p"
      },
      "source": [
        "Square matrices are matrices that have the same row and column sizes. We could say a matrix is square if $i=j$. We can tweak our matrix descriptor function to determine square matrices."
      ]
    },
    {
      "cell_type": "code",
      "metadata": {
        "id": "Y3HcamrtFu0W"
      },
      "source": [
        "def describe_mat(matrix):\n",
        "  is_square = True if matrix.shape[0] == matrix.shape[1] else False\n",
        "  print (f'Matrix:\\n{matrix}\\n\\nShape:\\t{matrix.shape}\\nRank:\\t{matrix.ndim}\\nIs Square: {is_square}\\n')"
      ],
      "execution_count": null,
      "outputs": []
    },
    {
      "cell_type": "code",
      "metadata": {
        "colab": {
          "base_uri": "https://localhost:8080/"
        },
        "id": "TjhScnyrGbCH",
        "outputId": "950869ff-afe4-4c3d-83bf-d64a50be94e3"
      },
      "source": [
        "square_mat = np.array([\n",
        "    [1,2,5],\n",
        "    [3,3,8],\n",
        "    [6,1,2]                   \n",
        "])\n",
        "\n",
        "non_square_mat = np.array([\n",
        "   [1,2,5],\n",
        "   [3,3,8]\n",
        "])\n",
        "describe_mat(square_mat)\n",
        "describe_mat(non_square_mat)"
      ],
      "execution_count": null,
      "outputs": [
        {
          "output_type": "stream",
          "name": "stdout",
          "text": [
            "Matrix:\n",
            "[[1 2 5]\n",
            " [3 3 8]\n",
            " [6 1 2]]\n",
            "\n",
            "Shape:\t(3, 3)\n",
            "Rank:\t2\n",
            "Is Square: True\n",
            "\n",
            "Matrix:\n",
            "[[1 2 5]\n",
            " [3 3 8]]\n",
            "\n",
            "Shape:\t(2, 3)\n",
            "Rank:\t2\n",
            "Is Square: False\n",
            "\n"
          ]
        }
      ]
    },
    {
      "cell_type": "markdown",
      "metadata": {
        "id": "ToUwBM_aIx0I"
      },
      "source": [
        "## ***According to element values***"
      ]
    },
    {
      "cell_type": "markdown",
      "metadata": {
        "id": "mtLzrMlFI1-W"
      },
      "source": [
        "### ***Null Matrix***\n",
        "\n",
        "A Null Matrix is a matrix that has no elements. It is always a subspace of any vetor or matrix."
      ]
    },
    {
      "cell_type": "code",
      "metadata": {
        "id": "39mwRq5NI7RP"
      },
      "source": [
        "def describe_mat(matrix):\n",
        "  if matrix.size > 0:\n",
        "    is_square = True if matrix.shape[0] == matrix.shape[1] else False\n",
        "    print (f'Matrix:\\n{matrix}\\n\\nShape:\\t{matrix.shape}\\nRank:\\t{matrix.ndim}\\nIs Square: {is_square}\\n')\n",
        "  else:\n",
        "    print('Matrix is Null')"
      ],
      "execution_count": null,
      "outputs": []
    },
    {
      "cell_type": "code",
      "metadata": {
        "colab": {
          "base_uri": "https://localhost:8080/"
        },
        "id": "Z3PiZWtxJO4B",
        "outputId": "fcd41e4b-1fc4-4481-fd50-acdc33b32986"
      },
      "source": [
        "null_mat = np.array([])\n",
        "describe_mat(null_mat)"
      ],
      "execution_count": null,
      "outputs": [
        {
          "output_type": "stream",
          "name": "stdout",
          "text": [
            "Matrix is Null\n"
          ]
        }
      ]
    },
    {
      "cell_type": "markdown",
      "metadata": {
        "id": "ui9Ik4JZJZ5n"
      },
      "source": [
        "### ***Zero Matrix***\n",
        "\n",
        "A zero matrix can be any rectangular matrix but with all elements having a value of 0."
      ]
    },
    {
      "cell_type": "code",
      "metadata": {
        "colab": {
          "base_uri": "https://localhost:8080/"
        },
        "id": "7KkKcE23JcY_",
        "outputId": "74b98240-f3bd-4f05-d50a-b493f55e8829"
      },
      "source": [
        "zero_mat_row = np.zeros((1,2))\n",
        "zero_mat_sqr = np.zeros((2,2))\n",
        "zero_mat_rct = np.zeros((3,2))\n",
        "zero_5x5 = np.zeros((5,5))\n",
        "\n",
        "print(f'Zero Row Matrix: \\n{zero_mat_row}')\n",
        "print(f'Zero Square Matrix: \\n{zero_mat_sqr}')\n",
        "print(f'Zero Rectangular Matrix: \\n{zero_mat_rct}')\n",
        "print(f'Zero Matrix 5x5: \\n{zero_5x5}')\n"
      ],
      "execution_count": null,
      "outputs": [
        {
          "output_type": "stream",
          "name": "stdout",
          "text": [
            "Zero Row Matrix: \n",
            "[[0. 0.]]\n",
            "Zero Square Matrix: \n",
            "[[0. 0.]\n",
            " [0. 0.]]\n",
            "Zero Rectangular Matrix: \n",
            "[[0. 0.]\n",
            " [0. 0.]\n",
            " [0. 0.]]\n",
            "Zero Matrix 5x5: \n",
            "[[0. 0. 0. 0. 0.]\n",
            " [0. 0. 0. 0. 0.]\n",
            " [0. 0. 0. 0. 0.]\n",
            " [0. 0. 0. 0. 0.]\n",
            " [0. 0. 0. 0. 0.]]\n"
          ]
        }
      ]
    },
    {
      "cell_type": "markdown",
      "metadata": {
        "id": "4309FYUyK8Y3"
      },
      "source": [
        "### ***Ones Matrix***"
      ]
    },
    {
      "cell_type": "markdown",
      "metadata": {
        "id": "WWGJVxMHFxMu"
      },
      "source": [
        "A ones matrix, just like the zero matrix, can be any rectangular matrix but all of its elements are 1s instead of 0s."
      ]
    },
    {
      "cell_type": "code",
      "metadata": {
        "colab": {
          "base_uri": "https://localhost:8080/"
        },
        "id": "chYTdiYyKk5f",
        "outputId": "04366db6-147e-4658-a2d4-168060421e1a"
      },
      "source": [
        "ones_mat_row = np.ones((1,2))\n",
        "ones_mat_sqr = np.ones((2,2))\n",
        "ones_mat_rct = np.ones((3,2))\n",
        "\n",
        "\n",
        "print(f'Ones Row Matrix: \\n{ones_mat_row}')\n",
        "print(f'Ones square Matrix: \\n{ones_mat_sqr}')\n",
        "print(f'Ones Rectangular Matrix: \\n{ones_mat_rct}')"
      ],
      "execution_count": null,
      "outputs": [
        {
          "output_type": "stream",
          "name": "stdout",
          "text": [
            "Ones Row Matrix: \n",
            "[[1. 1.]]\n",
            "Ones square Matrix: \n",
            "[[1. 1.]\n",
            " [1. 1.]]\n",
            "Ones Rectangular Matrix: \n",
            "[[1. 1.]\n",
            " [1. 1.]\n",
            " [1. 1.]]\n"
          ]
        }
      ]
    },
    {
      "cell_type": "markdown",
      "metadata": {
        "id": "YYQ86vyeK-kv"
      },
      "source": [
        "### ***Diagonal Matrix***\n",
        "\n",
        "A diagonal matrix is a square matrix that has values only at the diagonal of the matrix."
      ]
    },
    {
      "cell_type": "code",
      "metadata": {
        "colab": {
          "base_uri": "https://localhost:8080/"
        },
        "id": "DPAY0jaOLApO",
        "outputId": "bc04ba5b-e8e0-4f4b-c937-e1ba4ae5eb7a"
      },
      "source": [
        "np.array([\n",
        "   [2,0,0],\n",
        "   [0,3,0],\n",
        "   [0,0,5]\n",
        "])\n",
        "# a[1,1], a[2,2], a[3,3], ... a[n-1,n-1]"
      ],
      "execution_count": null,
      "outputs": [
        {
          "output_type": "execute_result",
          "data": {
            "text/plain": [
              "array([[2, 0, 0],\n",
              "       [0, 3, 0],\n",
              "       [0, 0, 5]])"
            ]
          },
          "metadata": {},
          "execution_count": 20
        }
      ]
    },
    {
      "cell_type": "code",
      "metadata": {
        "colab": {
          "base_uri": "https://localhost:8080/"
        },
        "id": "zZxppYRZLMXY",
        "outputId": "6398070d-3bf5-476d-a6e4-947540e1388a"
      },
      "source": [
        "d = np.diag([2,3,5,7])\n",
        "d"
      ],
      "execution_count": null,
      "outputs": [
        {
          "output_type": "execute_result",
          "data": {
            "text/plain": [
              "array([[2, 0, 0, 0],\n",
              "       [0, 3, 0, 0],\n",
              "       [0, 0, 5, 0],\n",
              "       [0, 0, 0, 7]])"
            ]
          },
          "metadata": {},
          "execution_count": 23
        }
      ]
    },
    {
      "cell_type": "markdown",
      "metadata": {
        "id": "38XvsskmLVOf"
      },
      "source": [
        "### ***Identity Matrix***\n",
        "\n",
        "An identity matrix is a special diagonal matrix in which the values at the diagonal are ones"
      ]
    },
    {
      "cell_type": "code",
      "metadata": {
        "colab": {
          "base_uri": "https://localhost:8080/"
        },
        "id": "flRIKkGiLYTi",
        "outputId": "09e826f9-4984-4d80-aa92-43f3ac3bbf78"
      },
      "source": [
        "np.eye(5)"
      ],
      "execution_count": null,
      "outputs": [
        {
          "output_type": "execute_result",
          "data": {
            "text/plain": [
              "array([[1., 0., 0., 0., 0.],\n",
              "       [0., 1., 0., 0., 0.],\n",
              "       [0., 0., 1., 0., 0.],\n",
              "       [0., 0., 0., 1., 0.],\n",
              "       [0., 0., 0., 0., 1.]])"
            ]
          },
          "metadata": {},
          "execution_count": 24
        }
      ]
    },
    {
      "cell_type": "code",
      "metadata": {
        "colab": {
          "base_uri": "https://localhost:8080/"
        },
        "id": "zvXaxknlLcQ4",
        "outputId": "fd39c71d-8ac5-4e26-adcf-ff15078bcb03"
      },
      "source": [
        "np.identity(5)"
      ],
      "execution_count": null,
      "outputs": [
        {
          "output_type": "execute_result",
          "data": {
            "text/plain": [
              "array([[1., 0., 0., 0., 0.],\n",
              "       [0., 1., 0., 0., 0.],\n",
              "       [0., 0., 1., 0., 0.],\n",
              "       [0., 0., 0., 1., 0.],\n",
              "       [0., 0., 0., 0., 1.]])"
            ]
          },
          "metadata": {},
          "execution_count": 52
        }
      ]
    },
    {
      "cell_type": "markdown",
      "metadata": {
        "id": "hyDvXu5dLf1A"
      },
      "source": [
        "### ***Upper Triangular Matrix***\n",
        "\n",
        "A matrix that has no values below the diagonal."
      ]
    },
    {
      "cell_type": "code",
      "metadata": {
        "id": "MjZWRzWhLi20",
        "colab": {
          "base_uri": "https://localhost:8080/"
        },
        "outputId": "c6c3fc4a-9379-4688-dcf4-473a1a34661a"
      },
      "source": [
        "A = np.array([\n",
        "    [1,2,1],\n",
        "    [0,3,1],\n",
        "    [0,0,5]          \n",
        "])\n",
        "describe_mat(A)"
      ],
      "execution_count": null,
      "outputs": [
        {
          "output_type": "stream",
          "name": "stdout",
          "text": [
            "Matrix:\n",
            "[[1 2 1]\n",
            " [0 3 1]\n",
            " [0 0 5]]\n",
            "\n",
            "Shape:\t(3, 3)\n",
            "Rank:\t2\n",
            "Is Square: True\n",
            "\n"
          ]
        }
      ]
    },
    {
      "cell_type": "markdown",
      "metadata": {
        "id": "JRRL2CkQLjin"
      },
      "source": [
        "### ***Lower Triangular Matrix***\n",
        "\n",
        "A matrix that has no values above the diagonal"
      ]
    },
    {
      "cell_type": "code",
      "metadata": {
        "id": "ElsCh-ZvL6NU",
        "colab": {
          "base_uri": "https://localhost:8080/"
        },
        "outputId": "8077f3f0-7ffc-48d6-85f9-51a85606dbeb"
      },
      "source": [
        "np.array([\n",
        "    [1,0,0],\n",
        "    [5,3,0],\n",
        "    [7,8,5]\n",
        "])"
      ],
      "execution_count": null,
      "outputs": [
        {
          "output_type": "execute_result",
          "data": {
            "text/plain": [
              "array([[1, 0, 0],\n",
              "       [5, 3, 0],\n",
              "       [7, 8, 5]])"
            ]
          },
          "metadata": {},
          "execution_count": 27
        }
      ]
    },
    {
      "cell_type": "markdown",
      "metadata": {
        "id": "BQiHwoEIL7P3"
      },
      "source": [
        "## **Practice**"
      ]
    },
    {
      "cell_type": "code",
      "metadata": {
        "colab": {
          "base_uri": "https://localhost:8080/"
        },
        "id": "tRLanc12MPpX",
        "outputId": "7edf3dc3-6438-4273-c974-845c56a51335"
      },
      "source": [
        "theta = np.array([\n",
        "  [5,3,-1]\n",
        "])\n",
        "describe_mat(theta)"
      ],
      "execution_count": null,
      "outputs": [
        {
          "output_type": "stream",
          "name": "stdout",
          "text": [
            "Matrix:\n",
            "[[ 5  3 -1]]\n",
            "\n",
            "Shape:\t(1, 3)\n",
            "Rank:\t2\n",
            "Is Square: False\n",
            "\n"
          ]
        }
      ]
    },
    {
      "cell_type": "markdown",
      "metadata": {
        "id": "BqDsSLfbJnul"
      },
      "source": [
        "G=\\begin{bmatrix} 1 & 7 & 8 \\\\ 2 & 2 & 2 \\\\ 4 & 6 & 7\\end{bmatrix} \\\\"
      ]
    },
    {
      "cell_type": "markdown",
      "metadata": {
        "id": "8-r2bqvmJqdo"
      },
      "source": [
        "$$\n",
        "G = \\left\\{\n",
        "    \\begin{array}\\\n",
        "        x + 7x_2 + 8x_3 \\\\\n",
        "        2x + 2x_2 + 2x_3 \\\\\n",
        "        4x + 6x_2 + 7x_3\n",
        "    \\end{array}\n",
        "\\right. \\\\\n",
        "$$"
      ]
    },
    {
      "cell_type": "code",
      "metadata": {
        "colab": {
          "base_uri": "https://localhost:8080/"
        },
        "id": "JMz1qiFUNVmX",
        "outputId": "403eb113-e1e5-44aa-a888-8b5a26220582"
      },
      "source": [
        "A = np.array([\n",
        "  [1,2,1],\n",
        "  [0,4,-1],\n",
        "  [10,0,0]\n",
        "])\n",
        "describe_mat(A)"
      ],
      "execution_count": null,
      "outputs": [
        {
          "output_type": "stream",
          "name": "stdout",
          "text": [
            "Matrix:\n",
            "[[ 1  2  1]\n",
            " [ 0  4 -1]\n",
            " [10  0  0]]\n",
            "\n",
            "Shape:\t(3, 3)\n",
            "Rank:\t2\n",
            "Is Square: True\n",
            "\n"
          ]
        }
      ]
    },
    {
      "cell_type": "markdown",
      "metadata": {
        "id": "D_5RIWMOPEco"
      },
      "source": [
        "$$\n",
        "A = \\left\\{\n",
        "    \\begin{array}\\\n",
        "        x + 7x_2+8x_3\\\\ \n",
        "        2x + 2x_2+2x_3\\\\\n",
        "        4x+6x_2+7x_3\n",
        "    \\end{array}\n",
        "\\right. \\\\\n",
        "$$"
      ]
    },
    {
      "cell_type": "code",
      "metadata": {
        "colab": {
          "base_uri": "https://localhost:8080/"
        },
        "id": "spQYjUrQPP6P",
        "outputId": "e38137ce-2160-4718-a1de-62a5ae326fd2"
      },
      "source": [
        "H = np.triu(G)\n",
        "H"
      ],
      "execution_count": null,
      "outputs": [
        {
          "output_type": "execute_result",
          "data": {
            "text/plain": [
              "array([[4, 1],\n",
              "       [0, 2]])"
            ]
          },
          "metadata": {},
          "execution_count": 55
        }
      ]
    },
    {
      "cell_type": "markdown",
      "metadata": {
        "id": "QHGz6XROQM4r"
      },
      "source": [
        "## **Matrix Algebra**"
      ]
    },
    {
      "cell_type": "markdown",
      "metadata": {
        "id": "q03vyAKcRIEY"
      },
      "source": [
        "### *Addition*"
      ]
    },
    {
      "cell_type": "code",
      "metadata": {
        "colab": {
          "base_uri": "https://localhost:8080/"
        },
        "id": "YMoH9-EkQegA",
        "outputId": "50b579e4-51df-4544-91ed-a100a90d1b95"
      },
      "source": [
        "A = np.array([\n",
        "   [1,2],\n",
        "   [2,3],\n",
        "   [4,1]           \n",
        "])\n",
        "B = np.array([\n",
        "  [2,2],\n",
        "  [0,0],\n",
        "  [1,1]\n",
        "])\n",
        "A + B"
      ],
      "execution_count": null,
      "outputs": [
        {
          "output_type": "execute_result",
          "data": {
            "text/plain": [
              "array([[3, 4],\n",
              "       [2, 3],\n",
              "       [5, 2]])"
            ]
          },
          "metadata": {},
          "execution_count": 29
        }
      ]
    },
    {
      "cell_type": "code",
      "metadata": {
        "colab": {
          "base_uri": "https://localhost:8080/"
        },
        "id": "53uVkA7xKPl-",
        "outputId": "a774e320-97fd-4707-9c77-211eec9a4c61"
      },
      "source": [
        "2+A ##Broadcasting\n",
        "# 2*np.ones(A.shape)+A"
      ],
      "execution_count": null,
      "outputs": [
        {
          "output_type": "execute_result",
          "data": {
            "text/plain": [
              "array([[3, 4],\n",
              "       [4, 5],\n",
              "       [6, 3]])"
            ]
          },
          "metadata": {},
          "execution_count": 30
        }
      ]
    },
    {
      "cell_type": "markdown",
      "metadata": {
        "id": "jxTdJQHFKZPl"
      },
      "source": [
        "### *Subtraction*"
      ]
    },
    {
      "cell_type": "code",
      "metadata": {
        "colab": {
          "base_uri": "https://localhost:8080/"
        },
        "id": "FElUbKveKbV2",
        "outputId": "58fb2dc7-5cf8-40db-c93e-71082afbf870"
      },
      "source": [
        "A-B"
      ],
      "execution_count": null,
      "outputs": [
        {
          "output_type": "execute_result",
          "data": {
            "text/plain": [
              "array([[-1,  0],\n",
              "       [ 2,  3],\n",
              "       [ 3,  0]])"
            ]
          },
          "metadata": {},
          "execution_count": 31
        }
      ]
    },
    {
      "cell_type": "code",
      "metadata": {
        "colab": {
          "base_uri": "https://localhost:8080/"
        },
        "id": "op9hl1ytKe4n",
        "outputId": "739d2431-a8fc-4af1-de48-f52c25bde9bc"
      },
      "source": [
        "3-B ##== 3*np.ones(B.shape)-B"
      ],
      "execution_count": null,
      "outputs": [
        {
          "output_type": "execute_result",
          "data": {
            "text/plain": [
              "array([[1, 1],\n",
              "       [3, 3],\n",
              "       [2, 2]])"
            ]
          },
          "metadata": {},
          "execution_count": 33
        }
      ]
    },
    {
      "cell_type": "markdown",
      "metadata": {
        "id": "0y9nxIKmKuDh"
      },
      "source": [
        "### *Element-Wise Multiplication*"
      ]
    },
    {
      "cell_type": "code",
      "metadata": {
        "colab": {
          "base_uri": "https://localhost:8080/"
        },
        "id": "Yd-J_GTDKvFI",
        "outputId": "b8c1377a-4c1c-4451-dc61-226702b27d7b"
      },
      "source": [
        "A*B\n",
        "np.multiply(A,B)"
      ],
      "execution_count": null,
      "outputs": [
        {
          "output_type": "execute_result",
          "data": {
            "text/plain": [
              "array([[2, 4],\n",
              "       [0, 0],\n",
              "       [4, 1]])"
            ]
          },
          "metadata": {},
          "execution_count": 34
        }
      ]
    },
    {
      "cell_type": "code",
      "metadata": {
        "colab": {
          "base_uri": "https://localhost:8080/"
        },
        "id": "La6NPWoGLF1P",
        "outputId": "60019792-3445-48a5-ba57-dd60070cfb71"
      },
      "source": [
        "2*A"
      ],
      "execution_count": null,
      "outputs": [
        {
          "output_type": "execute_result",
          "data": {
            "text/plain": [
              "array([[2, 4],\n",
              "       [4, 6],\n",
              "       [8, 2]])"
            ]
          },
          "metadata": {},
          "execution_count": 35
        }
      ]
    },
    {
      "cell_type": "code",
      "metadata": {
        "id": "ZgpEVz_eLHpX"
      },
      "source": [
        "##A@B"
      ],
      "execution_count": null,
      "outputs": []
    },
    {
      "cell_type": "code",
      "metadata": {
        "colab": {
          "base_uri": "https://localhost:8080/"
        },
        "id": "q7TF3aqALIW5",
        "outputId": "87e9f40c-9fab-4611-c77f-793e3ab5b06d"
      },
      "source": [
        "alpha=10**-10\n",
        "A/(alpha+B)"
      ],
      "execution_count": null,
      "outputs": [
        {
          "output_type": "execute_result",
          "data": {
            "text/plain": [
              "array([[5.e-01, 1.e+00],\n",
              "       [2.e+10, 3.e+10],\n",
              "       [4.e+00, 1.e+00]])"
            ]
          },
          "metadata": {},
          "execution_count": 37
        }
      ]
    },
    {
      "cell_type": "code",
      "metadata": {
        "colab": {
          "base_uri": "https://localhost:8080/"
        },
        "id": "8G6iHShiLNvd",
        "outputId": "cfd014ce-81c6-441b-b113-6f6fed917172"
      },
      "source": [
        "np.add(A,B)"
      ],
      "execution_count": null,
      "outputs": [
        {
          "output_type": "execute_result",
          "data": {
            "text/plain": [
              "array([[3, 4],\n",
              "       [2, 3],\n",
              "       [5, 2]])"
            ]
          },
          "metadata": {},
          "execution_count": 41
        }
      ]
    },
    {
      "cell_type": "markdown",
      "metadata": {
        "id": "O0NOnLMLglgj"
      },
      "source": [
        "# ***Task 1***"
      ]
    },
    {
      "cell_type": "markdown",
      "metadata": {
        "id": "5l0STTfpgnKI"
      },
      "source": [
        "Create a function named mat_desc() that througouhly describes a matrix, it should:\n",
        "\n",
        "1. Displays the shape, size, and rank of the matrix.\n",
        "2.Displays whether the matrix is square or non-square.\n",
        "3.Displays whether the matrix is an empty matrix.\n",
        "4.Displays if the matrix is an identity, ones, or zeros matrix\n",
        "\n",
        "Use sample matrices in which their shapes are not lower than $(3,3)$. In your methodology, create a flowchart discuss the functions and methods you have done. Present your results in the results section showing the description of each matrix you have declared."
      ]
    },
    {
      "cell_type": "markdown",
      "metadata": {
        "id": "w9JGZsxQgq5q"
      },
      "source": [
        "###1. **Shape, Size and Rank of a Matrix**"
      ]
    },
    {
      "cell_type": "code",
      "metadata": {
        "id": "bU6LqueeguGp"
      },
      "source": [
        "def mat_desc(matrix):\n",
        "    print(f'Matrix:\\n{matrix}\\n\\nShape:\\t{matrix.shape}\\nRank:\\t{matrix.ndim}\\n')"
      ],
      "execution_count": null,
      "outputs": []
    },
    {
      "cell_type": "code",
      "metadata": {
        "colab": {
          "base_uri": "https://localhost:8080/"
        },
        "id": "NqNmittOguiT",
        "outputId": "8e50bef3-cbe5-469a-cad4-2bcbab0832a6"
      },
      "source": [
        "A = np.array([\n",
        "    [4,6,8 ],\n",
        "    [7,3,0],\n",
        "    [8,2,5],\n",
        "    [6,7,4]          \n",
        "])\n",
        "mat_desc(A)"
      ],
      "execution_count": null,
      "outputs": [
        {
          "output_type": "stream",
          "name": "stdout",
          "text": [
            "Matrix:\n",
            "[[4 6 8]\n",
            " [7 3 0]\n",
            " [8 2 5]\n",
            " [6 7 4]]\n",
            "\n",
            "Shape:\t(4, 3)\n",
            "Rank:\t2\n",
            "\n"
          ]
        }
      ]
    },
    {
      "cell_type": "code",
      "metadata": {
        "colab": {
          "base_uri": "https://localhost:8080/"
        },
        "id": "vQu9gMLcgwzT",
        "outputId": "512d22dd-c7ff-4ee7-819f-0c3207e16382"
      },
      "source": [
        "B = np.array([\n",
        "    [4,6,5,8],\n",
        "    [7,7,4,9],\n",
        "    [5,4,5,8]    \n",
        "])\n",
        "mat_desc(B)"
      ],
      "execution_count": null,
      "outputs": [
        {
          "output_type": "stream",
          "name": "stdout",
          "text": [
            "Matrix:\n",
            "[[4 6 5 8]\n",
            " [7 7 4 9]\n",
            " [5 4 5 8]]\n",
            "\n",
            "Shape:\t(3, 4)\n",
            "Rank:\t2\n",
            "\n"
          ]
        }
      ]
    },
    {
      "cell_type": "code",
      "metadata": {
        "colab": {
          "base_uri": "https://localhost:8080/"
        },
        "id": "vrt4lITXg8nJ",
        "outputId": "f167af51-a3b7-43fd-e54f-480651502283"
      },
      "source": [
        "row_mat_1D = np.array([\n",
        "   8, 6, 4                     \n",
        "]) \n",
        "row_mat_2D = np.array([\n",
        "       [5,7,9], \n",
        "       [2,1,4], \n",
        "       [5,2,3], \n",
        "       [6,8,9],                \n",
        "]) \n",
        "mat_desc(row_mat_1D)\n",
        "mat_desc(row_mat_2D)"
      ],
      "execution_count": null,
      "outputs": [
        {
          "output_type": "stream",
          "name": "stdout",
          "text": [
            "Matrix:\n",
            "[8 6 4]\n",
            "\n",
            "Shape:\t(3,)\n",
            "Rank:\t1\n",
            "\n",
            "Matrix:\n",
            "[[5 7 9]\n",
            " [2 1 4]\n",
            " [5 2 3]\n",
            " [6 8 9]]\n",
            "\n",
            "Shape:\t(4, 3)\n",
            "Rank:\t2\n",
            "\n"
          ]
        }
      ]
    },
    {
      "cell_type": "code",
      "metadata": {
        "id": "UtHPHBUxg-qd"
      },
      "source": [
        "col_mat = np.array([\n",
        "    [8,1,9],\n",
        "    [5,8,2],\n",
        "    [7,3,6]                \n",
        "]) \n",
        "mat_desc(col_mat)"
      ],
      "execution_count": null,
      "outputs": []
    },
    {
      "cell_type": "markdown",
      "metadata": {
        "id": "SWAigsAZ0zKH"
      },
      "source": [
        "#### **Flowchart**\n",
        "\n",
        "![shapes.png](data:image/png;base64,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)"
      ]
    },
    {
      "cell_type": "markdown",
      "metadata": {
        "id": "IX1rE_uHhAa8"
      },
      "source": [
        "## 2. **Square Matrices**"
      ]
    },
    {
      "cell_type": "code",
      "metadata": {
        "id": "fsr0ZSgrhCGR"
      },
      "source": [
        "def mat_desc(matrix):\n",
        "  is_square = True if matrix.shape[0] == matrix.shape[1] else False\n",
        "  print (f'Matrix:\\n{matrix}\\n\\nShape:\\t{matrix.shape}\\nRank:\\t{matrix.ndim}\\nIs Square: {is_square}\\n')"
      ],
      "execution_count": null,
      "outputs": []
    },
    {
      "cell_type": "code",
      "metadata": {
        "colab": {
          "base_uri": "https://localhost:8080/"
        },
        "id": "pShVs5jjicU1",
        "outputId": "eeabc617-1d47-4bdc-a2a6-0b9439f3186f"
      },
      "source": [
        "square_mat = np.array([\n",
        "    [7,4,5],\n",
        "    [8,9,5],\n",
        "    [6,5,6],                  \n",
        "])\n",
        "\n",
        "non_square_mat = np.array([\n",
        "   [8,9,5],\n",
        "   [6,4,8],\n",
        "   [5,4,3],\n",
        "   [7,9,6]\n",
        "])\n",
        "mat_desc(square_mat)\n",
        "mat_desc(non_square_mat)"
      ],
      "execution_count": null,
      "outputs": [
        {
          "output_type": "stream",
          "name": "stdout",
          "text": [
            "Matrix:\n",
            "[[7 4 5]\n",
            " [8 9 5]\n",
            " [6 5 6]]\n",
            "\n",
            "Shape:\t(3, 3)\n",
            "Rank:\t2\n",
            "Is Square: True\n",
            "\n",
            "Matrix:\n",
            "[[8 9 5]\n",
            " [6 4 8]\n",
            " [5 4 3]\n",
            " [7 9 6]]\n",
            "\n",
            "Shape:\t(4, 3)\n",
            "Rank:\t2\n",
            "Is Square: False\n",
            "\n"
          ]
        }
      ]
    },
    {
      "cell_type": "markdown",
      "metadata": {
        "id": "h0JBuQ2h0vam"
      },
      "source": [
        "#### **Flowchart**\n",
        "\n",
        "![square.png](data:image/png;base64,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)"
      ]
    },
    {
      "cell_type": "markdown",
      "metadata": {
        "id": "AmDJdlKRifwY"
      },
      "source": [
        "##3. **Empty Matrix**"
      ]
    },
    {
      "cell_type": "code",
      "metadata": {
        "id": "YhFQHhAfiiDJ"
      },
      "source": [
        "def mat_desc(matrix):\n",
        "  if matrix.size > 0:\n",
        "    is_square = True if matrix.shape[0] == matrix.shape[1] else False\n",
        "    print (f'Matrix:\\n{matrix}\\n\\nShape:\\t{matrix.shape}\\nRank:\\t{matrix.ndim}\\nIs Square: {is_square}\\n')\n",
        "  else:\n",
        "    print('Matrix is Null')"
      ],
      "execution_count": null,
      "outputs": []
    },
    {
      "cell_type": "code",
      "metadata": {
        "colab": {
          "base_uri": "https://localhost:8080/"
        },
        "id": "i25hEkqGijm6",
        "outputId": "bc1cd523-f22a-47b3-aaa0-1e1bc24aa205"
      },
      "source": [
        "null_mat = np.array([])\n",
        "mat_desc(null_mat)"
      ],
      "execution_count": null,
      "outputs": [
        {
          "output_type": "stream",
          "name": "stdout",
          "text": [
            "Matrix is Null\n"
          ]
        }
      ]
    },
    {
      "cell_type": "markdown",
      "metadata": {
        "id": "JZXMv4yz0rnk"
      },
      "source": [
        "#### **Flowchart**\n",
        "\n",
        "![null.png](data:image/png;base64,iVBORw0KGgoAAAANSUhEUgAAAg8AAAF0CAYAAACkKNo9AAAAAXNSR0IArs4c6QAAGvd0RVh0bXhmaWxlACUzQ214ZmlsZSUyMGhvc3QlM0QlMjJhcHAuZGlhZ3JhbXMubmV0JTIyJTIwbW9kaWZpZWQlM0QlMjIyMDIxLTA5LTI0VDE3JTNBMTQlM0E1OS4yMjdaJTIyJTIwYWdlbnQlM0QlMjI1LjAlMjAoV2luZG93cyUyME5UJTIwMTAuMCUzQiUyMFdpbjY0JTNCJTIweDY0KSUyMEFwcGxlV2ViS2l0JTJGNTM3LjM2JTIwKEtIVE1MJTJDJTIwbGlrZSUyMEdlY2tvKSUyMENocm9tZSUyRjkzLjAuNDU3Ny44MiUyMFNhZmFyaSUyRjUzNy4zNiUyMEVkZyUyRjkzLjAuOTYxLjUyJTIyJTIwZXRhZyUzRCUyMm5mOEZfQzlPQVpUUE5xVk9WZE13JTIyJTIwdmVyc2lvbiUzRCUyMjE0LjUuNiUyMiUyMHR5cGUlM0QlMjJnb29nbGUlMjIlMjBwYWdlcyUzRCUyMjMlMjIlM0UlM0NkaWFncmFtJTIwaWQlM0QlMjJ3UzVqaDEzOGtvUTJZdHlZRjhqNyUyMiUyMG5hbWUlM0QlMjJQYWdlLTElMjIlM0U3VnpmZDZJNEZQNXJQR2Ztb1I0ZyUyRlBLeHRlMXN6MDU3ZXNiZGJmc1lKU283UUp5QVZmZXYzd1NDRUJJdHRTaTBuWmRxYm00Z3VUZmZ6YzJYMkI0WWh1dHZCQzdtdDloRFFjJTJGUXZIVVBYUFlNUTljQm9COU1zdUVTd3pReXlZejRIcGNWZ3BIJTJGSCUyQkpDalV1WHZvZGlRVEhCT0VqOGhTaWM0Q2hDazBTUVFVTHdTbFNiNGtCODZ3TE9rQ1FZVFdBZ1N4OThMNWxuVXRmU0N2a2Z5SiUyRk44emZyR3E4SllhN01CZkVjZW5oVkVvR3JIaGdTakpQc1c3Z2Vvb0JaTDdkTDF1NTZSJTJCMjJZd1JGU1owRzEzYzM1dHFkZyUyQmZiNWVQbDRQSDhjcUE3Wjl3OXp6Qlk4Z0h6emlhYjNBTElvd2JoUlV5U09aN2hDQVpYaGZTQzRHWGtJZllhalpZS25lOFlMNmhRcDhKJTJGVVpKc3VIZmhNc0ZVTkUlMkZDZ05mS1ElMkJHamklMkZHU1ROQ2UlMkZ1ZFRBcElaU3ZibzhXR3hzWlJld0EzMURlRVFKV1JERlFnS1lPSSUyRmk4NkhmQTdOdG5xRm1la1hidWxYV0YxWFdOME9hUDh2cHBoYWdFNVR5RWR0JTJGMXF5JTJCWEZCdTBobVBpd0U5TnVNZjZZTng3bGdSRzJSNUZMYXUzRlZrOHF5dCUyQlRpcXIlMkJEZ0lLTCUyQlhVMTl4TTBXbVI5V1ZHQWkxNmIlMkJrRXd4QUVtYVR2Z1FlUk9KMVFlSndUJTJGUktVYWUlMkJLaThYU2ZuNThSU2RCNnIyZDRyVEhnY05vR0ZGNWVsZERKUmZNU01IUEFOdTVMNjUwanlLaUpJTE5UQ0RLYVE5Qk50Rml5RnJjd0lmNjZMa3BvTkYlMkJ3cjlUa01BaFFnR2NFaGxSeGdZaFBoNGhJdGU2JTJCcUhnWldHdVVMNFh0QWMwUmdXWm9NdEMyNENzanpUNFcwcHcyZ0VVTlNEYVBySDNmc3AxYzhFUUZaMXBmS3lTWGElMkY2T3JMUXBsMHF1VDRXSGc5V3NDVmE3VTJBZHRPMDR5eTA3VHV1bXo5eE8lMkJjeVVBdXhOek5xd1NBblpzSDh0cVMyeVBKZUZUWEF0T1puTWNUaGV4bDFOSk54S2ZITVY4VTFUeExldHNQbTAwRzRGS0dzJTJGNFRqaHBhZFNUWUVSVmhBZzhsZ3VQQlZQMkFPdHcxRmsxMFNSM3EwOHhaWmdkRSUyRjhORUVwRXBHJTJGNWtoS1A4YWtsTGJEa0FFbUdzZnN3NDhyQ1B4c2lZbXVpOEFGQXdWd3dTa1RFOTE2ZDdqVlQ0VmI5MzNpMWowT2JpTmNYVDglMkZHM3BOclhQbzFTUmZQNkZZOGd3ZFh5TGFVN1JUaENOVU1Tb1h3Y0NmUmJRNG9WWkwlMkZjU3M1VTlnY000clF0JTJGemdsMkVpeGdubW9pZmxZMGQwR1VQbUFvSEdFZHpnRXlIM2VHUGEzJTJGVHREcG1mem5YYjQ2T3ZJcTh6ME5HbXZicHlNaFlHd3olMkJlWjclMkIlMkJiQjZpQjklMkZqQUxuN08lMkZ6c3p4d2RqOFRVYTcyTDZZWTZrSExLWVpTejNCUGxGSHM2JTJCWEg0dnpIR2dMSVZzRk1RNjdtdXR0M1NaaFN1SG9uekNvb3M1eVdVZFlOeXIlMkZxQ3QzenBwcktGYnJtZ0FGcUZuT0s3YmhTejJrVGN2TG0lMkJ5TkFycTZmM3dRNXM0bzVxMlhNdGNNaHY0a2FLM2JWZFZqbkJzSHAxQVJucSUyQnVoMHh3NDM5MEozb2t3WE5ubzJVQ3gxVDdXQ1o3UzU3cmJLb3BMR0M0UWZReWlyQkVVSzVnenRWR3RObUZzdExyajBBOXg2VUZuRnFkMTZhQk5sOHJjNSUyQkdSbVpHZSUyRklTUTJvZTVNMlZRSzF4cHlvMXE2UmxpdmRoOTZOSGlxUUt2eVBBNGlqdEsyMU9NdVhoNzhGZ3diZWVJb3Ywb21sdjBaWGJBYUJOekNoTDZKZEROWHRxcnhBc1lDUzdQRmRrVHoxSXdnbk9xb091THRmd1UlMkJieURGa1paenNSYWZRbDd4akQ2S29QNUI0eCUyQmNoVkN2MzRWSGkwZmt1UjR6M3I3dWoxVXQxTTRpWGR1SUxUWXB0dXZSQmRYbGRZQnAyOHBkbWRGNCUyQlpuc0V4d2RmMFk1VzFCSG9qWnRhUFlJUiUyQkx4bGM3UUtieE8zNk04aWI3VzY3Vkxmc2I3ZHplYVQlMkJyemE4JTJGSEglMkJKVFp1ZUV3STNKWVVGcGd0VlhIcnlQYzVXTGo1UmdDa0MxUjFZRlY5blR5dzh2JTJCM2FHOENvNG9oZm5VVFhXTHUxZW11M2VGZEJTeFB1dXlVYlIzVnhmdDlyYmdPQnBYcngyVEgxZnA0JTJCbDVkWVM4V2NiSmZkNXNPTExybmlOd082RTM2RG1pRkoxOVJ6NFVSWiUyRjJCbmxOaWZ2RTloNkFlYkxBUnNMeHBSSEFCVDJCaUljcWFiJTJGcTJWJTJGMzlIU1pybGYwMmIwUTVvWXhaQ2tqU1FwTCUyQnJvd1poaCUyRnZhbDZqUVNRTkxwalBCd1RLa1l4am1pbnRUJTJGZGJIVzcydmxiRVclMkZjanpRM0ZjYkZPemN6QlZua0xBWHhlNUN0dXNSanRWcUZQc0pZNUdFaHVnTzRGdUc5dU9mWWNoUzQyNmZtYVQ5JTJGSWozUlJxNXp6VmJmc09BekM2ZzdMT3B4TkdYZUllbk9yUzh0NXUlMkZrNG4yaDl2OTlLSmsxelZzb3klMkJTTXZZQ2xybXRQa0VhT1RYOXMxdHhadmgwTHU4VFQlMkZOVEt2UWYlMkZaMjVoMWxrMDZMeGIlMkZxeUZpaTRqJTJCZWdLdiUyRkFRJTNEJTNEJTNDJTJGZGlhZ3JhbSUzRSUzQ2RpYWdyYW0lMjBpZCUzRCUyMkc4WXRnRU8zd0cyUmZsdmZQVEZFJTIyJTIwbmFtZSUzRCUyMlBhZ2UtMiUyMiUzRTdWMXRjNXM0RVA0MW51bmRURElnR1l3JTJGWGhKZnI5ZjJydGZjVEYlMkIlMkJZU013RFVaVXhvbWRYMTloSTJOQUpxUUZMYkg1MGxqTEFvdWtaMWY3YUtFRGZMMVl2MloyTkg5UEhSSU1rT2FzQiUyRmhtZ05CNHBQTiUyRkU4Rm1KOUExYzdpVGVNeDNVbGttdVBVZmlWQk1wU3ZmSWN1Y1lreHBFUHRSWGppallVaG1jVTVtTTBZZjhtb3VEZkozald5UGxBUzNNenNvU3olMkY1VGp6ZlNTMUR5JTJCUiUyRkVkJTJCYml6dnJXbnBrWVF2bFZMQ2MydzU5T0JEaHlRQmZNMHJqM2ElMkZGJTJCcG9FU2VlSmZybkhuOUhIcjYlMkJqcSUyQiUyRnNuenYzNzAzNFp2TDJZbmV4UDU5enl2NFJHQW5qWmklMkJkanVVeTNvaiUyQklnN3Z2clJKV1R5bkhnM3RZSkpKcnhoZGhRNUpycXJ4VnFiemp0S0lDM1V1JTJGRWJpZUpQT0JYc1ZVeTZheDRzZ1BicTdaM0tqd2hBOThYeXAzcEt1Mkl4VTZLRjBtdG5NSTFYWHclMkZ0QjVMT2YwQVdKMllhZngwaGd4JTJGNTkzamc3blliZVhpJTJGcmF2NGo3ZTFuOUh4cTVMMGRyTkk3RFpBWmNIT3ZYTXA3Z2M5ME8zMUk4JTJGc3FtV0pYM0VUbSUyQlhZbTRMJTJCODlPJTJGMnhLa1EzUEpIajRXVVd6Y3RhbkxaN2k1Q1hKd0VRY0R4bVF6Mnc5eVB5VzIwcyUyQldCdTRqOFVMcCUyQkVGelRnTEx0ZWRpeGllWE91SHdaTTNwSERvNllNNHRNM2YyOTdnbUx5Zm9uaHI4OFhPbFYwRENGYWVxb2NOcDh5RUN2QzU4MFB3QzhxYlUwd0NZRXRIZ1BzczNuNVB4TFF6UyUyRnBKZmJObTdXdWRZbWJiVU5TVndUa2dZa0pIRnprUFREYUpXY3NSZ2dib3NXMWdVZWp6RlI4cE4zdkIwRUpLQWVzeGRjTVNMTTV3OUpXUEhZaCUyQnpBMDFoZEV4R2dPNFpkaEM2TkhIcjNVRDJFNzlBb3czZlVGbnl0SHI0RldOYUE3d2dTdnNaUiUyQkM0ak84eU5wWUJyZ3NVTDExNzRBZSUyRkpQd2JKc3M2MEY5RzJSekVlOHIlMkZlSHVGNWVSbnk3MGdDJTJCREM2ZkNTTUx2blBWd240dzklMkJTcXliM1RCYVV6RjhmZUlLZFdVYzhRWDR1dlp3d2pQTkFScG9FeUVobEhCYWVSREdTMTM1OEFHVGUlMkJuSndKSU54MGhBbzdpcjZSelhSUDRaRSUyRjZpNTRQMkIlMkJkc3pTb0R0UTNlTjBJMHM2TkE5YmpHMW1vVE91U2RXSTRXWjFXVDUzcmhaM2IweCUyRnZ2MHI0ZSUyRjJvJTJGZnpPa0ZpRU52ME1sS0gwcHdZd2RPVnFxbmlyU29NdkswU0l1cFJqQXhaZGpTaUtWWlZvdllHdXFqZ3ZkVVNWdEloeGlkYWQ1ekhHdzFRS21LdHFneThreHBDMGowYXZuSXFKUzBrRTRGRURxJTJGcSUyQkNWa0JaU1BWV2tSWldSNEtRRkRRa3Nad0VhaFVzNWpFcldRam92WUhZUFhpWnBjUnpWTmRCdlFhTCUyRm5FbUxEZ1Z1cFpURjhWbDRXcFJGdDlJcWNOSmlET0hRMjNheW9nZWY5TEk2Z25TendzelQ0aTBBT1VIY09kcEMxOHY5ZXI2cGo0N3E0bklJaWt2VUhDNEZkZkVTbGo2UWJIN1hLQXNkOThBdDRyRU9jRTFRNEE2UEFsY3RiZUU3dk4lMkY5ZVBOcW5YRVdObVAyNXNUTExIRDNHQXZkQUFIeUNWRVd1bGtYJTJGS0NVcFRDelNkYWlpTmslMkJjajhWdWVFNUM3MUI5cW9ycEVXbmNpcVZuTVhJbmY3dlRkeUxqMiUyRkh6RnE3ekxxT1BLQzk0SmZwMGFVZEtLRkhwSHBIWmtiaiUyRnJ6S3lCTWpSd3hpT1VNWmtDMDB4YWJaSXBETlVSSEpRMmdnTjFpM3N5OFJTUGNaTkw2VXY2NDluSkNoRzNCR21JV3NHeW1NM2RJSjhmeWFFZSUyRlloRml1Rm9QaWRyRzJ5JTJCJTJCNGpsWjdhdnhTSmdhSjlsSXFKdU5VMmtyRnBLUGJieDclMkZZdHlXc0RCU1BWVjFYMVZHTnBtR2JiSGNlJTJGTDZuaHlOb1QzNThRS2lsNXVFZFdudGhtVjV0dHJGR3d4RHJ0Q2QlMkYlMkJ6NHR4Y0FaRHk4WEJFMEJGVHc4SDN1MWdnSk13U0glMkYlMkY3ekl6MzgxY0ZmVWpzc1YxUzFEVmRwWnAlMkZYdzNpTEFpVnZtTkNMUWZGY3ZhOVE2Q3NrdTNaeVJWV2x4cFZtTmtINU9MN3JFdDU5WEYlMkZLJTJGRnljQWU5VDJvRTNEV2phUjJ6STllaFhpSDZyTHZwVmZSMmgwc3dteWFKREw5Q3ZFbXF2RWtheVdsbWxxd1Q5RkQlMkJRMEtHYzBaSnQ3NmpOR1ZFZkNWUkhBaVI1V1Z5dUNFb1pvUVpmRiUyQjhwbzBINSUyQnlnZFlJeGdYZ00lMkZiJTJGVFhaWXlRcXRyTlNqTjd4Z2pJV1pRJTJCbDlVQjB1amt5d1U2NkM0a3I2ZkxGVUhUUnZUOEV0JTJCanBGSEVxTE9heFhMRzZQY3pZSXlLbjhhRUo0d1F6RWR1enh2NTQ1ckl4NXA4TmlsQ2ZvTWNnU0NNOWg2Z1h5RThaNFVBVHhnSkEzckNxSldNRVo0dnd2MiUyQm9mSkFnRkhkUUtEcUhmMUtNM3UlMkJxTFdQMDhBelJyZ3ZNVlNQJTJGN29saGhpMHhraVkyVE5HUU81QzYxcVJFVDc1RiUyRjA3NkN6cUZobGgwQ0lqM0dDUlVkTDBTWGlFTUVyc1BIM0txUHhsVW5qU0NQZFZSdXJoWDdmS0NJUFN4YmlGS3FQTURmU3JoUHFyaEE1d1JuMlJVYk9SUUdXVkVXOW0lMkY2JTJGdDl0akIlMkZ3Nk1KejhBJTNDJTJGZGlhZ3JhbSUzRSUzQ2RpYWdyYW0lMjBpZCUzRCUyMll5c3ZwbUN3TEJnODY3VnV4eHBrJTIyJTIwbmFtZSUzRCUyMlBhZ2UtMyUyMiUzRTVWcGJkNXM0RVA0MVBtZnpVQiUyRkV4WFllVThkSnU1dDIwJTJGV2ViWk0zMlNpZ1ZDQXFSQXo5OVN1Qk1BaG9Rcks0T05zWEc0MUd0NW41UG8wRUUyc1pwSmNNUnY0SDZpSXlNUTAzblZqbkU5TThuUVB4S3dWWklRREd6QzRrSHNPdWtsV0NOZjZPU2tVbFRiQ0xZazJSVTBvNGpuVGhsb1loMm5KTkJobWpPMTN0amhKOTFBaDZxQ1ZZYnlGcFN6OWpsJTJGdUZkT0VZbGZ3ZHdwNWZqZ3dNVlJQQVVsa0pZaCUyQjZkRmNUV2F1SnRXU1U4dUlwU0plSVNPT1Zkam5mckM2JTJGdWQ5OWZ2dnU5OHVGamIlMkY4bWFFM1JXY1h6Mm15WHdKRElYOXgxeEdodDlIOVAlMkJlZjd0UFAyUjlYN3Z1TDI1VnFZanhBa2loN3FiWHlyRFFnY29VOVZaRXk3bE9QaHBDc0t1bGJScFBRUlhJWVE1UXFuU3RLSXlFRVFuaVBPTTlVY01DRVV5SHllVUJVN1IwbVpFa0paZm1JMWdhNDdwM3NLdWFNZmtXMUdtRE1yVk01WkRGTE9iV0dsNTh3a2RLTGFjSzI2Qkc3bEpFS21ZZjRJM3JXUGc0RWdCQU5FR2VaYU1jUWdSdyUyRjZKT0RLcEs5dlY3bExmR2dIUFlNNTRFTzU4MElsd2Fsd2dvQ0xGQXRjdll0a1ZINlZreVJlUmhXQXZIa3FmJTJCODRhWVVyTVhTZVNrVnM5czBOWVdzR0tVVU44T0dFQUZ4NmF1ZGp6bGFSOFZjZG9KbGhuSCUyQkEySWNwUzl3Zjl0ZHFoZHpwdUN3NXpwVjN0V0lRNG44R21lVVhESzRnMGNCSTBveCUyRnlLYlR4MVZ1cW5WbktlcTU3eVFsWVZRTExmV1NCWnY2blZWczd4VXRqczBqSzJlTUo2TkNXTnJPQmklMkZENk5FdHZnQU9jTnBYNmlLalMyU2o4THNrQkJFcU1kZ0lCUWp4TEJZSW1MTnV1dXE0bWwwcDZqTUNvNE03WFlEN1lzMjJvSFpBZmZab2VCdWp3cjNHdGdyNkQ4QmQ2Q0J2Y0wlMkJTSENmOVlRN01NZkV1ek9tbThGTDNHeThVamZiWTdwNU5pQ3R4OFY1Sk9kMEk1WSUyQmxzU2tValpXcW1HcEpoeHcwWmY0bVUlMkJEVFJLJTJGcWh6TmRqVFdOdWNkckEwNldIc3ZITnpSODFId2ZLUVV2T2lMelZGVHJzV3pzZWs5ZFhLS0l4aHFVVkFxeWg3ZjVKaTF6b1FDQUZIYTd1V2E0WHpjZW8yeEx2SXkyZXEzWUdJdXc1TTI1diUyQkM0VmVsd3NUamlkWjFRN2RHQzhWc24zZWlPJTJCNDBFUkxzaFVLMkZYR2NqM2dvQnJMQllqclhTY2pxU2gydCUyQmRUcE9DdFdqUWVQNnROV1ZOJTJCZ3VPVkdZUTZ1RzE4M2FraEQxUENBRXJWTUxJMkx0NUNjcVlvQXV5NzUwWkZmcDd5RDdRJTJCR250VmJIV2Q0dTJON01BJTJCMU80RDJGZHRIJTJCb3M1eFhLY0kzTUthSG5nWiUyQjdaUjVaUEElMkZObmJkcDUwelBHWUZaVGlLalklMkIlMkJKYXo5ZTAyQXpMR0FRNnBHMlZBbFlCVVBSWWhjTiUyQmF2OGhRc3doMHZjZTZZRFJMeDM0MjBlMWV4MGpUJTJGVSUyRkpuSWR6ZjMlMkJkVyUyRmpCOXUxOVJneVQ4SFVkTnFidHROMTM3UGZ5SWZuSVdzVUh2b2YzZkFDdXlkM0xjWThiNVN6N0dDVHg4OE5kekRBSkN1b1FsVEJJTXB0YWxtMmRpYlI1VkkzJTJGJTJCMTE5TGhDUEQ5Z25PVE54QVNNamFRYW5oTk8lMkZ2NVZHQ1IwcFU1WTZlUUVWT2hzS1VrQ3NZWmxxZmpvS1dQMDllNmJoNXRZJTJGaFgzS3RQUXhZRyUyQkxubWUlMkJ1RmltamNwR2laZnpXMktEWnEwMk1XSkhjZVlnOTJCZzFGdlIzVkczSk5nSnlNZW5ObjZYbk9PZXBNQ0Jyem1iTDJFWG1sczhpdSUyQmdyYk5nNzJDRnNYcTI1VWliYTYlMkJBTEpXJTJGd0klM0QlM0MlMkZkaWFncmFtJTNFJTNDJTJGbXhmaWxlJTNFQ1SSowAAIABJREFUeF7tnXd8VFX6xh9qKAECIdSEFooEkN4DSC8qCirFsiurwIosVRRQFEQBpaPiUlxUUIFVEKQ36b2XICW0BBBCQoBACC2/z7n+zuzNMJO50++988w/kMwp7/t9T+Y+856WJT09PR18kQAJmJbArbT7OHElGbEJN3Hm2k2cv56Cyzfu4FrKXSSnpiHl7n3cvf8A9x8+ArIASAdyZMuKXDmyIzhXDoTkDkLh4FwoXiAPShcMRrnC+REZlh+VioYgX1AO03KjYyRAAvYJZKF44PAgAXMROBSfiB1nr2DHuasQ/79y8w5Kh+ZHsZBghObLi5Dg3CiYNzfy5w5CcK6cyJ0zO4KyZ0f2bFktIB48fIS0Bw+Qeu8BUu7ew83UNFy/nYrklFQk3rqNP5NTcD7xJormz4Pq4aFoUKYIGpUtqvyfLxIgAfMToHgwf4zpockJpKTdx6qYOCw/FofNpy6hQJ4gVCxeGKXDCqJskYIoUTCf1whcun4LZ69ex/mE6zh5+Rpu3ElD0wol8HSVCLSLikAwMxNeY8+GScCfBCge/EmffZOAGwSWHT2Pn/bGYnXMBdQrVwJREUVRNaIoCgXndqNV96ompaTiaNwVHI+7gl1nLqFtVCl0rxOJZ6qWdq9h1iYBEtAVAYoHXYWDxpBA5gQSUu5i1rbjmLv7FEqEBKNWZDjqlQ9HUPZsukOX9uAhdp+Ox77YeFxOTsFr9SqgZ+PKCAvOpTtbaRAJkIBzBCgenOPF0iTgFwJigeOkDUfw7c4/0LZaOTSqVAbhofn9YosrncYn3sT2E+ew+sgZvN7wCQxqXk1ZgMkXCZCAMQlQPBgzbrQ6QAg8Sk/H6FUH8NXGI3imZkW0rBaJfLmDDOv9rdQ0rD8Si2UHTuLtp6phRLuayJpFbPHgiwRIwEgEKB6MFC3aGlAEFh08i4+W70WV8CJoX6uSskPCLC+xc2Pl/hM4Fn8VHz9dB51qlDWLa/SDBAKCAMVDQISZThqJgFgr0P/nHdgfdw2d61dFVHiYkcx3ytaY+AQs2nUUtSJCMfXFRrpcu+GUQyxMAgFCgOIhQAJNN41BYN+FBPxz/lYl29C5QVVjGO0BKxftPKpkIf7dLRq1S5lXLHkAFZsgAV0QoHjQRRhoBAkAvxw4i7fmb8abLWqjQYWIgEOy81QcZm/Yh6+7N8ULnMYIuPjTYWMRoHgwVrxorUkJzN7xB8avOYTereuhfLFCJvXSsVun/0zCjLW7MaR1dbzZ6AnHFViCBEjALwQoHvyCnZ2SwP8IfLvzJMavO4R/tW/o1dMgjcJcnFr5xcodGNKqOl5vUNEoZtNOEggoAhQPARVuOqs3Aitj4tBn/hYMebaJoc5t8DZHcS7E+N+2YHq3aLSPKuXt7tg+CZCAkwQoHpwExuIk4CkC5xJvodmUpejdqh6qRhTxVLOmaedo3FXMWLcbmwZ0RJlQ793PYRpgdIQEfEiA4sGHsNkVCagJPDdjDUoXDUWrJ8sTjB0C6w6fxvkriVjSuw0ZkQAJ6IgAxYOOgkFTAofArG1/YMGBs+jXoVHgOO2ip9NWbEfXmmXRszEXULqIkNVIwOMEKB48jpQNkkDmBO4/fISo0QvRt10D5cpsvjInIK78/nLVTsSM6IIc2bISFwmQgA4IUDzoIAg0IbAITN14FJvOXMXrT9UOLMfd8Pa7jfvQtFwR9H8qcA7OcgMXq5KA1wlQPHgdMTsggYwEao37Ba82rRXQ5zk4OybE+Q/zNu/H/qEvOFuV5UmABLxAgOLBC1DZJAnYI7D73FX0WbgNH77YgpCcJPDxzxswvUtj1CvDnSlOomNxEvA4AYoHjyNlgyRgn8Cnqw7gdPJddKoX5VVMx/ftxNAu7TL08fLA4eja913I9+TPrhriqXa09r94dwwiQ3Lhg3Y1tVZhORIgAS8RoHjwElg2SwK2CDw3YzVqVyiNGmWKew2QfKgPmjQTzZ7rgnt37+KbT4ahULHihhYPB89dxr5T57Gkd1uvsWPDJEAC2ghQPGjjxFIk4BECVT5ZiEHPRCMsf16PtGerkU1LFmLSoF6Q4kGUuZWchBXzZqNwsZKY9t7blmplK1dFn0+m4MepY3Fg83rL79t174E3PhiL2GMHLRmMN94fg/1b1ivluv3rXcz/4vMM7QyZNgcly1Xwml8JN29j0rKtOPZBF6/1wYZJgAS0EaB40MaJpUjAIwSKDv0e0994BjmyZfNIe7YasZ6yGLdwFSrXbmAp6mi6YcGXn+PHyWMg60kxUrNpS9Rq0hLffDpcESZFwkspwsLd6Q+tIO4/fIg+3yzDlXF/01qF5UiABLxEgOLBS2DZLAlYE0gHEPrOHHzbp7PX4UgBoO5IZiIyEw9yimPVT3MeEw/qTIZo15EI8YaTr09fhKQJPbzRNNskARJwggDFgxOwWJQE3CXgi8yD2saLZ05hfL8eOHv8KMQUhZhauHk98bGMgRQCokxI4SI4sGWD7sQDMw/ujj7WJwHPEaB48BxLtkQCDgl4e82DyBwsnj0NHV59E/lCCin2yGzCiYN7bIoHKTAq1airrHMQ9W1NW/g788A1Dw6HFwuQgM8IUDz4DDU7IgHA27stpFC4cvECBk+epQgIa3EgF0HKRZEJl+KU7IQQD6++MwLzJoyGM9MWsp2cuXJ5NcTcbeFVvGycBJwiQPHgFC4WJgH3CIxZfQCnklLRqX4V9xrKpLat9Q7qB7zYeTFxYE9l14SYphgw/t9Y+cM3imAQP9eIboHFs6YpPbw1eiK+HjHY0pt6caR1O97ebbFo1zFUKJQb77flOQ9eGzxsmAQ0EqB40AiKxUjAEwR4wqTrFHnCpOvsWJMEPE2A4sHTRNkeCTggwLstnB8ivNvCeWasQQLeJEDx4E26bJsEbBCY8vsRbDmbgL/zVk3N40PcqtmkbBgGNK+muQ4LkgAJeI8AxYP32LJlErBJ4P7DR4gavRB92zVA2SIFSckBgbNXr+PLVTsRM6ILcmTLSl4kQAI6IEDxoIMg0ITAIzBz2x9YeOAs+nVoFHjOO+nxtBXb0aVmGfRqXNnJmixOAiTgLQIUD94iy3ZJwAGB52asQamioWj9ZHmyskNg3eHTOH8lEUt6tyEjEiABHRGgeNBRMGhKYBE4l3gLzaYsRe9W9VA1okhgOa/B26NxVzFj3W5sGtARZULzaajBIiRAAr4iQPHgK9LshwRsEFgVE4e35m/BkGebIDw0Pxn9P4H4xJsY/9sWTO/WBO2jIsiFBEhAZwQoHnQWEJoTeATm7DyJCesO4V/tG6JEQX7DvnT9Fr5YuQNDWlXH6w0qBt6AoMckYAACFA8GCBJNND+Bb3acwOdrDqJ363ooX+yvOykC8SXOc5ixdjfebVMDbzSsFIgI6DMJGIIAxYMhwkQjA4HAzwfOos/8zejZsg7qlw8PBJcz+LjrVDxmbdiL6d2a4sWaZQPOfzpMAkYiQPFgpGjRVtMT2HchAf+cvxVR4UXwQoOqpvdXOvjLzqOIib+Kf3eLRu1SYQHjNx0lAaMSoHgwauRot2kJpD14iH4/b8eBuER0rl8VUeHmfZjGxCdg0a6jqBkRimkvNkJQ9mymjSsdIwEzEaB4MFM06YupCCw+dBYfLtuLKuFF0L5WJRTMm9s0/l2/nYoV+08o2YaPn6mLTtXLmMY3OkICgUCA4iEQokwfDUvgUXo6Rq88gK82HcGzNSuiRbVI5MsdZFh/bqWmYcORWPx24CTefqoaRrSriaxZshjWHxpOAoFKgOIhUCNPvw1F4PKNO5j0+xF8u+MPtKlWDo0rlTHUuRDi3IZtJ85hzZEzeL3hExjUvBqKF8hjqBjQWBIggf8RoHjgaCABAxFISLmLmduOY97uUygREoxakeGoVz5cl2sFxNqNPafjsS82HpeSU/BavQro2bgywoJzGYg4TSUBErBFgOKB44IEDEpg2dHz+GlvLFbHXEC9ciVQOaIoqkUURaFg/62NSEpJxZG4KzgedwW7z1xC26hS6F4nEs9ULW1QyjSbBEiA4oFjgARMSCAl7T7EMdfLj8Vh86lLKJAnCBWLF0bpsILKld/ePLVSnAYprsy+kHAdJy5fw407aWhaoQSerhKBdlERCA7KYULidIkESICZB44BEjAZgUPxidhx9gp2nruKg/GJuHLzDkqF5kfxkGAUypcXBYNzKzs38ucOQnCunMidMzuCsmdH9mxZLSQePHyEtAcPkHrvAVLu3sPN1DSIHRLXU1KReOs2riSn4HziTRTNnwc1wkPRoEwRNCxbFNXDQ01Gk+6QAAkw88AxQAIBSOBW2n2cuJKM2ISbOHPtJs4npeDyzTu4lnIXyalpSLl7H3fvP8D9h48sdHJky4pcObIjOFcOhOQOQuHgXMoCx9IFg1GucH5EhuVHpaIhyMfMQgCOKLpMAgAzDxwFJEACFgIF35mD6xN6kAgJkAAJZEqA4oEDhARIgOKBY4AESMApAhQPTuFiYRIwNwFmHswdX3pHAp4iQPHgKZJshwRMQIDiwQRBpAsk4AMCFA8+gMwuSMAoBCgejBIp2kkC/iVA8eBf/uydBHRFgOJBV+GgMSSgWwIUD7oNDQ0jAd8ToHjwPXP2SAJGJEDxYMSo0WYS8BIBigcvgWWzJGAyAhQPJgso3SEBdwhQPLhDj3VJIHAIUDwETqzpKQk4JEDx4BARC5AACYAnTHIQkAAJqAhQPHA4kAAJaCHAzIMWSixDAgFCgOIhQAJNN0nATQIUD24CZHUSMBMBigczRZO+kID3CFA8eI8tWyYBwxGgeDBcyGgwCfiFAMWDX7CzUxLQJwGKB33GhVaRgN4IUDzoLSK0hwT8SIDiwY/w2TUJGIgAxYOBgkVTScDbBCgevE2Y7ZOAOQhQPJgjjvSCBDxCgOLBIxjZCAmYngDFg+lDTAdJQDsBigftrFiSBAKZAMVDIEefvpOAFQGKBw4JEiABLQQoHrRQYhkSCBACFA8BEmi6SQJuEqB4cBMgq5OAkQl8uekYPl21Dx91qIN/NomCFA//3hKDkcv3YkT72ni7WRUju0jbSYAEvECA4sELUNkkCRiFQErafZT78Edky5oFeXJkR9KdNBTME4TU+w/w8FE6znz8MoKDchjFHdpJAiTgIwIUDz4CzW5IQK8ERq3Yh+mbjuLew0cWE3Nmy4o+zariow619Wo27SIBEvAjAYoHP8Jn1ySgBwIi+xD50U+49+Dh/8RD9myIHdWdWQc9BIg2kIAOCVA86DAoNIkEfE1AnX1g1sHX9NkfCRiPAMWD8WJGi0nA4wTU2Yec2bMidhTXOngcMhskARMRoHgwUTDpCgm4Q0BkH77cdBR9udbBHYysSwIBQYDiISDCTCdJwDEBkX3oM38rvuoWjXzcYeEYGEuQQAAToHgI4ODTdd8SEA/n52auwf7zV33bMXuzS6BW6SJY0qsNF4ZyjJCAkwQoHpwExuIk4CqBBftiMWd3LPq0re9qE6znQQLbTlzA+ctXMf8fLT3YKpsigcAgQPEQGHGmlzog0H3OepQqVgSNK5XSgTU04es1u/D3uuXQrXZ5wiABEnCSAMWDk8BYnARcISCmLCLen4cZPTsiV47srjTBOh4kcPf+A/SetRRxn77KKQsPcmVTgUOA4iFwYk1P/UiAUxZ+hG+ja05Z6CsetMZ4BCgejBczWmxAApyy0FfQOGWhr3jQGuMRoHgwXsxoscEIcMpCXwHjlIW+4kFrjEmA4sGYcaPVBiLAKQt9BYtTFvqKB60xJgGKB2PGjVYbiEC3OetRmrssdBMxTlnoJhQ0xMAEKB4MHDyarn8CnLLQV4w4ZaGveNAa4xKgeDBu7Gi5AQjM33ca3+4+w4OhdBIrTlnoJBA0w/AEKB4MH0I6oGcCnLLQV3Q4ZaGveNAa4xKgeDBu7Gi5zglwykJfAeKUhb7iQWuMTYDiwdjxo/U6JsApC30Fh1MW+ooHrTE2AYoHY8eP1uuYAKcs9BUcTlnoKx60xtgEKB6MHT9ar1MCnLLQV2A4ZaGveNAa4xOgeDB+DOmBDglwykJfQeGUhb7iQWuMT4DiwfgxpAc6JMApC30FhVMW+ooHrTE+AYoH48eQHuiMAKcs9BUQTlnoKx60xhwEKB7MEUd6oSMCnLLQUTAAcMpCX/GgNeYgQPFgjjjSCx0R6Paf9ShdvAgaVyqlI6sC1xROWQRu7Om59whQPHiPLVsOQAKcstBX0Dlloa940BrzEKB4ME8s6YkOCHDKQgdBUJnAKQt9xYPWmIcAxYN5YklPdECAUxY6CILKBE5Z6CsetMY8BCgezBNLeuJnApyy8HMArLrnlIW+4kFrzEWA4sFc8aQ3fiTAKQtt8I/v24kFX47H4MmzkC+kkLZKLpTilIUL0FiFBDQSoHjQCIrFSMARAXemLDYtWYhJg3opXdRs2tJrD1bRj3g1e65LBnfEA31ol3bK714eOBxd+75ref9WchImDuyJA5vXo133Hnjjg7HImSuXTRyincM7Nmeob11Q2BCzZ0em7ThireV9TlloocQyJOAaAYoH17ixFglkIOCJKQtfPFTtiQfhzMUzp7B1xWLEnTqB3qPGW7ICQhAs+24mgvMXcPjA1yIefDF0OGXhC8rsI5AJUDwEcvTpu8cIeGLKQi0eEi7FYXy/HqhUoy5yB+fD4lnTLBmJm0mJynvhkZUU+7cs+8WSEYg9dlDJIIgMQZe+Q/DFsH8pGYNxC1cpGYEfJ49R6pStXBVDps1ByXIVMmQYYvbuxP6Na/FUp66oXLuB8t6a+d/h7p3biriQWQfxf2HD2eNHLXbt37TOkj0R9UbPW4ptyxfjxME9aP/qm5j+/gC07vo3rF3wvWLfa+98hLkTRmHVT3OUbMeTDZtabM8su6ElaJyy0EKJZUjAdQIUD66zY00SsBBwZ8pCNmKdeZBTCeLBHx5ZUZk6aP58V2XKQbw346N3FAEQViIC33wyDFF1GyrvqdsRbYv3pBgQ7/0Zd87mtIKYnog9egg3EhMsZcTvdqz6DUG5c1umGmSbor+GbTtmaF/YtXHxAovIkFMelWvXR7GIMkq7QiTIMmr7IqvUwO+/zkfz57vZnRbROuSmr96F1+uVQ7fa5bVWYTkSIAEnCFA8OAGLRUnAFgFPTFmIdm2JB+uHrBQI1g9p9c8i+2Dr4SwyCVrEQ1iJcPw0dZwydXHt0kXlQX76yAGb6xTu3b2bQbjYEg8zPhqC7v2HWrIc1mVEFmPtwrkoF1UNkVVrZMiGuDLiOGXhCjXWIQHnCFA8OMeLpUngMQKemLLwhHiQOxjiY0+6JR6i6jS0ZBNuXk9CzegW2LF6aQbxIKcthN0hhYugeaduloyIdebBkXiQvtvLiDg75Dhl4SwxlicB5wlQPDjPjDVIIAMBT0xZuCse1FkLdzMPNaKbW7IgDdt1hPpnsRYh7e4dZQqla98hyrqIBV9+rkxJyOkUZ8WDECKxRw/i2O7tGdZauDrMOGXhKjnWIwHtBCgetLNiSRJ4jICnpixcEQ8y0xCUK89jUwfyPbm4sveoCcqDPrNpCzl98PKA4RALNmd9/B56fviZMo2gFidq8SDWKajXWzg7bSHaWjFvNjq92U/pU06XuHr+A6cs+EdKAr4hQPHgG87sxaQExJTFd3vO4K029d3y0Pqch5cHDFN2J4jdDGJngtxxIToRCyjFS57LIP6vPptBfS5Dk2deUMrGx55QFlfevJ5oqSfakTsqrPv/19gvsHfjGjRq1xHzJoxWdkSIlzznYfHsacrODbFro0Z0C2U3iGgvf8FQyy6Mfp99hZMH91rqWr/fsvPLSLxyGTeSEhTbxDZR0aY751xwysKtYcjKJKCZAMWDZlQsSAKPE/DUlIWzbK2/4Ttb36zlOWVh1sjSL70RoHjQW0Roj2EIeHLKwlmnKR4eJ8YpC2dHEcuTgOsEKB5cZ8eaAU7AU1MWzmK0dUCTq2sEnO1bz+U5ZaHn6NA2sxGgeDBbROmPzwj4a8rCZw4arCNOWRgsYDTX0AQoHgwdPhrvLwL+nLLwl8967pdTFnqODm0zIwGKBzNGlT55nYC/piy87phBO+CUhUEDR7MNS4DiwbCho+H+JMApC3/Sf7xvTlnoKx60xvwEKB7MH2N66GECnLLwMFA3m+OUhZsAWZ0EXCBA8eACNFYJbAKcstBX/JUpiz+vYn6PlvoyjNaQgIkJUDyYOLh0zTsEOGXhHa6utsopC1fJsR4JuE6A4sF1dqwZgAQ4ZaGvoHPKQl/xoDWBQ4DiIXBiTU89QIBTFh6A6MEmOGXhQZhsigScIEDx4AQsFiUBTlnoawxwykJf8aA1gUOA4iFwYk1P3STAKQs3AXq4OqcsPAyUzZGAEwQoHpyAxaKBTYBTFvqKP6cs9BUPWhNYBCgeAive9NYNApyycAOeF6pyysILUNkkCWgkQPGgERSLBTYBTlnoK/6cstBXPGhN4BGgeAi8mNNjFwhwysIFaF6swikLL8Jl0ySggQDFgwZILEICnLLQ1xgQUxY96kWia+1IfRlGa0ggQAhQPARIoOmm6wQ4ZeE6O2/U5JSFN6iyTRJwjgDFg3O8WDoACXDKQl9BF1MWF/68ip94l4W+AkNrAooAxUNAhZvOukKAUxauUPNeHU5ZeI8tWyYBrQQoHrSSYrmAJMApC32FnVMW+ooHrQlcAhQPgRt7eq6BAKcsNEDyYRFOWfgQNrsigUwIUDxweJBAJgQ4ZaGv4cEpC33Fg9YELgGKh8CNPT13QEBMWTw3cw32n79KVjohUKt0ESzp1QbBQTl0YhHNIIHAJEDxEJhxp9ckYJNAlixZkJ6eTjokQAIkkCkBigcOEBIgAQsBigcOBhIgAS0EKB60UGIZEggQAhQPARJoukkCbhKgeHATIKuTgJkIUDyYKZr0hQS8R4DiwXts2TIJGI4AxYPhQkaDScAvBCge/IKdnZKAPglQPOgzLrSKBPRGgOJBbxGhPSTgRwIUD36Ez65JwEAEKB4MFCyaSgLeJkDx4G3CbJ8EzEGA4sEccaQXJOARAhQPHsHIRkjA9AQoHkwfYjpIAtoJUDxoZ8WSJBDIBCgeAjn69J0ErAhQPHBIkAAJaCFA8aCFEsuQQIAQoHgIkEDTTRJwkwDFg5sAWZ0EzESA4sFM0aQvJOA9AhQP3mPLlknAcAQoHgwXMhpMAn4hQPHgF+zslAT0SYDiQZ9xoVUkoDcCFA96iwjtIQE/EqB48CN8dk0CBiJA8WCgYNFUEvA2AYoHbxNm+yRgDgIUD+aII70gAY8QoHjwCEY2QgKmJ0DxYPoQ00ES0E6A4kE7K5YkgUAmQPEQyNGn7yRgRYDigUOCBEhACwGKBy2UWIYEAoQAxUOABJpukoCbBCge3ATI6iRgZAITJ07EBx98gHHjxqF///6Q4mHq1KkYOnQoPvnkEwwePNjILtJ2EiABLxCgePACVDZJAkYhcOvWLYSGhiJ79uzIkycPEhMTUahQIaSmpuLBgwfKz/ny5TOKO7STBEjARwQoHnwEmt2QgF4JDBs2DJMmTcK9e/csJubMmRODBg3C2LFj9Wo27SIBEvAjAYoHP8Jn1ySgBwIi+xAWFoa0tDSLOUFBQUhISGDWQQ8Bog0koEMCFA86DApNIgFfE1BnH5h18DV99kcCxiNA8WC8mNFiEvA4AXX2gVkHj+NlgyRgOgIUD6YLKR0iAdcIiOyD2H0hdldwrYNrDFmLBAKFAMVDoESafpKAAwIi+9CjRw/MmTOHax04WkiABDIlQPHAAUICJKAQWHM8Dp+tO4z3WlVHm8rhpEICJEACdglQPHBwkAAJKMKh6zfr8Hzdyliy5zjmv9GaAoLjggRIgOKBY4AESMA2ASkcBj3dCNVLF8PB839iyvLtFBAcMCRAAhQPHAMkQAKPE7AWDrIEBQRHCwmQQGYEOG3B8UECAUrAnnCggAjQAUG3ScAJAhQPTsBiURIwCwFHwoECwiyRph8k4B0CFA/e4cpWSUC3BLQKBwoI3YaQhpGA3wlQPPg9BDSABHxHwFnhoBYQk5dvxwLuwvBdsNgTCeiYAMWDjoND00jAkwRcFQ4UEJ6MAtsiAXMQoHgwRxzpBQlkSsBd4UABwQFGAiSgJkDxwPFAAiYn4CnhQAFh8oFC90jACQIUD07AYlESMBoBTwsHCgijjQDaSwLeIUDx4B2ubJUE/E7AW8KBAsLvoaUBJOB3AhQPfg8BDSABzxPwtnCggPB8zNgiCRiJAMWDkaJFW0lAAwFfCQcKCA3BYBESMCkBigeTBpZuBSYBXwsHCojAHGf0mgQoHjgGSMAkBPwlHCggTDKA6AYJOEGA4sEJWCxKAnol4G/hQAGh15FBu0jAOwQoHrzDla2SgM8I6EU4UED4LOTsiAT8ToDiwe8hoAEk4DoBvQkHCgjXY8maJGAkAhQPRooWbSUBFQG9CgcKCA5TEjA/AY+Lh3/M24RLN26bnxw9zJRAiQJ58Z9Xm5GSlwjoXThQQHgp8GyWBHRCwKPiYUvsZby9cBtebVJDJ+7RDH8QOH/tBnadOI+973X2R/em79MowoECwvRDkQ4GMAGPiocPl+1B3O2H6FS3cgAjpev/3XkUVULzYGjbmoThYQJGEw4UEB4eAGyOBHRCwKPiof74xegWXQORRQvpxD2a4Q8CI/+7ATO7RaNO6TB/dG/aPo0qHCggTDsk6VgAE/CYeIhNuIl201dg4mvtAxgnXf8zOQUTf9uKEx91JQwPEjC6cKCA8OBgsNFUwXfmeLcDtk4CKgLXJ/SAx8TDjK0xWHPqKv7ejKnqQB5law/H4lHaHXzVNTqQMXjUd7MIBwoIjw6LDI0J8fBdH64x8h5htiwJ/H36InhUPDw/cw2eLBuOOpElSTmACUxbsR39mlZGxyfLBDAFz7luNuFAAeG5saFuieLBO1zZ6uMEPCoghqibAAAgAElEQVQe7tx7gJLD52Jmr+cQlD0beQcogbQHD9Fr5hJcHPMa8uTMHqAUPOe2WYUDBYTnxohsieLB80zZom0CHhUPS4+cx9RNMejfoRF5BzCBvWcu4vCZePzaq00AU/CM62YXDhQQnhknFA+e5cjWHBPwqHh4e8FWZAnKgzZPRjrumSVMS+D7TQfQunwR9G4SZVoffeFYoAgHCgjPjSZmHjzHki1lTsCj4qHSxwsw+JloFAsJJvcAJvDO3JVY2acDIsPyBzAF91wPNOFAAeHeeGHmwTP82Ip2Ah4TD3vPJ6DX/C0Y+VJL7b2zpOkIxF5JwvytB7FrSCfT+eYrhwJVOFBAuD/CmHlwnyFb0EbAY+Jh3JoDOJZwBy81rKqtZ5YyJYHFe44jIm82fPxMXVP6522nAl04UEC4N8IoHtzjx9raCXhMPDw15Te0r10ZlUvyNEHt+M1XcszijRj/XD00KV/cfM552SMKh4yAD57/E5OXb8eCN1qhTeUIL9M3R/MUD+aIoxG88Ih4uJh8G40m/Iov/vGMEXymjV4ikJSSio/+ux7nR7/ipR7M2yyFg+3Y/k9AtEabyuHmHQAe8oziwUMg2YxDAh4RD9/tOolfDsfhzZZ1HHbIAuYlsDHmHJKTk716BfcPP/yAuXPnQvwbGhpqgWnv90agTeGQeZT0ICBGjx6Nbdu2ZRh3J06cwMiRI/Hll19mGIv+HHMUD/6kH1h9e0Q8dJ+zHqWLF0GjiqUCix69zUDg6zW70KNuJLrU9u5WXfFBLl4jRoxQ/hUf4v369cO0adNQqVIlQ0WFwkFbuPwtIMSY+/DDDzFv3jy88spfmbVAEg8Lvvxc8blr33cdBuzimVOY9fF76PnhZyhZroLD8tYFbiUnYeLAnsqvB0+ehXwhrl2wKNtJTriCIdPmuGSL08b7qMK9u3fxzSfDsOqnOXh54HCbcdESB2fiau2a2+IhPT0dxYfPxaTX2iM4V04foWM3eiOQng70nrUEMSO6olDeIK+al5iYqHyAC/HQuHFjiA/2cuXKKb8TH+hdu3bFoUOH0LZtW8s3xdTUVAwcOBAzZsxQbFM/BLxqbCaNUzg4R96fAkKMsVu3binjSopUa/Fgb+w556V7pUXmYUy7ahjfrwfOHj+Kmk1banoAi4dIsYgyaPZcl8cMcOUBIx5cP00dh96jxrv08He1vhAMMz4agu79hypiwfpn9+jqr7a92GgRDtKbzGKfmcdui4e1x+MxevVBvNOxif7I0iKfETh0/k9sjYnF6rc7+KRPMU2xZcsWvPDCC/jll18wefJk3Llz5zFRcfHiReW9RYsW4cyZM4rgEOLj/fffx6effuq3dDOFg2vDxF+LKKVAFVbLcaQWD+L3Qry+9tpryr+ivBx7uXPnds1ZF2rJaQtnH772HiDOtqM2edOShcqPtgSJI9fEQ3/ehNF49Z0RTomPQBMPgvGfceceyzw4IwhcZe22eHhn0U7cepQNT9eq6Gg88H0TE/hx6yE0CC+IAS2q+cRLdSZh69atSgZCzEmLD225HkL94b5q1SrLh75PDGTGwWuY/SEgpHho166dRaAWLlzYsubh2rVrGdY/+GsqTYt4EA+WHyePQdnKVZV0/ukjBzBpUC8lXu2698AbH4xFzly5lJ+P79uJwzs2Kw8nmSq/cvECajVpiW8+Ha5kNtq/8gbG9H5ZKT9u4SpUrt3AUnfj4gUZ2tM6KKQISLlxHQe2bMhgl7BpaJd2SlODJs20iBN1Kl++V6tZKyUTUbh4SSyeNS1DJsZeO9Jv0UfNJi2QfO0qGrbrqDCQ7KSv+QuGWrI8wver8RdQJLwUwiMrKlMvYsrkb0NG4vvxI5VMkDVfObVyYPN6iz8N23ZUpiROHNyDGtEtHrNbCDqZWRKVrKctBIcfp4xB6y6vKdkXWT488q8p3S3LfslQR3J7qlNXS+y0xMlt8VB9zM/o2boeSoUW0NIfy5iUwPCf1mB+j5aoWsK1+UlXsAixIBZPisyC+HYnfo6OzngFePXq1bFgwQJlLYSctxZ9ScHhSr/u1GHGwR16/6vrawGhnhqT4+6f//wnPvvsM2XB5B9//JFBuIrsVt++fRVB4ct1OI7Eg1oMiP/Lh/vi2dNsTltYf7OVD7vmz3eFfMgVKlbc8mBVT33YylpYP+BlRK0fgNYZBPlNWogBmZEQddVTFOJnW5kH8RBX2ysekuLhnlk7oi3he8yeHYpw2LFqKSrWqINrf15UfFVPCwjxJb/9q6cRRBnh75GdW1D7qdYIKxGB33+dj+bPd7OIM/VfgzoeaXfvKOJD2C18Fv/v2neIRZSI/wuRZmvawtZUjWh7xkfvKGLx5vVELPhyfIbpLFuZCrW4knZKwSlEiVvi4eilJHSbsx5juvMCJM98JBqzlbjEG5i5djcODX/Rpw7YEg9qMWHPGH99sFM4eHZ4+FJAqMWDzHrlz58fcXFxingwSuZB/c1ZREOuiVgxb7Zm8SAf2OJhKL4hy2+s1kLDnSkP61S6fLA2froTRrzaMcNAUmc7Mpu2UNsrGpDZC9mYuh0pHqQosP52rv5ZZB/E+o6XBwxDXOxJHN+7U/nWn3ApHpFVq2P/pnVKZsfewkbBTbwvshxlnqiKlwcMhxAPtjgLu9TZHFvTFvbEg6yXcCnusfUozkxzSF5uiYcpvx/BzrjreDm6umc/FdiaoQgsP3AS+bI8xITOf6UrffWyFg/WCynV2zenT59uWVTpjzUPRhUO4kPb+luKK/GV3+LUKXFX2rGu46tFlGrxIGyQiyOLFSumTJOJl97XPKyZ/x2uxJ9DqQqVH1uHYO/hYSvz4I54cCbzoF7zoBYP25YvtjsV4ox4cDSlovY9M/EQWaWGIqLEt3GRYRCZiLupdxBSuAjqt/prDZh6yke9g0QtsG4mJWLtwrm6EQ9ezTy0+2oFGkdFonrpYp74HGAbBiUwYekWjGhbA619fIiPtXhQf6iLVfHqKQspLFavXq1Q9uW0hSPhYGve05VFZs4OH3UK215dTz30XVmxr9UfX2QgrMWDsM36bBG97Lb4rk9nJa2u3u2gfvgumjlVSVkH5coDMV3R4dU3YS/zYD1G1A9nR5kHdRperqHQGlP5N6FOz4spEXUKX6TtxfgUawzkOgut4kGuSZDtW7djnXmQP4tpDCGArb+9q/9OxHtiTULvURMghIVkLLacLv3PdEVgyC2sakaxxw5asgr2Mg/Wdtv6u7Je8yBsV/djbbvP1zwk3U5D1OgFmNHzOWTJonVIsJzZCKTcvYdB36/E5bGvIQsHwmPhdSQcZAXrD0tfjBMt4sEXdniiD18ICE/Y6e02rLdqqvuTi/XEw0y9YFI8yCypc6utnWoRIsSGPFtAtJU7OJ+ymE/Mg7d/9U1Mf3+A0p1M/7uz20L0++OUsbh45qSy0FCd8s9soaM6s9H1X+/ixrUE5SwEMT0jF3nKeXsx929r4aV82Mr31H1bL5iUokXYu2/jWnT8Rx8ly6AWDOo6ttZ2iPUMYsGkXJxZr1WHDHYXLVlK8cGW3dFPd8bW5YsyLBwV9qszSeoFliJuYsGr6E+OByFUXNnZ4vK0xcJ9sZizJxZvtanv7b8Htq9jAttPXsD5y1fxUw/epmodJq3CQdSzFg/qbIR6kZLsQ34g9fl0ClbOm618wIqV5+Il5k/VddQfHnKOW87DyvZGz1sKkQ4WK7zlg6B1179h7YLvLR8yO1Yv/WtutmlL9PrwM8z8+D1lNbn6AB7rtLRcga6e87Wed5cfYuKbl70Pcy1/AhQQgDdOmHQla+TMOQNaYssyzhFwhr8r8RXWuCwe/jFvE0JCQvBUVBnnvGJpUxGYvX4vXqgWgb834FZddWCdEQ62xIM6jWorpSof0qKuSKPKB68QEOpV8J3e7Kd8W4yq29Dye7nAzTqtLAVL5dr1lcVzYrHYkw2b2l2gtWvdCoSXq5Dh5D7RptiuJqZd1P9Xzx/L1K1MewvbyleraTmVUPjk6gmFgS4gvCEe5DdZ8a8vTpg01QekH53RIiBcFQ5uiYcyI37EyJdaoFCw7w5A8WMc2LUdAv+aswzbBz+PkiF5yej/CTgrHOyJh99/XWD3dEDreUrrOW57c6FSSMiHu3rRmKNV2mLeWs6nVq7z1+JYuSBMBl+9JUx9NLGtVeHqeWKR1bC3st3ZgSUOLJsUoLdxeks8OBsDljc/AZcyD1tOX8aQJbsxvNNT5idED+0SOH4xASv2HcemAc+SkhvCwZZ4kN/2xNy0rSOGnREPctpCtClWgDfv1M2SGXBWPIg2HG3Bk/Pn6qkTR9v4ZB31QFIfAOTsAAtUAUHx4OxIYXlXCbgkHj5ctgdxtx+iU93KrvbLeiYg8N8dR1ElLA+GtqlpAm/cd8GVjIPsNbMFk5llEeQUhL3Mg1hJLw+YkYfKyIN8bE1bWB+6Y11GiBZx0I14iZP3MktjO5NZsHfMrjtRCUQBQfHgzohhXWcIuCQe6o9fjG7RNRBZ1HenCTrjFMv6hsDI/27AzG7RqFM6LEOH4gKhmTNnYvDgwb4xRAe9uCMcbGUe1Fu61GsHpKtaMw9q8SD3o4s1Bq5OW1ivV7A+0la9PkO9Al0tDtRiSIqRStXr4tvPRlhuYrTlsythNpuAmDhxInr16oV8+fLZxBEI4kFm0kLCimq69MuVcWPmGzld4WGrjtPiITbhJtpPX4EJr7X3lA1OtyO/ZT39t57YtXaFcqiGrX3EMhXqTvrTaeN0XEH+0VWqURftX3kTU4b0hvh/l77vYs7YDyB4ijS2lsto/kxOwcTftuLER10tHgvRMGbMGIgPuGzZskGcxBcIL08JB/X59mL+X0xZiJf1efjid+odC8Nn/IiVP3zz13Yv1ZY0UU6MfdmWmEaQZ+WLXRDqc/n7ffYVTh7cq2wJEy/r94UNBQqHYcEXnyttir31cmeE+mQ+9fSDnG6Jjz1pKavePifHhq3dFvZO43NlPJlJQIhj2B8+fKgI8+HDhz8mIowmHsQ4TvrzssP7L6zX4ziaOnNlnFjXMfuNnO4yclo8zNgSgzWnr+LvzWynqq0v7ZAfYLYOvdFyAI0YXGLFt9xPK7+liUNN6rVor5wbnnonxfJBqwYit66J32k9dEdtv/pD0d7v1f2JMvKEMHtiRh4yktmhKVpWycq9zur5cOsLb9QL1qSdahvFYSHC3hf/OQjL581Ek6c7Y8vyRRAr9B0d6rL2cCwepd3BV12jlauKhWgQd0yIK9qFcBg7diz69+/v7vjUfX13hYPuHTSJgWYREFOnTsXQoUPx6NEj5VwVcc28WkQYTTxoHV4UD1pJ+a6c0+Lh+Zlr8GS5cNQpV9KuldYPKFe3XclvWNbiQaQ6D2zdgKg6DRB79BAunDyunNolXvJUNfFtR2wZky+t4kGUF/aL9Ky88EX8TmxLE/vpxTcntZBxRjx4OqzqTII89tf6BDPrPm2JB5G5kTxj9u58bAW9LbunrdiOnvXK4uDi7yyi4d69e0rR0NBQ5ax/s78oHIwVYbMICPH3lZSUpMDPmTNnBhFRatTPECdMGuEls1Qyy6TOWjm6LVNs7RWf9Xnz5VeyZersXGaHSMnPd3krZWZ9qwWLvHlUfZaKqBvdoZNymqTI6KWm3FJsEb8XL/ViZ5l9Ux/SZPSMuFPi4c69Byg5fC5m9noOQdmzaRYPIsjNO3fDx/94yVLnrdET8fWIwQpoGQCxElwswhIH3ohv/eIqWJm61QLaVipLDMjd61cpp3BZr/62PkxHGicGjXiIygtOxH50sZVMZA3Ul8DIa2zVPgjbRTbg2df/addfsWBNHpoj/i9OaZMH7ci5NmGLOEJWnfK1ZiDKCvEkDvaRi+AObv0dERUqYeEX45WTxOR1ufKPS2YbhGBQ/99RpkEd7LQHD9Fr5hI8dX4Vli9ZjPv37xvhs8rjNtb6+Ac8WbEcFw57nKz3Gly85zgOnzyD/R++4r1O/NByjhw50LFjR6wv87RhxIPAJNfCyCOyRdZTfC7FnzmV4UuMrcyDPAJaHNksF/rmLxTq8NZNuYBYXmglnk27165Qpk7kbZbyBkv1AmL1qY3qNTzq7cnCJ1t2yVM85fZrcUibliy0H4aS5i6dEg9LD5/DtM3H0a9Do0w7sJ66kOl/68tX1AFQT2Gor4e1NW1hr3N74kF9XarIYohBI6cXxOE68r56tXgQD+UbiQnKr8RFMuK16sf/WMSDLKu+OEh9sYl4GDvyV9glblGzPmhH7cfvi+ZnOAtd7bsUD+LmNjnI5U1uopw8clQIEPWNatJ3V8XD3jMXcfhMPOZ2b5hhukJmHgoVKgRxl4TZX8w8GCvCZsk8FC5c2PL3ZeTMg1o8yMPMxDd369stRbnMpi3E+/LzT33ktByd6vZs3bdh/Tmtvv5bq3iwdWOlPM7b1q2j7tz7oZe/OqfEw9sLtiJrUB60fjLSoXiwNfev5WEqtn6pz0T3hHgQxoppC9mW+Fl9Hav1gjT5UA4rEa6IDJGxkPfIq0/nE22I88iDCxRE71Hj4Yx4EDbYu8lOLR5EOXn2ufUflbSzRnRz5TQ/cfuhvP/dm+Lhu00H0KZ8EfRuEqWMA655WIdBTzfS9QVx/rg7Qy8fcsIOswgHseZh2LBhyqJJM6x5sHX+h/jm3rBdxwzbgJ0RD5ndlknx4Lm/SqfEQ6VRCzD42WgUCwk2tHhQZx5spevFw1ukzWpGt7B5tK/c8iaEhEx9OSsexB9NgdAw7Fi19LFshq0MivjjEYtE1YsZpZ3ylD/RpkyLeVM8vDN3JVb26YDIsPwZxgF3W+hXQGhZhKv1Y8XWXRnixkC9vswiHARfs+22kOJBTF3Li6VsfdZpFQ9i2kJ9romtWzet30+9fQs7165QponVWQzRlr3Mg3q7sb0bK7VmHsSUeGanyer170qzeNh7PgG95m9VjqTO7KX+YLG3iMV6G9jgKbOxaMYUy+1p6hvftq5YrKx7cLR1S92vXNsg7FQvjFEvYFFfDKTesaBuR/QpphWKlIhQpizU29jEYkzlkqAmLZR1GkIpy7Ubot/OvQdg4oA3FVTW/ooLh04f3o/+n39taVdmFezdCifbUd/iZr3oR32bm/oGPBkv9XY89ZY5R2zV8Y69koT5Ww9i15BOdocBz3kw7xX16vMlpIhWLyzW2wedmYSDkoU00TkP6oWNfUZPxo61y5TtxtafdeJn9efiC28NxJljhy03Q8rbPW1tDba1Vs7WgkrrxZryfhh5I6f1+jN5m6X62fXG+2Owf8t6m3ap18B16tkPB7duyHBbqK17YvT2t2Rtj2bxMG7NARxLuIOXGlbVu0+0z4sExIKziLzZ8PEzdb3YizGb1usaCFsH3qg/LO2JR/VZEvKLgIiMuB/D1jyu3qJmNuGgha9Zt2pq8d2oZeRBac2f7+Zwi7yefNQsHppN+Q0daldG5ZIZTxPUkzO0xfsExizeiPHP1UOT8sW935kBe9CzgFCvSJdTYGJ1ufV0mMBufSS29dy0FCRFS5ZyeMCPP8IYiMJBcKZ48Mdoc69PR9vr3Wvde7U1iYeLybfRaOKv+KLHM96zhC3rnkBSSirEkdTnRr+se1v9aaAeBYR6zljOC4vFtbbOP7G1uNJ6HY7YEix2+ehxrUOgCgeKB3/+1Qde35rEw3c7T+KXI3F4s2WdwCNEjy0ENsacQ3JyMv7zajNScUBAbwLC3j55cS6JrfNDrC/Isl5wqVfxEMjCgeKBH0u+JKBJPHSfsx6lixdBo4qlfGkb+9IZga/X7EKPupHoUjvzrbo6M9tv5uhJQNg7p9/WLgwtmQe/Qc2k40AXDhQPehyV5rXJoXgQdxUUHzYXk/7WHsG5cpqXBD3LlEB6OtB71hLEjOiKQnmDSEsjAb0ICLV4EKbLbXHqHTrqKYjM1jzIle/ydk6NKLxajMLhL7zeXvMgF9HauqzNqwH2cOPq3RvO7DbzsBnKVQhi15w3bwi1Z7PcdeJqLB2Kh7XH4zF69UG807GJp7mxPQMREB/O22JisertDgayWh+m+ltAqD8oxTbmvw0Zie/Hj1S2iomXrRP9xO9t7bYQ56LIzETl2vUzHOTjL9oUDv8j723xIHrScqGhs2PB0S2ZcszZW6fjbH+yvFokywd571ET7N5flFk/Wm8ItfbVke+u+qalnjsnXToUD+8s2olb6dnwdM2KWmxhGZMS+HHrITSIKIgBzauZ1EPvuuVvAeFd7/zX+v+EQ2u0qRzuP0N00rMvxIM7Dxx7mPz1ALXeReSLMAaMeKg+5mf0al0PEaEFfMGVfeiUwPCf1mB+j5aoWkK/JwnqFJ3FLAoIz0aIGYfHeWoRD+pMlGhBpu1lpkn8rD6oT1zqJL/5y0OcrFPd8lu7o9slRX/yuH3xf7FYVxz9r/6dPHhJXpRYvlotxdG1C79XsmTygD5hQ7uX/4Gp776V4Thr6Z+4MFDYIy4etHcQoPRfXMwlbEhOuIIB4/+NlT98o1wsWKtJS3zz6XClvrxkUNSxztZpvSHUmqM8QNDeDaEyJupLHdVZExEneWDV6HlLsW35YsthhlriKoWg5Cjalpc0OvprzTTzcPRSErrNWY8x3ds4aofvm5jAhcQbmLV2Nw4Nf9HEXvrGNQoIz3CmcLDNUYt4UNdUfwuWp9KKE0PlRVViXYs8bVGucbE3baH1dknZv71jncXaG3lXj7jdcvn3s9Bj+GjlpmB5OJn68qodq35Dm25/zwBEPc0hxYm8KVN9PLV62sLedmbpvzxJ1d6dRFpvCLWVebB1E6e45Ete2mgr26NeeyQuWZQ3KwsQWuIqtmnLdl99Z4Ry3osQUVq3X2cqHqZsOIKd8dfxcnR1z/zFsxVDEli+/yTyZX2ICZ0bGNJ+vRlNAeFeRCgc7PPTKh7kYjn1xX7WdzHIh2T5ajUhvhmL+3vkg93W5VPO3PEgj/YXx/+/PGC4cg13Zn2oj0UXR/TLn0V2QBwdbf3AUwuBsBIRllNRBTm17eppC2vxILcrq+uLvu1NdcjfO7ohNLNpC2Gf7FdezSCjrc6eiN9ZMxG/cyauUjws+OJzpYueH34GkWXS+spUPLT9agWioyJ1fVugVkdZznUCE5ZuwYi2NdCac8quQ7SqSQHhGkoKh8y5aREP1g/JeRNGQ3zz9IV4sHeRoCviYfHsaTi+d6fNh54/xYO4GVp++7d1Q6gz4kGdTbCOvLV4cDauFvHw5XiIk2LF640Pxmo+ItuueEi6nYao0Qswo+dzyJLFtT901jI+gZS79zBo7kpcHvOacgUwX54jQAHhHEsujnTMS4t4UD+8biYlWr7x2xMPzkxbyG/1ajGgblf9zT/22EFLFsBZ8SCPdBapfdmnaG/Bl+Mfux1TnTkIj6yY4dbNzKYtXM08OLohVKt4EL5JfwRDIZbU0wrW4sHZuFpPWwgR6cz2a7viYeG+WMzZE4u32tR3PGJZwrQEtp+8gPOXr+KnHi1N66M/HaOA0EafwkEbJy3iQb1gUt4KXKlGXRQoHAaRwhaL8+RCQ9Gr9a3AcoGe+nwE9W3Emd0u2Xvk55gx8l3l5kn1jcRywaL4fY+hH2PjkoXKVmK5MFM8OOUizir1orHsu38rdok1AeL3olzFGnXw27dfWxY8yhsxxbdq8X+56FA8lId2aacAlb6obxyuHt0coUWLY8MvPyrtyls7Rf32r76J6e8PUOqqF006c0OoetGk+jZRdV9yikKsQ7BevCpHgnortbBF3nKr+P3/tz1nFlfr26xlDLRuh7UrHv4xbxNCQkLwVFQZbaOWpUxJYPb6vXjhyQj8vT636norwBQQmZOlcNA+8rSIB+2tsSQJ2CdgVzyUHvEDRr3UEoWCc5NfABP413+WYfs7z6NkSN4ApuB91ykgbDOmcHBu7FE8OMeLpV0nYFM8bDl9GUOW7MbwTk+53jJrGp7A8YsJWLnvODYOeNbwvhjBAQqIjFHi4kjnRy3Fg/PMWMM1AjbFw4fL9iDu9kN0qlvZtVZZyxQE/rvjKKqE5cHQNjVN4Y8RnKCA+CtKzDi4NlopHlzjxlrOE7ApHuqPX4xu0TUQWZSnCTqP1Dw1Rv53PWZ2a4I6pcPM45QBPAl0AUHh4PogpXhwnR1rOkfgMfEQm3AT7aevwITX2jvXEkubisCfySmYuGwrTnzY1VR+GcWZQBUQFA7ujVCKB/f4sbZ2Ao+JhxlbYrD29FX8rRlT1doxmq/kmsOxSE+7g6+6RpvPOYN4FGgCgsLB/YFJ8eA+Q7agjcBj4uH5mWvwZLlw1ClXUlsLLGVKAlNXbEf/ZlHoWK20Kf0zilOBIiAoHDwzIikePMORrTgmkEE83Ln3ACWHz8XMXs8hKHs2x7VZwpQE0h48RK+ZS3BxzGvIkzO7KX00klNmFxAUDp4bjRQPnmPJljInkEE8LD18DtM2H0e/Do3ILYAJ7I29iMNn4/FrL96mqpdhYFYBQeHg2RFG8eBZnmzNPoEM4uHtBVuRNSgPWj8ZSWYBTOC7TQfQpkIR9I6OCmAK+nPdbAKCwsHzY4ziwfNM2aJtAhnEQ6VRCzD42WgUCwkmrwAmMHjuSqzq0wGRYfkDmII+XTeLgKBw8M74EuKBLxLwFYHrE3ogy55zV9N7zd+KkS+18FW/7EeHBGKvJGH+1oPYNaSTDq2jSYKA0QUEhQPHsZ4IjBo1SjHno48+0pNZhrEly9hV+9OPJd7BSw2qGsZoGup5Aov3HEdE3mz4+Jm6nm+cLXqMgFEFBIWDx4YAG/IQAYoH90BmqT3ul/T6FUujdFgB91pibUMTmLflIL7q0hhNIosb2o9AMN5oAoLCIRBGpfF8pHhwL2ZZeszbmH4p+bZ7rZiw9unTsShfPnAWkJYokBf/ebWZCSNpTpeMIiAoHMw5/szgFcWDe1HMkp6enu5eE+asnSVLFhCNOcyL518AACAASURBVGNrFq/0LiAoHMwy0szpB8WDe3GleLDDj+LBvYHF2r4hoFcBQeHgm/izF9cJUDy4zk7UpHigeHBvBLG23wnoTUBQOPh9SNAADQQoHjRAyqQIxQPFg3sjiLV1QUAvAoLCQRfDgUZoIEDxoAESxYPzkDht4Twz1vAvAX8LCAoH/8afvTtHgOLBOV7WpZl5YObBvRHE2roi4C8BQeGgq2FAYzQQoHjQAImZB+chMfPgPDPW0AcBXwsICgd9xJ1WOEeA4sE5Xsw8aORF8aARFIvpkoCvBASFgy7DT6M0EKB40ACJmQfnIVE8OM+MNfRFwNsCgsJBX/GmNc4RoHhwjhczDxp5UTxoBMViuibgLQFB4aDrsNM4DQQoHjRAYubBeUgUD84zYw19EvC0gKBw0GecaZVzBCgenOPFzINGXhQPGkGxmCEIeEpAUDgYItw00g6BixcvomTJksq71uJB/R4BOibArZp2GFE8OB48LGEsAu4KiIPn/8Tk5dux4I3WaFM53FjO09qAJ3Dr1i3UqlUL4eHh+Oyzz7By5UqFSfv27fHee+8hPj4e+/fvR758+QKelRYAFA8UD1rGCcuYhICrAoLCwSQDIMDdGDZsGMaPH4+goCAULlxYoXHt2jWkpaVhyJAhGDt2bIAT0u4+xQPFg/bRwpKmIOCsgBDCYcry7ZjPjIMp4h/ITojsQ1hYmCIW1C8hJhISEph1cGJwUDxQPDgxXFjULAS0CggKB7NEnH5IAiL7MGnSJNy7d0/5Vc6cOTFo0CBmHZwcIhQPFA9ODhkWNwsBRwKCwsEskaYfagLW2QdmHVwbHxQPFA+ujRzWMgUBewKCwsEU4aUTdgjI7IN4m1kH14YJxQPFg2sjh7VMQ8BaQFA4mCa0dMQOAZF9UC+Y5A4L54cKxQPFg/OjhjVMR0AKiOfrVsaSPce5ONJ0EaZD1gR69uyp/GrWrFmE4wIBigeKBxeGDauYkYAQEJ+tO4z3WlXnOQ5mDLAHfVp7PB6DF+9EXNItD7bKpvxNICxfbsx+pRmali/u0BSKB4oHh4OEBQKDgEjl9ujRA3PmzOGWtcAIucte9lmwFVly5kbb6uVdboMV9UXg6o3bGPvrJsSO6q7JMIoHigdNA4WFzE9ALCKbOHEiBg8ezG1r5g+3Wx6W/uAHjHypBULz5XGrHVbWD4EVB04iKP0+pr7YSJNRFA8UD5oGCguZm4B6+xq3rpk71u56t+LYBXy27ggGPxvtblOsryMCYxdvwphn66B5xRKarKJ4oHjQNFBYyNwE1Afn8NAcc8faXe96/rgZufMGo1W1SHebYn2dELh0/RYmL9uGEx911WwRxQPFg+bBwoLmJGDryF5mH8wZa3e9epSejvD352Fc9zYIyZvL3eZYXycEftt3AiHZH2F8pwaaLaJ4oHjQPFhY0JwErI/rFV4y+2DOWLvr1ZLD5zB1UwwGPN3Y3aZYX0cEPvnld0zq3ADRkcU0W0XxQPGgebCwoPkIiKxDaGgosmXLhjx58iApKUn5+c6dO3jw4AESExO588J8YXfZo9fnbkTBkBA0r1LW5TZYUV8E4hJvYPrqnTj2QRenDKN4oHhwasCwsLkIiN0VH3zwAcaNG4f+/fsjS5YsSE9Px9SpUzF06FB88sknyu4Lvkgg7cFDRLw/D5P/3h75cgURiEkILN5zHMVzZ8WYjvWc8ojigeLBqQHDwuYmIMWDub2kd64Q+PnAGczccRJ92zV0pTrr6JTAyP+ux9ddo1G/TBGnLKR4oHhwasCwsLkJUDyYO77uePfKtxtQokhhNHmitDvNsK6OCJxLSMZ/NuzBwWEvOm0VxQPFg9ODhhXMS4DiwbyxdcezlLT7KPXBD5j+xjPIkzOHO02xro4I/LLrGMrmz4mRT9dx2iqKB4oHpwcNK5iXAMWDeWPrjmc/7T2N7/acQZ+29d1phnV1RuCDBevw7avNUCuisNOWUTxQPDg9aFjBvAQoHswbW3c86/LNOpQrWRSNKpZypxnW1RGB2CtJ+GHzAex9r7NLVlE8UDy4NHBYyZwEKB7MGVd3vEq+k4byI3/Cv9/siJzZs7nTFOvqiMDCHUdROTQ33m9XyyWrKB4oHlwaOKxkTgIUD+aMqztezd11EgsOXUCvVnXdaYZ1dUZg2I9rML9HS1QrWcglyygeKB5cGjisZE4CFA/mjKs7XnWauQZRZUqifvlwd5phXR0ROHH5GhbtOIId7zzvslUUDxQPLg8eVjQfAYoH88XUHY8SUlJR7ZP/4us3n0W2rFndaYp1dURg/rbDqFEsH95tXcNlqygeKB5cHjysaD4CFA/mi6k7Hv1n+x/4NeYi3mzh/FY+d/q1rnvv7l1888kwNGzXETtWLcVTnbqicu3ML3G6eOYUxvfrgZCwohg8eRbyhbiWnnfVj1vJSZg4sCe69h3i0FatfUgOUXUbotlzzh0nre5jyLxV+LVXW1QuFqK168fKUTxQPLg8eFjRfAQoHswXU3c8eubrVahVoTTqlCvxWDOblizEpEG9Mvz+5YHD0bXvuza7XPDl50j68zLe+GAscuayfSOneODO+GgIuvcfipLlKmRoZ+l/pqP2U62xb+Na5V/r90X7P04eo9QpW7kqhkybo/z/p6nj0HvUeJ+KB28IBwlDCggtAspWIGLiE7BiXww2D+zoztAAxQPFg1sDiJXNRYDiwVzxdMebSzduo97nizH9jWftNiMExJ9x5xTBIL/p9x41weVv2pmJh7MxRxTBELN3ByKrVs8gBoQdMXt2KMIk7e4diwDxl3hQc3EnBvbqCtZrF87FywOG2xVi9ur+sPUQGoSHYGCLJ90yjeKB4sGtAcTK5iJA8WCueLrjzYytMVh98gpef8r+Vj71Q1J+2+7cqz+2LV+MEwf3IKRwESRfu4pmz3XFt+NGQGQmojt0UqYTwiMrKeZtWfaL8vtOb/ZTpiZW/fRXxmDQpJmaU/Nq8SCyGrvWrUD4/2cuROYhb778SrvtuvewCAwxpXBg83pLXw3bdlT6l3Yf2LLBUl60KTMbMqshhMzxfTuxcfGCx7IpouyTDZsqIkqKqhrRLZCackuxQ/grXiJTUrNpy8emVUS7Q7u0U/q/cvGCYqeaR2Yiy1HMB32/Aqve7oDyYQUcFc30fYoHige3BhArm4sAxYO54umON22/XIHGUeVQo0xxTZkH8cCb8dE7ynRB/kKhynz/82/0taxRuBp/wZKlUJe9eT0RC74crzxAxcvetEVmvshUvnwwy6kTdTYkPLKizbbVAkBkLeQ6hcgqNRQxIdYXFAkvhcM7NisZFnX5HauX4vdfF2R4+NuaVlD7K/wQ4klkaOzZJMoIQSTb3r9pnSWzIoSMq1MXRy5cwfrDJ7Gh3zPuDA2lLsUDxYPbg4gNmIcAxYN5YumOJ+eTbqHZ5N8wrcfTmTZjve5h3MJVyrdtW9+M1VkK9QM44VKcZV2Cq+JBGimzH8kJVx5b82DdtrS9ZpMWKPNEVWUKQD3loc4sFCgchgVffG5hYStbIN+0Jx5khkLtb1CuPIpAsbV+wR4vd8TD95sO4KlyhdG3WVV3hgfFQ2b0+CHq9thiAwYkwHFvwKB5weQvNx3FxjPX8LdmNR2KB7nmQV3Q1+Jhzfzv0LDds5Z1EGLaoFhEGZSvVtOmMBG2yoWUN5MSLesHbIkHkXEQL9Gelh0OehYP/eYsx6aBz6J0oXxujxpmHph5cHsQsQHzEKB4ME8s3fGkxbRlaPlkRVQrVdQQ4kGIBfES0wrqh3f+gqE2xYOYKpGZgNhjBy3/z2zaQk6tiGzB4tnT0OHVNxEfe9Lhmgdhl71MizrzIKYwxJRJ8+e7KiIls8yDK2seDp67jG0xZ7C6bwd3hoalLsUDxYNHBhIbMQcBigdzxNEdL04n3ETbL5dj8t8zf8iopyzUWzTV6w/k4kLxsBYLAMWrx9CPsXHJQpw9fjTDgkCxOPC1dz7C3AmjLIsK7W37tPZPvU1TvCcWF9Zq1kp5GIvFhqLt3MH5sHjWNGWBYu+Rn2PGyHeV98S0hVjUKc6QEIJAvZBS7ZetBZPqdQnqcyRs7UIR/r7x/hjs37Lepk1yzceOVb8hokIlC69OPfvh4NYNCi9pjyu7Lb7duB9tKxZF7+god4YHxYMjevwQdUSI75uRAMe9GaPqnE+TNxzGzvhkvBJd3bmKJijtyjd6W267es6DyFCIV2YHYLl6UFSfb37D7nc7oUSBvB6JFDMPzDx4ZCCxEXMQoHgwRxzd8aLp5KXoUDsKUeFh7jRjuLq2MibWB1E545SzAkJkE8QBWB3/0cduN64Kh71nLmH/qfNY9tZf2R9PvCgeKB48MY7YhkkIUDy4HsjY2Fh8/vnnyGXn9ETXW/ZdzeQsubC9QA1MdDBl4TuL2JMnCMzesBfPR5XEPxo94YnmlDYoHigePDaY2JDxCVA8uB7D3r17IzExEU2bNnW9ET/X3HQjJ3KUjsLLAThl4Wf0Xuv+4aNHeGv2bzjywUsIC87tsX4oHigePDaY2JDxCVA8uB7D/v37IzIyEv369XO9ET/XbDjhV3RuWA2Vihf2syXs3lMEdp2OR8y5i1jcq42nmmTmITOS/BD16DhjYwYhwHHveqCMLh6OXExCtznrMfZlzz5kXCeqvabc+ZHZxVy2WhPrDGZ9/B56fvjZYxdtae8dlu2h4oRLeVCWqG9rjYLctilvCM3sojBnbLBXdua6PehavRReq1/RE81Z2mDmgZkHjw4oNmZsAhQPrsfP6OLh01X7cTwxFV0aun/6oCOKcjGhvFtCllc/eB21Yf2+s5dReUo4SDvsHRlt/Xu5MFLeEJrZAklnGViXv/fgIf45eylOj+yOkDxB7jaXoT7FA8WDRwcUGzM2AYoH1+NndPFQ57NFeKVpTUQWLeQ6BCdqWm+LFOcoHN+367FLorQ26ax4kKdQajk1UosNmd03oT6XQRxEdet6EvIVLITYo4dQI7q5luZdKrP95AWcuXgFC99o5VL9zCpRPFA8eHxQsUHjEqB4cD12RhYP++Ou4fW5m/BJN88/ZOwRtRYPIp2vviArs1svxQ2V8sAncbiSOKBJigdxm6U4kErePyEulbI+Qls86H+cMgatu7ymTFfIC7TkLaCVatRF46c7YcSrHRXz5WFX4v+2bgS1PtlSHGktbsyU0yieOj/C2dH59Zpd+Fudcuhep7yzVR2Wp3igeHA4SFggcAhQPLgeayOLh5HL9+LszXt4oX4V1wE4WVP9QA0rEWG5wdI6E2Dr1ktxhLM8QbJr3yHKoUpSPIhTIlfMm61c8S2v0k7683KGa7NtPcyleBHtLf9+FnqPGv/YXRnCNns3gqqPmhYoxC2i0hdXb8F0EmmG4nfu3Yc4GOrCJ68iOCiHO03ZrEvxQPHg8UHFBo1LgOLB9dgZWTzUGPsz/tGiLsqEhbgOwMma6nUP8pu9+lAmR7deSsEhb6RUjopePB/BBQpmePDbMsueeJD3XahvrhSLIKOf7ox6LdspYsDRPRUpN2+gVMUnlHs25Msf4mHLH+dx6eo1/PB6Cycjo604xQPFg7aRwlIBQYDiwfUwG1U87Dp3FW8t2IqRL7V03XkXaqof4OLuCzllIaYgxDSCo1svbYmHPRtWK5aIuyEyuxdDi3hQr6EQ/xcvLeJB3KEh7qLoPWqC5Zhpf4iHL1ftQK+GFfFizXIuRMdxFYoHigfHo4QlAoYAxYProTaqeBi+dDcupz5Cp7qVXXfehZrWD3B7t0ha33o546Mh6N5/KGyJB7G2QV5uZT2dYZ0JUK95EOarMwpyukNew61eXOko8yAyIeKlFkO+XvNw6+49DPxuBeI+fRVB2bO5EB3HVSgeKB4cjxKWMDSBW2n3ceJKMmITbuLMtZs4fz0Fl2/cwbWUu0hOTUPK3fu4e/8B7j98ZPEzR7asyJUjO4Jz5UBI7iAUDs6F4gXyoHTBYJQrnB+RYflRqWgI8nlhLtWosI0qHqp8shB92jZARGgBn6G3NWUhxYCYJugzejJ2rF2W4dbLeq064Ma1BOXGTbEYsmjJUsr/xZRH594DMHHAm4r94kbN8tVqKgsbxbd/sXjRes3DXw/3zyHFgVwwKW/6FGcvCNEibwIV0xZbly/C4CmzsWjGFJs3ghYoHIYFX3xuWVx5+sgB/P7rAmX3yM2kRKxdOBcvDxiurMPw9uv3Y2dxPTkZ3772lNe6onigePDa4GLD/iFwKD4RO85ewY5zVyH+f+XmHZQOzY9iIcEIzZcXIcG5UTBvbuTPHYTgXDmRO2d2BGXPjuzZsloMfvDwEdIePEDqvQdIuXsPN1PTcP12KpJTUpF46zb+TE7B+cSbKJo/D6qHh6JBmSJoVLao8v9AfRlRPGyN/RMDF+3EiBe8t11Qr+PB0+c82PPT1cus3OE2ZcV29G9aGc89WcadZjKtS/FA8eC1wcWGfUMgJe0+VsXEYfmxOGw+dQkF8gShYvHCKB1WEGWLFESJgvm8Zsil67dw9up1nE+4jpOXr+HGnTQ0rVACT1eJQLuoCK+s8vaaM242bETxMGTxTiQ/yIpna1dy03tjVve2gPCHcEi+fRdDf1qD+E9fRdYsWbwWGIoHigevDS427F0Cy46ex097Y7E65gLqlSuBqIiiqBpRFIU8ePmNsx4kpaTiaNwVHI+7gl1nLqFtVCl0rxOJZ6qWdrYpw5U3onioNGoBBj7T2KsC03CBNLjB647EIvV2Cma97N0L2igeKB4M/qcSWOYnpNzFrG3HMXf3KZQICUatyHDUKx/utUVR7tBNe/AQu0/HY19sPC4np+C1ehXQs3FlhAV7f87XHbtdrWs08fD7yUsY/tteDOvUzFWXWU+HBCb+thXvtaqGDlVKedU6igeKB68OMDbuGQJigeOkDUfw7c4/0LZaOTSqVAbhofk907gPWolPvIntJ85h9ZEzeL3hExjUvJqyANNML6OJhwE/b8fdLDnQoaZnL0wyU0yN5kvirTsY+d8NOP/JK143neKB4sHrg4wduE7gUXo6Rq86gK82HsEzNSuiZbVI5Mvt2QtuXLfO+Zq3UtOw/kgslh04ibefqoYR7Wp6dV7WeQtdr2E08RD50U8Y9nwzFCmQ13WnWVNXBFYfOo30e6mY3jXa63ZRPFA8eH2QsQPXCCw6eBYfLd+LKuFF0L5WJWWHhFleYufGyv0ncCz+Kj5+ug461ShreNeMJB7WHo/HqFUH8O5z3p0XN3xQDebA50s246N2NdG6crjXLad4oHjw+iBjB84REGsF+v+8A+Kyos71qyIqPMy5BgxUOiY+AYt2HUWtiFBMfbGRLtduaMVpJPHQZ8FWZMmZG22re/7CJK28WM6zBK7euI2xv25C7Kjunm3Y3jMyPT093Sc9GawTnrRnsICZxNx9FxLwz/lblWxD5wZVTeKVYzcW7TyqZCH+3S0atUsZUywZSTyU+uAHjHqpBULzmWvdieORZt4SKw6cRK70+5jyYiOfOMnMAzMPPhlo7MQxgV8OnMVb8zfjzRa10aBChOMKJiux81QcZm/Yh6+7N8ULBpzGMIp4WHH0Aj5bfwSDn/X+vLjJhqiu3Rm7eBPGPlsHT1Us4RM7KR4oHnwy0NhJ5gRm7/gD49ccQu/W9VC+WKGAxXX6zyTMWLsbQ1pXx5uNnjAUB6OIh54/bkbuvMFoVS3SUHxprH0C4rC2ycu34cSHf92r4YsXxQPFgy/GGfvIhMC3O09i/LpD+Ff7hjysB4D4IPxi5Q4MaVUdrzcwzjZCI4gHsXsn/P15GPdyG4TkMed5G4H4YbN03x8omD0d4zs18Jn7FA8UDz4bbOzocQIrY+LQZ/4WDHm2iaHObfB2LMW5EON/24Lp3aLRPsq7h914yhcjiIclh89h6ubjGNDBN/PinmLLdjInMPqX3zG5cwNERxbzGSqKB4oHnw02dpSRwLnEW2g2ZSl6t6qHqhFFiMeKwNG4q5ixbjc2DeiIMqHeu5/DU+CNIB5en7sRBQuGoHmU8bfGeipuRm8nLvEGvl69E0c/6OJTVygeKB58OuDY2f8IPDdjDUoXDUWrJ7ldzt64WHf4NM5fScSS3m10P3T0Lh7EFuCI9+dh8t87IF+unLrnSQO1EVi85ziK586KMR3raavgoVIUDxQPHhpKbMYZArO2/YEFB86iH9PHDrFNW7EdXWuWRc/G+l5AqXfx8POBM5i54yT6tmvokDkLGIfAyP+ux9ddo1G/jG+zlxQPFA/G+SsxiaX3Hz5C1OiF6NuugXJlNl+ZExBXfn+5aidiRnRBjmxZdYtL7+LhlW83oESRwmjyhPlvONXtIPGwYecSkvGfDXtwcNiLHm7ZcXMUDxQPjkcJS3iUwNSNR7HpzFW8/lRtj7Zr5sa+27gPTcsVQf+n9Htwlp7FQ0rafZT6YB4GdmiEoBzZzDxUAsq3zTHnUKdkCEY+XcfnflM8UDz4fNAFeoe1xv2CV5vWCujzHJwdA+L8h3mb92P/0Becreqz8noWD/cePkLjib8iNC+3Z/psQPigozv3HignStaKKOyD3jJ2QfFA8eDzQRfIHe4+dxV9Fm7Dhy+2MByGW8lJmDiwJw5sXq/YPm7hKlSu7bt95R//vAHTuzRGPR/P7WoNlJ7Fg1YfWI4EtBKgeKB40DpWWE4DgYkTJ6JXr17Il8/21sJPVx3A6eS76FQvSkNr7hW5eOYUxvfrgbPHj9psyJWH/727d/HNJ8Ow6qc5PhcPi3fHIDIkFz5oV9OmP7du3cLMmTMxePBg98C5WJviwUVwrGZIAhQPFA+GHLh6NTp37tx4+PCh8gAbPnz4YyLiuRmrUbtCadQoU9wnLsiH/YmDezBk2hyULFdB6XfBl5/jyYZNnc4c+FM8HDx3GftOnceS3m0zsBOiYcyYMRDCLVu2bEhNTfUJW+tOKB78gp2d+okAxQPFg5+Gnjm7nTp1KoYOHYpHjx5B3Mw6cODADCKiyicLMeiZaITlz+sTAPbEg+x805KFmDSol/Jjn0+nYOW82UqmombTlhg8eRbyhfx1z4YQGz9OHpPBZlcyF+44nXDzNiYt24pj/38YjhQNkydPhrgcWAiHsWPHQjzE/fGiePAHdfbpLwIUDxQP/hp7pu03NDQUSUlJin85c+bMICLKf7oY0994Bjmy+WbFuyPxoBYG7br3wBsfjMXi2dMUoTBo0kw0e64LpMAQP9dq1sqy7sHX4uH+w4fo880ynH6/k5JpkKLh3r17CmvB/dq1a34bVxQPfkPPjv1AgOLBDvTmzZtj48aNfggJuzQjgRw5cqBjx47YUOZpfNuns89cVE8zyE6tswpSHEgxIH9+eeBwdHj1TUUsJCdcUaY9wkpE+G3Ng7D/9emL0OLccixduhT379/3GUctHYkpq3HjxqFfv35airMMCRiaAMWDocNH4/VIoHDhwkhMTDRM5kGLeBDOiGmMoFx5/CYeHGUeChUqZOGux3FBm0jATAQoHswUTfridwJizcOwYcOURZN6XvMgMhK//zofzZ/vhh2rlyrrHjLLPOhBPOh9zYPfBx8NIAEfEqB48CFsdmV+AkbZbSGyDTF7dihrHKR4sF7jIKYtuvZ917JYUoiL8MiKflvzoPfdFuYf3fSQBP5HgOKBo4EEPEjA0TkPY1YfwKmkVHSqX8WDvdpuytE5D0IcFIsoY9ltUbZyVXQfMBw/TRljORtCCIqGbTtapipEmZDCRXBgywalU18umly06xgqFMqN99vq85wHrweUHZCAjghQPOgoGDTF/ASMfMKkv6Oj9xMm/c2H/ZOALwlQPPiSNvsiAQC828L5YWCEuy2c94o1SMC4BCgejBs7Wm5QAlN+P4ItZxPwd96qqTmC4lbNJmXDMKB5Nc11WJAESMB7BCgevMeWLZOATQL3Hz5C1OiF6NuuAcoWKUhKDgicvXodX67aiZgRXZAjW1byIgES0AEBigcdBIEmBB6Bmdv+wMIDZ9GvQ6PAc95Jj6et2I4uNcugV+PKTtZkcRIgAW8RoHjwFlm2SwIOCDw3Yw1KFQ1F6yfLk5UdAusOn8b5K4lY0rsNGZEACeiIAMWDjoJBUwKLwLnEW2g2ZSl6t6qHqhFFAst5Dd4ejbuKGet2Y9OAjigTavuKcw3NsAgJkIAXCFA8eAEqmyQBrQRWxcThrflbMOTZJggPza+1munLxSfexPjftmB6tyZoHxVhen/pIAkYjQDFg9EiRntNR2DOzpOYsO4Q/tW+IUoU5DfsS9dv4YuVOzCkVXW83qCi6eJNh0jADAQoHswQRfpgeALf7DiBz9ccRO/W9VC+WCHD++OqA+I8hxlrd+PdNjXwRsNKrjbDeiRAAl4mQPHgZcBsngS0Evj5wFn0mb8ZPVvWQf3y4VqrmabcrlPxmLVhL6Z3a4oXa5Y1jV90hATMSIDiwYxRpU+GJbDvQgL+OX8rosKL4IUGVQ3rh7OG/7LzKGLir+Lf3aJRu1SYs9VZngRIwMcEKB58DJzdkYAjAmkPHqLfz9txIC4RnetXRVS4eR+mMfEJWLTrKGpGhGLai40QlD2bIzx8nwRIQAcEKB50EASaQAK2CCw+dBYfLtuLKuFF0L5WJRTMm9s0oK7fTsWK/SeUbMPHz9RFp+plTOMbHSGBQCBA8RAIUaaPhiXwKD0do1cewFebjuDZmhXRolok8uUOMqw/t1LTsOFILH47cBJvP1UNI9rVRNYsWQzrDw0ngUAlQPEQqJGn34YicPnGHUz6/Qi+3fEH2lQrh8aVyhjqXAhxbsO2E+ew5sgZvN7wCQxqXg3FC+QxVAxoLAmQwP8IUDxwNJCAgQgkpNzFzG3HMW/3KZQICUatyHDUKx+uy7UCYu3GntPx2Bcbj0vJKXitXgX0bFwZYcG5DEScppIACdgiQPHAcUECBiWw7Oh5/LQ3FqtjLqBeuRKon4rGQgAAAXRJREFUHFEU1SKKolCw/9ZGJKWk4kjcFRyPu4LdZy6hbVQpdK8TiWeqljYoZZpNAiRA8cAxQAImJJCSdh/imOvlx+Kw+dQlFMgThIrFC6N0WEHlym9vnlopToMUV2ZfSLiOE5ev4cadNDStUAJPV4lAu6gIBAflMCFxukQCJMDMA8cACZiMwKH4ROw4ewU7z13FwfhEXLl5B6VC86N4SDAK5cuLgsG5lZ0b+XMHIThXTuTOmR1B2bMje7asFhIPHj5C2oMHSL33ACl37+FmahrEDonrKalIvHUbV5JTcD7xJormz4Ma4aFoUKYIGpYtiurhoSajSXdIgASYeeAYIIEAJHAr7T5OXElGbMJNnLl2E+eTUnD55h1cS7mL5NQ0pNy9j7v3H+D+w0eA2PiQDuTIlhW5cmRHcK4cCMkdhMLBuZQFjqULBqNc4fyIDMuPSkVDkI+ZhQAcUXSZBABmHjgKSIAELATS0wHunOSAIAEScETg/wBnT/MpsFEMKQAAAABJRU5ErkJggg==)"
      ]
    },
    {
      "cell_type": "markdown",
      "metadata": {
        "id": "Ca0lUOulimxi"
      },
      "source": [
        "##4.**Identity, Ones, and Zeros Matrix**"
      ]
    },
    {
      "cell_type": "markdown",
      "metadata": {
        "id": "Ph7aHMvHip2j"
      },
      "source": [
        "#### **Zeros Matrix**"
      ]
    },
    {
      "cell_type": "code",
      "metadata": {
        "colab": {
          "base_uri": "https://localhost:8080/"
        },
        "id": "zqhU8qlWinyv",
        "outputId": "6fb9eec2-ca5d-4d58-8818-c123c9b807d8"
      },
      "source": [
        "zero_mat_row = np.zeros((5,5))\n",
        "zero_mat_sqr = np.zeros((6,7))\n",
        "zero_mat_rct = np.zeros((7,9))\n",
        "\n",
        "print(f'Zero Row Matrix: \\n{zero_mat_row}')\n",
        "print(f'Zero Square Matrix: \\n{zero_mat_sqr}')\n",
        "print(f'Zero Rectangular Matrix: \\n{zero_mat_rct}')\n",
        "\n"
      ],
      "execution_count": null,
      "outputs": [
        {
          "output_type": "stream",
          "name": "stdout",
          "text": [
            "Zero Row Matrix: \n",
            "[[0. 0. 0. 0. 0.]\n",
            " [0. 0. 0. 0. 0.]\n",
            " [0. 0. 0. 0. 0.]\n",
            " [0. 0. 0. 0. 0.]\n",
            " [0. 0. 0. 0. 0.]]\n",
            "Zero Square Matrix: \n",
            "[[0. 0. 0. 0. 0. 0. 0.]\n",
            " [0. 0. 0. 0. 0. 0. 0.]\n",
            " [0. 0. 0. 0. 0. 0. 0.]\n",
            " [0. 0. 0. 0. 0. 0. 0.]\n",
            " [0. 0. 0. 0. 0. 0. 0.]\n",
            " [0. 0. 0. 0. 0. 0. 0.]]\n",
            "Zero Rectangular Matrix: \n",
            "[[0. 0. 0. 0. 0. 0. 0. 0. 0.]\n",
            " [0. 0. 0. 0. 0. 0. 0. 0. 0.]\n",
            " [0. 0. 0. 0. 0. 0. 0. 0. 0.]\n",
            " [0. 0. 0. 0. 0. 0. 0. 0. 0.]\n",
            " [0. 0. 0. 0. 0. 0. 0. 0. 0.]\n",
            " [0. 0. 0. 0. 0. 0. 0. 0. 0.]\n",
            " [0. 0. 0. 0. 0. 0. 0. 0. 0.]]\n"
          ]
        }
      ]
    },
    {
      "cell_type": "markdown",
      "metadata": {
        "id": "ysN8iyMM0n3D"
      },
      "source": [
        "#### **Flowchart**\n",
        "\n",
        "![zeros.png](data:image/png;base64,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)"
      ]
    },
    {
      "cell_type": "markdown",
      "metadata": {
        "id": "PD4R-2A6jWM-"
      },
      "source": [
        "#### **Ones Matrix**"
      ]
    },
    {
      "cell_type": "code",
      "metadata": {
        "colab": {
          "base_uri": "https://localhost:8080/"
        },
        "id": "jzX2y3yAjUAb",
        "outputId": "82c5eb82-8626-46c3-876b-58789ca6f016"
      },
      "source": [
        "ones_mat_row = np.ones((4,4))\n",
        "ones_mat_sqr = np.ones((5,6))\n",
        "ones_mat_rct = np.ones((6,8))\n",
        "\n",
        "\n",
        "print(f'Ones Row Matrix: \\n{ones_mat_row}')\n",
        "print(f'Ones square Matrix: \\n{ones_mat_sqr}')\n",
        "print(f'Ones Rectangular Matrix: \\n{ones_mat_rct}')"
      ],
      "execution_count": null,
      "outputs": [
        {
          "output_type": "stream",
          "name": "stdout",
          "text": [
            "Ones Row Matrix: \n",
            "[[1. 1. 1. 1.]\n",
            " [1. 1. 1. 1.]\n",
            " [1. 1. 1. 1.]\n",
            " [1. 1. 1. 1.]]\n",
            "Ones square Matrix: \n",
            "[[1. 1. 1. 1. 1. 1.]\n",
            " [1. 1. 1. 1. 1. 1.]\n",
            " [1. 1. 1. 1. 1. 1.]\n",
            " [1. 1. 1. 1. 1. 1.]\n",
            " [1. 1. 1. 1. 1. 1.]]\n",
            "Ones Rectangular Matrix: \n",
            "[[1. 1. 1. 1. 1. 1. 1. 1.]\n",
            " [1. 1. 1. 1. 1. 1. 1. 1.]\n",
            " [1. 1. 1. 1. 1. 1. 1. 1.]\n",
            " [1. 1. 1. 1. 1. 1. 1. 1.]\n",
            " [1. 1. 1. 1. 1. 1. 1. 1.]\n",
            " [1. 1. 1. 1. 1. 1. 1. 1.]]\n"
          ]
        }
      ]
    },
    {
      "cell_type": "markdown",
      "metadata": {
        "id": "tIGviWHU0CNg"
      },
      "source": [
        "#### **Flowchart**\n",
        "\n",
        "![ones.png](data:image/png;base64,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)"
      ]
    },
    {
      "cell_type": "markdown",
      "metadata": {
        "id": "GCvRi1ytjY9r"
      },
      "source": [
        "### **Identity Matrix**"
      ]
    },
    {
      "cell_type": "code",
      "metadata": {
        "colab": {
          "base_uri": "https://localhost:8080/"
        },
        "id": "y4mgVJBpjaiA",
        "outputId": "cc9af579-8c32-473f-a080-5127ea7d90f0"
      },
      "source": [
        "np.eye(7)"
      ],
      "execution_count": null,
      "outputs": [
        {
          "output_type": "execute_result",
          "data": {
            "text/plain": [
              "array([[1., 0., 0., 0., 0., 0., 0.],\n",
              "       [0., 1., 0., 0., 0., 0., 0.],\n",
              "       [0., 0., 1., 0., 0., 0., 0.],\n",
              "       [0., 0., 0., 1., 0., 0., 0.],\n",
              "       [0., 0., 0., 0., 1., 0., 0.],\n",
              "       [0., 0., 0., 0., 0., 1., 0.],\n",
              "       [0., 0., 0., 0., 0., 0., 1.]])"
            ]
          },
          "metadata": {},
          "execution_count": 16
        }
      ]
    },
    {
      "cell_type": "code",
      "metadata": {
        "colab": {
          "base_uri": "https://localhost:8080/"
        },
        "id": "iOXfKv-AjdUY",
        "outputId": "934e7cd5-bb62-4e29-d364-081ae4ba28a1"
      },
      "source": [
        "np.identity(9)"
      ],
      "execution_count": null,
      "outputs": [
        {
          "output_type": "execute_result",
          "data": {
            "text/plain": [
              "array([[1., 0., 0., 0., 0., 0., 0., 0., 0.],\n",
              "       [0., 1., 0., 0., 0., 0., 0., 0., 0.],\n",
              "       [0., 0., 1., 0., 0., 0., 0., 0., 0.],\n",
              "       [0., 0., 0., 1., 0., 0., 0., 0., 0.],\n",
              "       [0., 0., 0., 0., 1., 0., 0., 0., 0.],\n",
              "       [0., 0., 0., 0., 0., 1., 0., 0., 0.],\n",
              "       [0., 0., 0., 0., 0., 0., 1., 0., 0.],\n",
              "       [0., 0., 0., 0., 0., 0., 0., 1., 0.],\n",
              "       [0., 0., 0., 0., 0., 0., 0., 0., 1.]])"
            ]
          },
          "metadata": {},
          "execution_count": 17
        }
      ]
    },
    {
      "cell_type": "markdown",
      "metadata": {
        "id": "K40_SMFDyuGa"
      },
      "source": [
        "### **Flowchart**\n",
        "\n",
        "![npeye.png](data:image/png;base64,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)"
      ]
    },
    {
      "cell_type": "markdown",
      "metadata": {
        "id": "FpHK-IBjjfWo"
      },
      "source": [
        "##***Task 2***"
      ]
    },
    {
      "cell_type": "markdown",
      "metadata": {
        "id": "jPNqg-vYjh6j"
      },
      "source": [
        "Create a function named mat_operations() that takes in two matrices a input parameters it should:\n",
        "\n",
        "1. Determines if the matrices are viable for operation and returns your own error message if they are not viable.\n",
        "\n",
        "2. Returns the sum of the matrices.\n",
        "\n",
        "3. Returns the differen of the matrices.\n",
        "\n",
        "4. Returns the element-wise multiplication of the matrices.\n",
        "\n",
        "5. Returns the element-wise division of the matrices.\n",
        "\n",
        "\n",
        "Use sample matrices in which their shapes are not lower than $(3,3)$. In your methodology, create a flowchart discuss the functions and methods you have done. Present your results in the results section showing the description of each matrix you have declared."
      ]
    },
    {
      "cell_type": "code",
      "metadata": {
        "id": "q_5w14e8jkH9"
      },
      "source": [
        "def mat_operations(matrix):\n",
        "    print(f'Matrix:\\n{matrix}\\n\\nShape:\\t{matrix.shape}\\nRank:\\t{matrix.ndim}\\n')"
      ],
      "execution_count": null,
      "outputs": []
    },
    {
      "cell_type": "markdown",
      "metadata": {
        "id": "vMuWu3Y8jnzj"
      },
      "source": [
        "###1. **Determines if the matrices are viable for operation and returns your own error message if they are not viable.**\n",
        "\n",
        "\n",
        "\n",
        "*   Yes the matrices are viable.\n",
        "\n",
        "\n"
      ]
    },
    {
      "cell_type": "markdown",
      "metadata": {
        "id": "E661nc4rjqLa"
      },
      "source": [
        "###2. ***Addition***"
      ]
    },
    {
      "cell_type": "code",
      "metadata": {
        "colab": {
          "base_uri": "https://localhost:8080/"
        },
        "id": "Y5q8sr58jojY",
        "outputId": "c47b24a2-c179-4ca0-d8d6-ec1f7ab5379d"
      },
      "source": [
        "A = np.array([\n",
        "   [5,4],\n",
        "   [9,5],\n",
        "   [7,7],\n",
        "   [6,6],\n",
        "   [10,4]           \n",
        "])\n",
        "B = np.array([\n",
        "   [5,7],\n",
        "   [6,8],\n",
        "   [4,5],\n",
        "   [7,9],\n",
        "   [5,11]    \n",
        "])\n",
        "A + B"
      ],
      "execution_count": null,
      "outputs": [
        {
          "output_type": "execute_result",
          "data": {
            "text/plain": [
              "array([[10, 11],\n",
              "       [15, 13],\n",
              "       [11, 12],\n",
              "       [13, 15],\n",
              "       [15, 15]])"
            ]
          },
          "metadata": {},
          "execution_count": 19
        }
      ]
    },
    {
      "cell_type": "code",
      "metadata": {
        "colab": {
          "base_uri": "https://localhost:8080/"
        },
        "id": "JXCbU98OjsHM",
        "outputId": "89fc6cd4-c5b7-4170-c203-18ce6e10ac3f"
      },
      "source": [
        "4+A"
      ],
      "execution_count": null,
      "outputs": [
        {
          "output_type": "execute_result",
          "data": {
            "text/plain": [
              "array([[ 9,  8],\n",
              "       [13,  9],\n",
              "       [11, 11],\n",
              "       [10, 10],\n",
              "       [14,  8]])"
            ]
          },
          "metadata": {},
          "execution_count": 20
        }
      ]
    },
    {
      "cell_type": "code",
      "metadata": {
        "colab": {
          "base_uri": "https://localhost:8080/"
        },
        "id": "xa-VJA30juFB",
        "outputId": "d5500f0d-0efe-448d-d806-f5e3472def50"
      },
      "source": [
        "6+B"
      ],
      "execution_count": null,
      "outputs": [
        {
          "output_type": "execute_result",
          "data": {
            "text/plain": [
              "array([[11, 13],\n",
              "       [12, 14],\n",
              "       [10, 11],\n",
              "       [13, 15],\n",
              "       [11, 17]])"
            ]
          },
          "metadata": {},
          "execution_count": 21
        }
      ]
    },
    {
      "cell_type": "markdown",
      "metadata": {
        "id": "OmOGGw0UyZjj"
      },
      "source": [
        "### **Flowchart**\n",
        "\n",
        "![add.png](data:image/png;base64,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)"
      ]
    },
    {
      "cell_type": "markdown",
      "metadata": {
        "id": "SLS3AFDLjw7Q"
      },
      "source": [
        "###3. ***Subtraction***"
      ]
    },
    {
      "cell_type": "code",
      "metadata": {
        "colab": {
          "base_uri": "https://localhost:8080/"
        },
        "id": "J-Nbw6U6jybs",
        "outputId": "6bb02153-6de5-4ea7-8e06-16b4acde85d8"
      },
      "source": [
        "A-B"
      ],
      "execution_count": null,
      "outputs": [
        {
          "output_type": "execute_result",
          "data": {
            "text/plain": [
              "array([[ 0, -3],\n",
              "       [ 3, -3],\n",
              "       [ 3,  2],\n",
              "       [-1, -3],\n",
              "       [ 5, -7]])"
            ]
          },
          "metadata": {},
          "execution_count": 22
        }
      ]
    },
    {
      "cell_type": "code",
      "metadata": {
        "colab": {
          "base_uri": "https://localhost:8080/"
        },
        "id": "oKdzwTCwj0Xx",
        "outputId": "8babaf70-fc27-40a6-de1c-720c3d246c96"
      },
      "source": [
        "6-A"
      ],
      "execution_count": null,
      "outputs": [
        {
          "output_type": "execute_result",
          "data": {
            "text/plain": [
              "array([[ 1,  2],\n",
              "       [-3,  1],\n",
              "       [-1, -1],\n",
              "       [ 0,  0],\n",
              "       [-4,  2]])"
            ]
          },
          "metadata": {},
          "execution_count": 23
        }
      ]
    },
    {
      "cell_type": "code",
      "metadata": {
        "colab": {
          "base_uri": "https://localhost:8080/"
        },
        "id": "xzuwKL7Gj2Si",
        "outputId": "9afa8b0a-7c68-4aa9-89bb-79a99f8c8984"
      },
      "source": [
        "5-B"
      ],
      "execution_count": null,
      "outputs": [
        {
          "output_type": "execute_result",
          "data": {
            "text/plain": [
              "array([[ 0, -2],\n",
              "       [-1, -3],\n",
              "       [ 1,  0],\n",
              "       [-2, -4],\n",
              "       [ 0, -6]])"
            ]
          },
          "metadata": {},
          "execution_count": 24
        }
      ]
    },
    {
      "cell_type": "markdown",
      "metadata": {
        "id": "fuDO1G3pxyG4"
      },
      "source": [
        "###**Flowchart**\n",
        "\n",
        "![subtraction.png](data:image/png;base64,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)"
      ]
    },
    {
      "cell_type": "markdown",
      "metadata": {
        "id": "BpZ_PyILj3_Q"
      },
      "source": [
        "###**4.** ***Element Wise Multiplication***"
      ]
    },
    {
      "cell_type": "code",
      "metadata": {
        "colab": {
          "base_uri": "https://localhost:8080/"
        },
        "id": "0dUGrFizj5lY",
        "outputId": "7d9af67e-68a5-4b10-a474-e48865990e8d"
      },
      "source": [
        "A*B\n",
        "np.multiply(A,B)"
      ],
      "execution_count": null,
      "outputs": [
        {
          "output_type": "execute_result",
          "data": {
            "text/plain": [
              "array([[25, 28],\n",
              "       [54, 40],\n",
              "       [28, 35],\n",
              "       [42, 54],\n",
              "       [50, 44]])"
            ]
          },
          "metadata": {},
          "execution_count": 25
        }
      ]
    },
    {
      "cell_type": "code",
      "metadata": {
        "colab": {
          "base_uri": "https://localhost:8080/"
        },
        "id": "IZGCgSbvj6-x",
        "outputId": "78242150-7973-40ee-ed30-eaea202ae8f7"
      },
      "source": [
        "4*A"
      ],
      "execution_count": null,
      "outputs": [
        {
          "output_type": "execute_result",
          "data": {
            "text/plain": [
              "array([[20, 16],\n",
              "       [36, 20],\n",
              "       [28, 28],\n",
              "       [24, 24],\n",
              "       [40, 16]])"
            ]
          },
          "metadata": {},
          "execution_count": 26
        }
      ]
    },
    {
      "cell_type": "code",
      "metadata": {
        "colab": {
          "base_uri": "https://localhost:8080/"
        },
        "id": "7c6f7O75j8QO",
        "outputId": "f4b67e30-178e-4692-f8fe-901c4013fc41"
      },
      "source": [
        "6*B"
      ],
      "execution_count": null,
      "outputs": [
        {
          "output_type": "execute_result",
          "data": {
            "text/plain": [
              "array([[30, 42],\n",
              "       [36, 48],\n",
              "       [24, 30],\n",
              "       [42, 54],\n",
              "       [30, 66]])"
            ]
          },
          "metadata": {},
          "execution_count": 27
        }
      ]
    },
    {
      "cell_type": "markdown",
      "metadata": {
        "id": "NDAaSDuQyTFA"
      },
      "source": [
        "### **Flowchart**\n",
        "\n",
        "![Multip.png](data:image/png;base64,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)"
      ]
    },
    {
      "cell_type": "markdown",
      "metadata": {
        "id": "pQy2q5awj-tS"
      },
      "source": [
        "### 4. ***Element Wise Division***"
      ]
    },
    {
      "cell_type": "code",
      "metadata": {
        "colab": {
          "base_uri": "https://localhost:8080/"
        },
        "id": "YuOp5WtNkABL",
        "outputId": "d6bd7e3b-0b95-444d-c9ea-c61c4f222f45"
      },
      "source": [
        "A/B"
      ],
      "execution_count": null,
      "outputs": [
        {
          "output_type": "execute_result",
          "data": {
            "text/plain": [
              "array([[1.        , 0.57142857],\n",
              "       [1.5       , 0.625     ],\n",
              "       [1.75      , 1.4       ],\n",
              "       [0.85714286, 0.66666667],\n",
              "       [2.        , 0.36363636]])"
            ]
          },
          "metadata": {},
          "execution_count": 28
        }
      ]
    },
    {
      "cell_type": "code",
      "metadata": {
        "colab": {
          "base_uri": "https://localhost:8080/"
        },
        "id": "Mt3RkKnqkBQZ",
        "outputId": "893619a7-a96a-4337-d0e9-e1c6f964554e"
      },
      "source": [
        "\n",
        "alpha=12**-12\n",
        "A/(alpha+B)"
      ],
      "execution_count": null,
      "outputs": [
        {
          "output_type": "execute_result",
          "data": {
            "text/plain": [
              "array([[1.        , 0.57142857],\n",
              "       [1.5       , 0.625     ],\n",
              "       [1.75      , 1.4       ],\n",
              "       [0.85714286, 0.66666667],\n",
              "       [2.        , 0.36363636]])"
            ]
          },
          "metadata": {},
          "execution_count": 29
        }
      ]
    },
    {
      "cell_type": "markdown",
      "metadata": {
        "id": "2zOJFs_QyJyc"
      },
      "source": [
        "### **Flowchart**\n",
        "\n",
        "![division.png](data:image/png;base64,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)"
      ]
    },
    {
      "cell_type": "markdown",
      "metadata": {
        "id": "1ZIXHWUL-wSm"
      },
      "source": [
        "#***Conclusion***\n",
        "\n",
        "\n",
        "\n",
        "> In conclusion, the past laboratory activity helped us in encoding the codes much easier and since we are already familiar in using Google Colab it reduces our workload since we already know how to put a text or a function and how the Google Colab works. This activity aims to help the student in teaching and helping the student in executing codes that is about matrices.In this laboratory activity, we learned that a user can execute different matrices like zeros, ones, row, identity, null etc. and operations such as addition, subtraction, multiplication, and division using Google Colab. In this laboratory experiment we gained new knowledge that we might use or help us in other laboratory activity in the future. Matrix operations has a lot of contributions or help in our world today, basically a matrix is a representation of equations and is widely used in solving complex calculations. It may be also used in storing data, statistics and in doing studies in different professional fields. Matrix operations may help in providing a much easier task especially when it comes to programming which helps to innovate or upgrade our technology.\n",
        "\n",
        "\n",
        "\n"
      ]
    }
  ]
}